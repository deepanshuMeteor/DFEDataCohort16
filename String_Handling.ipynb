{
  "nbformat": 4,
  "nbformat_minor": 0,
  "metadata": {
    "colab": {
      "name": "String Handling.ipynb",
      "provenance": [],
      "authorship_tag": "ABX9TyNCNZjDhQlgmmAFENc+Sc6z",
      "include_colab_link": true
    },
    "kernelspec": {
      "name": "python3",
      "display_name": "Python 3"
    },
    "language_info": {
      "name": "python"
    }
  },
  "cells": [
    {
      "cell_type": "markdown",
      "metadata": {
        "id": "view-in-github",
        "colab_type": "text"
      },
      "source": [
        "<a href=\"https://colab.research.google.com/github/deepanshuMeteor/DFEDataCohort16/blob/main/String_Handling.ipynb\" target=\"_parent\"><img src=\"https://colab.research.google.com/assets/colab-badge.svg\" alt=\"Open In Colab\"/></a>"
      ]
    },
    {
      "cell_type": "markdown",
      "source": [
        "Working with spaces in string:\n",
        "\n",
        "\\n - > Enter on keyboard - new line     \n",
        "\\t  > table on keyboard - two spaces\n",
        "  \n"
      ],
      "metadata": {
        "id": "ql3EODAC3JHJ"
      }
    },
    {
      "cell_type": "code",
      "execution_count": 11,
      "metadata": {
        "colab": {
          "base_uri": "https://localhost:8080/"
        },
        "id": "j5Zy_tzrvOeE",
        "outputId": "d67946e1-c607-46b6-cad3-c83e2ab7e37a"
      },
      "outputs": [
        {
          "output_type": "stream",
          "name": "stdout",
          "text": [
            "['Belgium', '10445852', 'Brussels', '737966', 'Europe', 'Euro', 'Catholic', 'Dutch', 'Frech', 'German']\n",
            "<class 'int'>\n",
            "<class 'str'>\n"
          ]
        }
      ],
      "source": [
        "belgium = 'Belgium,10445852,Brussels,737966,Europe,Euro,Catholic,Dutch,Frech,German'\n",
        "\n",
        "\n",
        "items = belgium.split(',')\n",
        "print(items)\n",
        "strrr = items[1]\n",
        "nuumbr = int(items[1])\n",
        "print(type(nuumbr))\n",
        "print(type(strrr))\n"
      ]
    },
    {
      "cell_type": "code",
      "source": [
        "if 'belgium'.istitle():\n",
        "  print('Title')\n",
        "else:\n",
        "  print('NO')"
      ],
      "metadata": {
        "colab": {
          "base_uri": "https://localhost:8080/"
        },
        "id": "NerxdDMR1cbK",
        "outputId": "b3937689-c1ed-4714-b391-268ec74593e8"
      },
      "execution_count": 13,
      "outputs": [
        {
          "output_type": "stream",
          "name": "stdout",
          "text": [
            "NO\n"
          ]
        }
      ]
    },
    {
      "cell_type": "code",
      "source": [
        "text = 't\\r\\n'\n",
        "if text.isspace():\n",
        "    print('string is whitespace')"
      ],
      "metadata": {
        "id": "c_NhDtW_2X7I"
      },
      "execution_count": 19,
      "outputs": []
    },
    {
      "cell_type": "code",
      "source": [
        "print('-'*len(belgium))"
      ],
      "metadata": {
        "colab": {
          "base_uri": "https://localhost:8080/"
        },
        "id": "uf5XYN6-wLVm",
        "outputId": "c5478ff4-7ee7-4f32-95cb-64a57d53af50"
      },
      "execution_count": 2,
      "outputs": [
        {
          "output_type": "stream",
          "name": "stdout",
          "text": [
            "-------------------------------------------------------------------------\n"
          ]
        }
      ]
    },
    {
      "cell_type": "code",
      "source": [
        "print(':'.join(items))"
      ],
      "metadata": {
        "colab": {
          "base_uri": "https://localhost:8080/"
        },
        "id": "-s3GE8B5wedN",
        "outputId": "747c794c-d06f-4312-f7f9-8e70aa7416ca"
      },
      "execution_count": 3,
      "outputs": [
        {
          "output_type": "stream",
          "name": "stdout",
          "text": [
            "Belgium:10445852:Brussels:737966:Europe:Euro:Catholic:Dutchh:Frech:German\n"
          ]
        }
      ]
    },
    {
      "cell_type": "code",
      "source": [
        "strr = \"      my name is john.       \"\n",
        "output = strr.strip()\n",
        "print(output)"
      ],
      "metadata": {
        "colab": {
          "base_uri": "https://localhost:8080/"
        },
        "id": "DOUH-g4exsmm",
        "outputId": "2edbe03f-b1da-4cb9-c440-b1a281a34362"
      },
      "execution_count": 8,
      "outputs": [
        {
          "output_type": "stream",
          "name": "stdout",
          "text": [
            "my name is john.\n"
          ]
        }
      ]
    },
    {
      "cell_type": "code",
      "source": [
        ""
      ],
      "metadata": {
        "id": "TOVVUzWX3CnD"
      },
      "execution_count": null,
      "outputs": []
    }
  ]
}