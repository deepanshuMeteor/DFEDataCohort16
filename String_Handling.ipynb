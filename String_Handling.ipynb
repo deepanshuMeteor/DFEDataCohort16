{
  "nbformat": 4,
  "nbformat_minor": 0,
  "metadata": {
    "colab": {
      "name": "String Handling.ipynb",
      "provenance": [],
      "collapsed_sections": [],
      "authorship_tag": "ABX9TyM+d24YXx8AOn8S+GE1rKjl",
      "include_colab_link": true
    },
    "kernelspec": {
      "name": "python3",
      "display_name": "Python 3"
    },
    "language_info": {
      "name": "python"
    }
  },
  "cells": [
    {
      "cell_type": "markdown",
      "metadata": {
        "id": "view-in-github",
        "colab_type": "text"
      },
      "source": [
        "<a href=\"https://colab.research.google.com/github/deepanshuMeteor/DFEDataCohort16/blob/main/String_Handling.ipynb\" target=\"_parent\"><img src=\"https://colab.research.google.com/assets/colab-badge.svg\" alt=\"Open In Colab\"/></a>"
      ]
    },
    {
      "cell_type": "markdown",
      "source": [
        "Working with spaces in string:\n",
        "\n",
        "\\n - > Enter on keyboard - new line     \n",
        "\\t - > table on keyboard - two spaces\n",
        "  \n"
      ],
      "metadata": {
        "id": "ql3EODAC3JHJ"
      }
    },
    {
      "cell_type": "code",
      "execution_count": 11,
      "metadata": {
        "colab": {
          "base_uri": "https://localhost:8080/"
        },
        "id": "j5Zy_tzrvOeE",
        "outputId": "d67946e1-c607-46b6-cad3-c83e2ab7e37a"
      },
      "outputs": [
        {
          "output_type": "stream",
          "name": "stdout",
          "text": [
            "['Belgium', '10445852', 'Brussels', '737966', 'Europe', 'Euro', 'Catholic', 'Dutch', 'Frech', 'German']\n",
            "<class 'int'>\n",
            "<class 'str'>\n"
          ]
        }
      ],
      "source": [
        "belgium = 'Belgium,10445852,Brussels,737966,Europe,Euro,Catholic,Dutch,Frech,German'\n",
        "\n",
        "\n",
        "items = belgium.split(',')\n",
        "print(items)\n",
        "strrr = items[1]\n",
        "nuumbr = int(items[1])\n",
        "print(type(nuumbr))\n",
        "print(type(strrr))\n"
      ]
    },
    {
      "cell_type": "code",
      "source": [
        "if 'belgium'.istitle():\n",
        "  print('Title')\n",
        "else:\n",
        "  print('NO')"
      ],
      "metadata": {
        "colab": {
          "base_uri": "https://localhost:8080/"
        },
        "id": "NerxdDMR1cbK",
        "outputId": "b3937689-c1ed-4714-b391-268ec74593e8"
      },
      "execution_count": 13,
      "outputs": [
        {
          "output_type": "stream",
          "name": "stdout",
          "text": [
            "NO\n"
          ]
        }
      ]
    },
    {
      "cell_type": "code",
      "source": [
        "text = 't\\r\\n'\n",
        "if text.isspace():\n",
        "    print('string is whitespace')"
      ],
      "metadata": {
        "id": "c_NhDtW_2X7I"
      },
      "execution_count": 19,
      "outputs": []
    },
    {
      "cell_type": "code",
      "source": [
        "print('-'*len(belgium))"
      ],
      "metadata": {
        "colab": {
          "base_uri": "https://localhost:8080/"
        },
        "id": "uf5XYN6-wLVm",
        "outputId": "c5478ff4-7ee7-4f32-95cb-64a57d53af50"
      },
      "execution_count": 2,
      "outputs": [
        {
          "output_type": "stream",
          "name": "stdout",
          "text": [
            "-------------------------------------------------------------------------\n"
          ]
        }
      ]
    },
    {
      "cell_type": "code",
      "source": [
        "print(':'.join(items))"
      ],
      "metadata": {
        "colab": {
          "base_uri": "https://localhost:8080/"
        },
        "id": "-s3GE8B5wedN",
        "outputId": "747c794c-d06f-4312-f7f9-8e70aa7416ca"
      },
      "execution_count": 3,
      "outputs": [
        {
          "output_type": "stream",
          "name": "stdout",
          "text": [
            "Belgium:10445852:Brussels:737966:Europe:Euro:Catholic:Dutchh:Frech:German\n"
          ]
        }
      ]
    },
    {
      "cell_type": "code",
      "source": [
        "strr = \"      my name is john.       \"\n",
        "output = strr.strip()\n",
        "print(output)"
      ],
      "metadata": {
        "colab": {
          "base_uri": "https://localhost:8080/"
        },
        "id": "DOUH-g4exsmm",
        "outputId": "2edbe03f-b1da-4cb9-c440-b1a281a34362"
      },
      "execution_count": 8,
      "outputs": [
        {
          "output_type": "stream",
          "name": "stdout",
          "text": [
            "my name is john.\n"
          ]
        }
      ]
    },
    {
      "cell_type": "code",
      "source": [
        "# dictionary - planets\n",
        "planets = {'Mercury': 57.91,\n",
        "           'Venus': 108.2,\n",
        "           'Earth': 149.597870,\n",
        "           'Mars': 227.94\n",
        "}\n",
        "for i, key in enumerate(planets.keys(), 1):\n",
        "    print(\"{:2d} {:<10s} {:06.2f} Gm\".format(i, key, planets[key]))"
      ],
      "metadata": {
        "colab": {
          "base_uri": "https://localhost:8080/"
        },
        "id": "TOVVUzWX3CnD",
        "outputId": "d0a90437-acb8-412e-809d-f2a688e0d8c5"
      },
      "execution_count": 21,
      "outputs": [
        {
          "output_type": "stream",
          "name": "stdout",
          "text": [
            " 1 Mercury    057.91 Gm\n",
            " 2 Venus      108.20 Gm\n",
            " 3 Earth      149.60 Gm\n",
            " 4 Mars       227.94 Gm\n"
          ]
        }
      ]
    },
    {
      "cell_type": "code",
      "source": [
        "text = 'hello'\n",
        "print(text.capitalize())\n",
        "print(text.upper())\n",
        "print('<'+text.center(12)+'>')\n",
        "print('<'+text.ljust(12)+'>')\n",
        "print('<'+text.rjust(12)+'>')\n",
        "print('<'+text.zfill(12)+'>')"
      ],
      "metadata": {
        "colab": {
          "base_uri": "https://localhost:8080/"
        },
        "id": "tNupxNu47KcE",
        "outputId": "d544261f-ba0e-4b62-e53b-a8d572d42828"
      },
      "execution_count": 22,
      "outputs": [
        {
          "output_type": "stream",
          "name": "stdout",
          "text": [
            "Hello\n",
            "HELLO\n",
            "<   hello    >\n",
            "<hello       >\n",
            "<       hello>\n",
            "<0000000hello>\n"
          ]
        }
      ]
    },
    {
      "cell_type": "code",
      "source": [
        "names = ['Tom', 'Harry', 'Jane', 'Mary']\n",
        "print(f\"The third member is {names[3]}\")"
      ],
      "metadata": {
        "colab": {
          "base_uri": "https://localhost:8080/"
        },
        "id": "y-aIXIPh7weT",
        "outputId": "57872dfb-9411-4e34-960c-acc3d2739e9f"
      },
      "execution_count": 23,
      "outputs": [
        {
          "output_type": "stream",
          "name": "stdout",
          "text": [
            "The third member is Mary\n"
          ]
        }
      ]
    },
    {
      "cell_type": "code",
      "source": [
        "names = ['Tom', 'Harry', 'Jane', 'Mary']\n",
        "suffix = ['st', 'nd', 'rd', 'th']\n",
        "n=1\n",
        "s = f\"{str(n+1) + suffix[n]} of {len(names)} is {names[n]}\"\n",
        "print(s)"
      ],
      "metadata": {
        "colab": {
          "base_uri": "https://localhost:8080/"
        },
        "id": "-bji97NX8gnb",
        "outputId": "23283d8c-e5eb-46ec-bd0e-e046fe49e045"
      },
      "execution_count": 26,
      "outputs": [
        {
          "output_type": "stream",
          "name": "stdout",
          "text": [
            "2nd of 4 is Harry\n"
          ]
        }
      ]
    },
    {
      "cell_type": "code",
      "source": [
        "#       01234567890123456789012345678901234\n",
        "text = \"Remarkable bird, the Norwegian Blue\"\n",
        "print(text[11:14])\n",
        "print(text[-7:-1])"
      ],
      "metadata": {
        "colab": {
          "base_uri": "https://localhost:8080/"
        },
        "id": "XyuCm4Uu9Tlj",
        "outputId": "723d977e-5fd5-4dc5-a142-d373d337c591"
      },
      "execution_count": 27,
      "outputs": [
        {
          "output_type": "stream",
          "name": "stdout",
          "text": [
            "bir\n",
            "an Blu\n"
          ]
        }
      ]
    },
    {
      "cell_type": "code",
      "source": [
        "#! /usr/bin/python\n",
        "\n",
        "greek = ['Alpha', 'Beta', 'Gamma', 'Delta', 'Epsilon', 'Zeta',\n",
        " \t    'Eta', 'Theta', 'Iota', 'Kappa', 'Lambda', 'Mu',\n",
        "        'Nu', 'Xi', 'Omicron', 'Pi', 'Rho', 'Sigma final',\n",
        "        'Sigma', 'Tau', 'Upsilon', 'Phi', 'Chi', 'Psi', 'Omega'\n",
        "        ]\n",
        "\n",
        "# Format required:\n",
        "#    The hex value of the character.\n",
        "#    The character name (cname), left justified,\n",
        "#    maximum 12 characters.\n",
        "#    A colon separator.\n",
        "#    The lowercase Greek character\n",
        "#    The uppercase Greek character\n",
        "\n",
        "\n",
        "for pos, chr_name in enumerate(greek, start=0x03B1):\n",
        "    try:\n",
        "        char = chr(pos)\n",
        "\n",
        "        #print(chr_name, \":\", char)\n",
        "        \n",
        "        print(f\"{pos:#x} {chr_name:<12s}: {char} {char.upper()}\")\n",
        "    except UnicodeEncodeError as err:\n",
        "        print(chr_name, 'unknown', err)\n",
        "\n"
      ],
      "metadata": {
        "colab": {
          "base_uri": "https://localhost:8080/"
        },
        "id": "D5CqimlM_JAK",
        "outputId": "e45137ef-ff72-4ed0-88c5-3d696080cf60"
      },
      "execution_count": 41,
      "outputs": [
        {
          "output_type": "stream",
          "name": "stdout",
          "text": [
            "0x3b1 Alpha       : α Α\n",
            "0x3b2 Beta        : β Β\n",
            "0x3b3 Gamma       : γ Γ\n",
            "0x3b4 Delta       : δ Δ\n",
            "0x3b5 Epsilon     : ε Ε\n",
            "0x3b6 Zeta        : ζ Ζ\n",
            "0x3b7 Eta         : η Η\n",
            "0x3b8 Theta       : θ Θ\n",
            "0x3b9 Iota        : ι Ι\n",
            "0x3ba Kappa       : κ Κ\n",
            "0x3bb Lambda      : λ Λ\n",
            "0x3bc Mu          : μ Μ\n",
            "0x3bd Nu          : ν Ν\n",
            "0x3be Xi          : ξ Ξ\n",
            "0x3bf Omicron     : ο Ο\n",
            "0x3c0 Pi          : π Π\n",
            "0x3c1 Rho         : ρ Ρ\n",
            "0x3c2 Sigma final : ς Σ\n",
            "0x3c3 Sigma       : σ Σ\n",
            "0x3c4 Tau         : τ Τ\n",
            "0x3c5 Upsilon     : υ Υ\n",
            "0x3c6 Phi         : φ Φ\n",
            "0x3c7 Chi         : χ Χ\n",
            "0x3c8 Psi         : ψ Ψ\n",
            "0x3c9 Omega       : ω Ω\n"
          ]
        }
      ]
    },
    {
      "cell_type": "code",
      "source": [
        "names = [\"first\",\"second\",\"third\"]\n",
        "#for s in names:\n",
        "#  print(s)\n",
        "for indexx, stringss in enumerate(names,start=1):\n",
        "  print(indexx)\n",
        "  print(stringss)"
      ],
      "metadata": {
        "colab": {
          "base_uri": "https://localhost:8080/"
        },
        "id": "3u9puCapLBPD",
        "outputId": "a629dae4-9d5d-44bd-e096-1f74bf0d328c"
      },
      "execution_count": 40,
      "outputs": [
        {
          "output_type": "stream",
          "name": "stdout",
          "text": [
            "1\n",
            "first\n",
            "2\n",
            "second\n",
            "3\n",
            "third\n"
          ]
        }
      ]
    }
  ]
}