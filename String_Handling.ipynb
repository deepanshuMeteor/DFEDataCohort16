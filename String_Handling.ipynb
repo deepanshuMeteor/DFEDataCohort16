{
  "nbformat": 4,
  "nbformat_minor": 0,
  "metadata": {
    "colab": {
      "name": "String Handling.ipynb",
      "provenance": [],
      "authorship_tag": "ABX9TyNdpjn4GQg75Lqeo4Wf+gAD",
      "include_colab_link": true
    },
    "kernelspec": {
      "name": "python3",
      "display_name": "Python 3"
    },
    "language_info": {
      "name": "python"
    }
  },
  "cells": [
    {
      "cell_type": "markdown",
      "metadata": {
        "id": "view-in-github",
        "colab_type": "text"
      },
      "source": [
        "<a href=\"https://colab.research.google.com/github/deepanshuMeteor/DFEDataCohort16/blob/main/String_Handling.ipynb\" target=\"_parent\"><img src=\"https://colab.research.google.com/assets/colab-badge.svg\" alt=\"Open In Colab\"/></a>"
      ]
    },
    {
      "cell_type": "code",
      "execution_count": 1,
      "metadata": {
        "colab": {
          "base_uri": "https://localhost:8080/"
        },
        "id": "j5Zy_tzrvOeE",
        "outputId": "244bfef6-71e5-4e0c-c155-872ced74b709"
      },
      "outputs": [
        {
          "output_type": "stream",
          "name": "stdout",
          "text": [
            "['Belgium', '10445852', 'Brussels', '737966', 'Europe', 'Euro', 'Catholic', 'Dutchh', 'Frech', 'German']\n"
          ]
        }
      ],
      "source": [
        "belgium = 'Belgium,10445852,Brussels,737966,Europe,Euro,Catholic,Dutch,Frech,German'\n",
        "\n",
        "\n",
        "items = belgium.split(',')\n",
        "print(items)"
      ]
    },
    {
      "cell_type": "code",
      "source": [
        "print('-'*len(belgium))"
      ],
      "metadata": {
        "colab": {
          "base_uri": "https://localhost:8080/"
        },
        "id": "uf5XYN6-wLVm",
        "outputId": "c5478ff4-7ee7-4f32-95cb-64a57d53af50"
      },
      "execution_count": 2,
      "outputs": [
        {
          "output_type": "stream",
          "name": "stdout",
          "text": [
            "-------------------------------------------------------------------------\n"
          ]
        }
      ]
    },
    {
      "cell_type": "code",
      "source": [
        "print(':'.join(items))"
      ],
      "metadata": {
        "colab": {
          "base_uri": "https://localhost:8080/"
        },
        "id": "-s3GE8B5wedN",
        "outputId": "747c794c-d06f-4312-f7f9-8e70aa7416ca"
      },
      "execution_count": 3,
      "outputs": [
        {
          "output_type": "stream",
          "name": "stdout",
          "text": [
            "Belgium:10445852:Brussels:737966:Europe:Euro:Catholic:Dutchh:Frech:German\n"
          ]
        }
      ]
    }
  ]
}