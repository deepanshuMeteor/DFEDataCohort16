{
  "nbformat": 4,
  "nbformat_minor": 0,
  "metadata": {
    "colab": {
      "name": "Flow_Control_1.ipynb",
      "provenance": [],
      "collapsed_sections": [],
      "authorship_tag": "ABX9TyPleltyd4tmMmvK55KCaHii",
      "include_colab_link": true
    },
    "kernelspec": {
      "name": "python3",
      "display_name": "Python 3"
    },
    "language_info": {
      "name": "python"
    }
  },
  "cells": [
    {
      "cell_type": "markdown",
      "metadata": {
        "id": "view-in-github",
        "colab_type": "text"
      },
      "source": [
        "<a href=\"https://colab.research.google.com/github/deepanshuMeteor/DFEDataCohort16/blob/main/Flow_Control_1.ipynb\" target=\"_parent\"><img src=\"https://colab.research.google.com/assets/colab-badge.svg\" alt=\"Open In Colab\"/></a>"
      ]
    },
    {
      "cell_type": "code",
      "execution_count": 4,
      "metadata": {
        "colab": {
          "base_uri": "https://localhost:8080/"
        },
        "id": "kX2g78Cm4YzC",
        "outputId": "6cd3ff4c-4de1-466c-8f8f-08dd1df1e775"
      },
      "outputs": [
        {
          "output_type": "stream",
          "name": "stdout",
          "text": [
            "/root\n"
          ]
        }
      ],
      "source": [
        "#! /usr/bin/python\n",
        "# Comments\n",
        "\n",
        "import sys\n",
        "import glob\n",
        "import os\n",
        "\n",
        "# Get the directory name.\n",
        "if sys.platform == 'win32':\n",
        "    hdir = os.environ['HOMEPATH']\n",
        "    print(hdir)\n",
        "else:\n",
        "    hdir = os.environ['HOME']\n",
        "    print(hdir)\n",
        "\n",
        "# Construct a portable wildcard pattern.\n",
        "pattern = os.path.join(hdir, '*')\n",
        "\n",
        "# Use the glob.glob() function to obtain the list of filenames.\n",
        "for filename in glob.glob(pattern):\n",
        "\n",
        "    # Use os.path.getsize to find each file's size.\n",
        "    size = os.path.getsize(filename)\n",
        "\n",
        "    # Only display files that are not zero length.\n",
        "    if size > 0:\n",
        "        print(os.path.basename(filename), size, 'bytes')\n"
      ]
    },
    {
      "cell_type": "code",
      "source": [
        "import sys\n",
        "\n",
        "PIN = \"3446\"\n",
        "LIMIT = 4\n",
        "\n",
        "for tries in range(1,LIMIT):\n",
        "  supplied_pin=input(\"Enter your PIN:\")\n",
        "  if supplied_pin== PIN:\n",
        "    print(\"congos, correct pin\")\n",
        "    print(\"... and after only\",tries,\"attempts\")\n",
        "    break\n",
        "else:\n",
        "  print(\"you had \",tries, \"tries and failed\")\n",
        "  "
      ],
      "metadata": {
        "colab": {
          "base_uri": "https://localhost:8080/"
        },
        "id": "25I-hr1v5hyF",
        "outputId": "ba7bb21d-4a45-43e9-dfe6-e2a9e77335e2"
      },
      "execution_count": 8,
      "outputs": [
        {
          "output_type": "stream",
          "name": "stdout",
          "text": [
            "Enter your PIN:3446\n",
            "congos, correct pin\n",
            "... and after only 1 attempts\n",
            "Enter your PIN:444\n",
            "Enter your PIN:444\n",
            "you had  3 tries and failed\n"
          ]
        }
      ]
    },
    {
      "cell_type": "code",
      "source": [
        "import random\n",
        "\n",
        "# Generate seven lottery numbers\n",
        "lotto = []\n",
        "while len(lotto) < 7:\n",
        "    if len(lotto) <= 4: num = random.randint(1, 50)\n",
        "    if len(lotto) > 4:  num = random.randint(1, 12)\n",
        "\n",
        "    # Check for duplicates.\n",
        "    if num not in lotto:\n",
        "        lotto.append(num)\n",
        "    else:\n",
        "        print('Duplicate number: ', num)\n",
        "\n",
        "print('Lottery:', lotto[0:-2], 'Bonus numbers:', lotto[-2:])"
      ],
      "metadata": {
        "colab": {
          "base_uri": "https://localhost:8080/"
        },
        "id": "Wo5oNVLMCA5s",
        "outputId": "2b385c67-c72d-4e83-fd8d-60e6f7caad48"
      },
      "execution_count": 9,
      "outputs": [
        {
          "output_type": "stream",
          "name": "stdout",
          "text": [
            "Duplicate number:  17\n",
            "Lottery: [21, 17, 24, 13, 49] Bonus numbers: [11, 5]\n"
          ]
        }
      ]
    },
    {
      "cell_type": "code",
      "source": [
        "#! /usr/local/bin/python\n",
        "# Python 3 version\n",
        "\n",
        "# Code for reading in the date\n",
        "date = input('Please enter date (DD/MM/YYYY): ')\n",
        "d, m, y = date.split('/')\n",
        "d = int(d)\n",
        "m = int(m)\n",
        "y = int(y)\n",
        "\n",
        "\n",
        "if m == 1 or m == 2:      \n",
        "    m += 12\n",
        "    if y%4 == 0 and (y%400 == 0 or y%100 != 0):\n",
        "        d -= 2\n",
        "    else:\n",
        "        d -= 1\n",
        "\n",
        "z = 1 + d + (m*2) + (3 * (m+1)//5) + y + y//4 - y//100 + y//400\n",
        "z %= 7\n",
        "\n",
        "days = ['Sun', 'Mon', 'Tues', 'Wednes', 'Thurs', 'Fri', 'Satur']\n",
        "print(days[z] + 'day')"
      ],
      "metadata": {
        "colab": {
          "base_uri": "https://localhost:8080/"
        },
        "id": "BNdJs9QsCTlZ",
        "outputId": "a491b5aa-ffc4-4daf-eefe-18652e3e85d5"
      },
      "execution_count": 10,
      "outputs": [
        {
          "output_type": "stream",
          "name": "stdout",
          "text": [
            "Please enter date (DD/MM/YYYY): 25/07/2022\n",
            "Monday\n"
          ]
        }
      ]
    }
  ]
}