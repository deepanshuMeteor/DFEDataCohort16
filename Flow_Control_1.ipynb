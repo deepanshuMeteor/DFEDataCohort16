{
  "nbformat": 4,
  "nbformat_minor": 0,
  "metadata": {
    "colab": {
      "name": "Flow_Control_1.ipynb",
      "provenance": [],
      "authorship_tag": "ABX9TyOThQtCywNkSl2HzrODCaky",
      "include_colab_link": true
    },
    "kernelspec": {
      "name": "python3",
      "display_name": "Python 3"
    },
    "language_info": {
      "name": "python"
    }
  },
  "cells": [
    {
      "cell_type": "markdown",
      "metadata": {
        "id": "view-in-github",
        "colab_type": "text"
      },
      "source": [
        "<a href=\"https://colab.research.google.com/github/deepanshuMeteor/DFEDataCohort16/blob/main/Flow_Control_1.ipynb\" target=\"_parent\"><img src=\"https://colab.research.google.com/assets/colab-badge.svg\" alt=\"Open In Colab\"/></a>"
      ]
    },
    {
      "cell_type": "code",
      "execution_count": 4,
      "metadata": {
        "colab": {
          "base_uri": "https://localhost:8080/"
        },
        "id": "kX2g78Cm4YzC",
        "outputId": "6cd3ff4c-4de1-466c-8f8f-08dd1df1e775"
      },
      "outputs": [
        {
          "output_type": "stream",
          "name": "stdout",
          "text": [
            "/root\n"
          ]
        }
      ],
      "source": [
        "#! /usr/bin/python\n",
        "# Comments\n",
        "\n",
        "import sys\n",
        "import glob\n",
        "import os\n",
        "\n",
        "# Get the directory name.\n",
        "if sys.platform == 'win32':\n",
        "    hdir = os.environ['HOMEPATH']\n",
        "    print(hdir)\n",
        "else:\n",
        "    hdir = os.environ['HOME']\n",
        "    print(hdir)\n",
        "\n",
        "# Construct a portable wildcard pattern.\n",
        "pattern = os.path.join(hdir, '*')\n",
        "\n",
        "# Use the glob.glob() function to obtain the list of filenames.\n",
        "for filename in glob.glob(pattern):\n",
        "\n",
        "    # Use os.path.getsize to find each file's size.\n",
        "    size = os.path.getsize(filename)\n",
        "\n",
        "    # Only display files that are not zero length.\n",
        "    if size > 0:\n",
        "        print(os.path.basename(filename), size, 'bytes')\n"
      ]
    },
    {
      "cell_type": "code",
      "source": [
        "import sys\n",
        "\n",
        "PIN = \"3446\"\n",
        "LIMIT = 4\n",
        "\n",
        "for tries in range(1,LIMIT):\n",
        "  supplied_pin=input(\"Enter your PIN:\")\n",
        "  if supplied_pin== PIN:\n",
        "    print(\"congos, correct pin\")\n",
        "    print(\"... and after only\",tries,\"attempts\")\n",
        "else:\n",
        "  print(\"you had \",tries, \"tries and failed\")\n",
        "  "
      ],
      "metadata": {
        "colab": {
          "base_uri": "https://localhost:8080/"
        },
        "id": "25I-hr1v5hyF",
        "outputId": "0252ecd1-9f00-4a45-f901-f4b6ac6ac5a3"
      },
      "execution_count": 5,
      "outputs": [
        {
          "output_type": "stream",
          "name": "stdout",
          "text": [
            "Enter your PIN:3333\n",
            "Enter your PIN:4555\n",
            "Enter your PIN:3446\n",
            "congos, correct pin\n",
            "... and after only 3 attempts\n",
            "you had  3 tries and failed\n"
          ]
        }
      ]
    }
  ]
}