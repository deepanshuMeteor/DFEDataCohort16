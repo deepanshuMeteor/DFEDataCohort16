{
  "nbformat": 4,
  "nbformat_minor": 0,
  "metadata": {
    "colab": {
      "name": "FileHandling.ipynb",
      "provenance": [],
      "authorship_tag": "ABX9TyMSGP5pOut173TPNawOOKF+",
      "include_colab_link": true
    },
    "kernelspec": {
      "name": "python3",
      "display_name": "Python 3"
    },
    "language_info": {
      "name": "python"
    }
  },
  "cells": [
    {
      "cell_type": "markdown",
      "metadata": {
        "id": "view-in-github",
        "colab_type": "text"
      },
      "source": [
        "<a href=\"https://colab.research.google.com/github/deepanshuMeteor/DFEDataCohort16/blob/main/FileHandling.ipynb\" target=\"_parent\"><img src=\"https://colab.research.google.com/assets/colab-badge.svg\" alt=\"Open In Colab\"/></a>"
      ]
    },
    {
      "cell_type": "code",
      "execution_count": 1,
      "metadata": {
        "colab": {
          "base_uri": "https://localhost:8080/"
        },
        "id": "D7bcvYay9Vqr",
        "outputId": "7f3720b4-420d-4579-e132-124da9b31743"
      },
      "outputs": [
        {
          "output_type": "stream",
          "name": "stdout",
          "text": [
            "<_io.TextIOWrapper name='postcodes.txt' mode='r' encoding='UTF-8'>\n"
          ]
        }
      ],
      "source": [
        "infile = open('postcodes.txt', 'r')\n",
        "print(infile)"
      ]
    },
    {
      "cell_type": "code",
      "source": [
        "buffer = infile.read(42)\n",
        "print(buffer)"
      ],
      "metadata": {
        "colab": {
          "base_uri": "https://localhost:8080/"
        },
        "id": "mxbWhuAN9_CO",
        "outputId": "f69050fd-adbc-4b1a-fa84-604c3bca286f"
      },
      "execution_count": 2,
      "outputs": [
        {
          "output_type": "stream",
          "name": "stdout",
          "text": [
            "pl71na\n",
            "bs71ap\t\n",
            "N71ja\n",
            " Bn 2  2bs\n",
            " ec1v2yy \n",
            "\n"
          ]
        }
      ]
    },
    {
      "cell_type": "code",
      "source": [
        "line = infile.readline()\n",
        "print(line)"
      ],
      "metadata": {
        "colab": {
          "base_uri": "https://localhost:8080/"
        },
        "id": "CI0sXmhW-Hg0",
        "outputId": "761d62f6-8773-4770-ac26-ac9f046815ba"
      },
      "execution_count": 3,
      "outputs": [
        {
          "output_type": "stream",
          "name": "stdout",
          "text": [
            " LS2 99py\n",
            "\n"
          ]
        }
      ]
    }
  ]
}