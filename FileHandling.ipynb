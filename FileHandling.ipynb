{
  "nbformat": 4,
  "nbformat_minor": 0,
  "metadata": {
    "colab": {
      "name": "FileHandling.ipynb",
      "provenance": [],
      "authorship_tag": "ABX9TyOFY6d2YJ7tRoC4Uov/s0MD",
      "include_colab_link": true
    },
    "kernelspec": {
      "name": "python3",
      "display_name": "Python 3"
    },
    "language_info": {
      "name": "python"
    }
  },
  "cells": [
    {
      "cell_type": "markdown",
      "metadata": {
        "id": "view-in-github",
        "colab_type": "text"
      },
      "source": [
        "<a href=\"https://colab.research.google.com/github/deepanshuMeteor/DFEDataCohort16/blob/main/FileHandling.ipynb\" target=\"_parent\"><img src=\"https://colab.research.google.com/assets/colab-badge.svg\" alt=\"Open In Colab\"/></a>"
      ]
    },
    {
      "cell_type": "code",
      "execution_count": 1,
      "metadata": {
        "colab": {
          "base_uri": "https://localhost:8080/"
        },
        "id": "D7bcvYay9Vqr",
        "outputId": "7f3720b4-420d-4579-e132-124da9b31743"
      },
      "outputs": [
        {
          "output_type": "stream",
          "name": "stdout",
          "text": [
            "<_io.TextIOWrapper name='postcodes.txt' mode='r' encoding='UTF-8'>\n"
          ]
        }
      ],
      "source": [
        "infile = open('postcodes.txt', 'r')\n",
        "print(infile)"
      ]
    },
    {
      "cell_type": "code",
      "source": [
        "buffer = infile.read(42)\n",
        "print(buffer)"
      ],
      "metadata": {
        "colab": {
          "base_uri": "https://localhost:8080/"
        },
        "id": "mxbWhuAN9_CO",
        "outputId": "f69050fd-adbc-4b1a-fa84-604c3bca286f"
      },
      "execution_count": 2,
      "outputs": [
        {
          "output_type": "stream",
          "name": "stdout",
          "text": [
            "pl71na\n",
            "bs71ap\t\n",
            "N71ja\n",
            " Bn 2  2bs\n",
            " ec1v2yy \n",
            "\n"
          ]
        }
      ]
    },
    {
      "cell_type": "code",
      "source": [
        "line = infile.readline()\n",
        "print(line)"
      ],
      "metadata": {
        "colab": {
          "base_uri": "https://localhost:8080/"
        },
        "id": "CI0sXmhW-Hg0",
        "outputId": "761d62f6-8773-4770-ac26-ac9f046815ba"
      },
      "execution_count": 3,
      "outputs": [
        {
          "output_type": "stream",
          "name": "stdout",
          "text": [
            " LS2 99py\n",
            "\n"
          ]
        }
      ]
    },
    {
      "cell_type": "code",
      "source": [
        "buf = infile.read()\n",
        "print(buf)"
      ],
      "metadata": {
        "colab": {
          "base_uri": "https://localhost:8080/"
        },
        "id": "3a4kqDom-1VD",
        "outputId": "7b4d7aa7-fef4-451c-dddb-1dea9af3d740"
      },
      "execution_count": 4,
      "outputs": [
        {
          "output_type": "stream",
          "name": "stdout",
          "text": [
            " YO16 7SH\n",
            "\n",
            "gl7\t2ef\n",
            "g17 2ef\n",
            "\tgl7\t2ef \n",
            "\tgl7\t2ef\n",
            "gl7 ef2\n",
            "\n",
            " BN32ff\n",
            "g1 3er\n",
            "g1 3er\n",
            "some text ex20 1uy\n",
            "gl7 6gh more text\n",
            "abc 5ex\n",
            " nr1 4er\t\n",
            " cf3 1qw\n",
            " cf3 1qw\n",
            " ec3p 3ah\n",
            "TQ10 4TH \n",
            "PH339te\n",
            "\n",
            "ll33 4yu\n",
            "  4er nr1\n",
            " ox1 3hq\n",
            " ox1 3hq                    \n",
            "\n",
            "ox35fg\t\n",
            "      P o155tT\n",
            "\n"
          ]
        }
      ]
    },
    {
      "cell_type": "code",
      "source": [
        "with open('/content/postcodes.txt', 'r') as infile:\n",
        "   for line in infile:\n",
        "       print(line, end='')"
      ],
      "metadata": {
        "colab": {
          "base_uri": "https://localhost:8080/"
        },
        "id": "olif5jqHBK7h",
        "outputId": "ffa5f4b1-5c6f-406a-9864-7dd79f256568"
      },
      "execution_count": 5,
      "outputs": [
        {
          "output_type": "stream",
          "name": "stdout",
          "text": [
            "pl71na\n",
            "bs71ap\t\n",
            "N71ja\n",
            " Bn 2  2bs\n",
            " ec1v2yy \n",
            " LS2 99py\n",
            " YO16 7SH\n",
            "\n",
            "gl7\t2ef\n",
            "g17 2ef\n",
            "\tgl7\t2ef \n",
            "\tgl7\t2ef\n",
            "gl7 ef2\n",
            "\n",
            " BN32ff\n",
            "g1 3er\n",
            "g1 3er\n",
            "some text ex20 1uy\n",
            "gl7 6gh more text\n",
            "abc 5ex\n",
            " nr1 4er\t\n",
            " cf3 1qw\n",
            " cf3 1qw\n",
            " ec3p 3ah\n",
            "TQ10 4TH \n",
            "PH339te\n",
            "\n",
            "ll33 4yu\n",
            "  4er nr1\n",
            " ox1 3hq\n",
            " ox1 3hq                    \n",
            "\n",
            "ox35fg\t\n",
            "      P o155tT\n"
          ]
        }
      ]
    },
    {
      "cell_type": "code",
      "source": [
        "for line in open('postcodes.txt', 'rb'):\n",
        "  print(line.decode(), end=\"\")"
      ],
      "metadata": {
        "colab": {
          "base_uri": "https://localhost:8080/"
        },
        "id": "mAN9H8_1B-pD",
        "outputId": "293c1d65-66da-4931-a1e8-1967e23c547f"
      },
      "execution_count": 6,
      "outputs": [
        {
          "output_type": "stream",
          "name": "stdout",
          "text": [
            "pl71na\r\n",
            "bs71ap\t\r\n",
            "N71ja\r\n",
            " Bn 2  2bs\r\n",
            " ec1v2yy \r\n",
            " LS2 99py\r\n",
            " YO16 7SH\r\n",
            "\r\n",
            "gl7\t2ef\r\n",
            "g17 2ef\r\n",
            "\tgl7\t2ef \r\n",
            "\tgl7\t2ef\r\n",
            "gl7 ef2\r\n",
            "\r\n",
            " BN32ff\r\n",
            "g1 3er\r\n",
            "g1 3er\r\n",
            "some text ex20 1uy\r\n",
            "gl7 6gh more text\r\n",
            "abc 5ex\r\n",
            " nr1 4er\t\r\n",
            " cf3 1qw\r\n",
            " cf3 1qw\r\n",
            " ec3p 3ah\r\n",
            "TQ10 4TH \r\n",
            "PH339te\r\n",
            "\r\n",
            "ll33 4yu\r\n",
            "  4er nr1\r\n",
            " ox1 3hq\r\n",
            " ox1 3hq                    \r\n",
            "\r\n",
            "ox35fg\t\r\n",
            "      P o155tT\r\n"
          ]
        }
      ]
    },
    {
      "cell_type": "code",
      "source": [
        "import sys\n",
        "sys.stdout.write(\"Please enter a value: \")\n",
        "sys.stdout.flush()\n",
        "reply = sys.stdin.readline()\n",
        "print(\"<\", reply, \"> was input\")"
      ],
      "metadata": {
        "colab": {
          "base_uri": "https://localhost:8080/"
        },
        "id": "qMpLUXOjCXym",
        "outputId": "dbd39e94-f6f9-40f4-c03b-a815723657de"
      },
      "execution_count": 7,
      "outputs": [
        {
          "output_type": "stream",
          "name": "stdout",
          "text": [
            "Please enter a value: <  > was input\n"
          ]
        }
      ]
    },
    {
      "cell_type": "code",
      "source": [
        "output = open('myfile.txt', 'w')\n",
        "print(\"Hello\", file=output)\n",
        "print(\"Oops, we had an error\", file=sys.stderr)"
      ],
      "metadata": {
        "colab": {
          "base_uri": "https://localhost:8080/"
        },
        "id": "UOwG4xdwCter",
        "outputId": "bd68d59a-12e9-47e6-ab5e-de10ae88d631"
      },
      "execution_count": 8,
      "outputs": [
        {
          "output_type": "stream",
          "name": "stderr",
          "text": [
            "Oops, we had an error\n"
          ]
        }
      ]
    },
    {
      "cell_type": "code",
      "source": [
        "fh = open('country.txt', 'rb')\n",
        "index={}\n",
        "while True:\n",
        "  line = fh.readline()\n",
        "  if not line: break\n",
        "  fields = line.decode().split(',')\n",
        "  index[fields[0]] = fh.tell() - len(line)\n",
        "key = input('Enter a country:')\n",
        "fh.seek(index[key])\n",
        "print(fh.readline().decode(), end=\"\")"
      ],
      "metadata": {
        "colab": {
          "base_uri": "https://localhost:8080/"
        },
        "id": "VVEmH5b2Dh6H",
        "outputId": "215b7aec-ee25-430d-e24a-a30c6a5521ee"
      },
      "execution_count": 16,
      "outputs": [
        {
          "output_type": "stream",
          "name": "stdout",
          "text": [
            "Enter a country:Angola\n",
            "Angola,14284000,Luanda,4534000,Africa,1975,New Kwanza,Traditional Beliefs,Portuguese,Bantu\n"
          ]
        }
      ]
    },
    {
      "cell_type": "code",
      "source": [
        "import pickle\n",
        "caps = {'Australia':'Canberra', 'Eire':'Dublin',\n",
        "        'UK':'London', 'US':'Washington'}\n",
        "outp = open('capitals.p', 'wb')\n",
        "pickle.dump(caps, outp)\n",
        "outp.close()"
      ],
      "metadata": {
        "id": "dG8-7t5WFMZz"
      },
      "execution_count": 17,
      "outputs": []
    }
  ]
}