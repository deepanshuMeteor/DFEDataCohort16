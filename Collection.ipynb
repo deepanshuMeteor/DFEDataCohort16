{
  "nbformat": 4,
  "nbformat_minor": 0,
  "metadata": {
    "colab": {
      "name": "Collection.ipynb",
      "provenance": [],
      "authorship_tag": "ABX9TyNgXUSUKTjL0dBc2J420Q1t",
      "include_colab_link": true
    },
    "kernelspec": {
      "name": "python3",
      "display_name": "Python 3"
    },
    "language_info": {
      "name": "python"
    }
  },
  "cells": [
    {
      "cell_type": "markdown",
      "metadata": {
        "id": "view-in-github",
        "colab_type": "text"
      },
      "source": [
        "<a href=\"https://colab.research.google.com/github/deepanshuMeteor/DFEDataCohort16/blob/main/Collection.ipynb\" target=\"_parent\"><img src=\"https://colab.research.google.com/assets/colab-badge.svg\" alt=\"Open In Colab\"/></a>"
      ]
    },
    {
      "cell_type": "code",
      "execution_count": 16,
      "metadata": {
        "colab": {
          "base_uri": "https://localhost:8080/"
        },
        "id": "minKE_L3O2SG",
        "outputId": "a795f3ce-e970-4348-8777-a766046e0b7d"
      },
      "outputs": [
        {
          "output_type": "stream",
          "name": "stdout",
          "text": [
            "min: 3 max: 99\n",
            "sum: 270.142\n",
            "min: (42, 'dave') max: (8000, 'cjim')\n"
          ]
        }
      ],
      "source": [
        "myn = [45, 66, 12, 3, 99, 3.142, 42]\n",
        "print(\"min:\", min(myn), \"max:\", max(myn))\n",
        "print(\"sum:\", sum(myn))\n",
        "myd = {'alfred':300, 'cjim':8000, 'dave':42}\n",
        "print(\"min:\", min(zip(myd.values(),myd.keys())), \"max:\", max(zip(myd.values(),myd.keys())))"
      ]
    },
    {
      "cell_type": "code",
      "source": [
        "# Python code to find key with Maximum value in Dictionary\n",
        "  \n",
        "# Dictionary Initialization\n",
        "Tv = {'BreakingBad':100, 'GameOfThrones':1292, 'TMKUC' : 88}\n",
        " \n",
        "Keymax = max(zip(Tv.values(), Tv.keys()))[1]\n",
        "print(Keymax)"
      ],
      "metadata": {
        "colab": {
          "base_uri": "https://localhost:8080/"
        },
        "id": "xLuPX5UPQcHa",
        "outputId": "fb456bbb-2700-4eaf-b400-fe2512b5ad8a"
      },
      "execution_count": 12,
      "outputs": [
        {
          "output_type": "stream",
          "name": "stdout",
          "text": [
            "GameOfThrones\n"
          ]
        }
      ]
    },
    {
      "cell_type": "code",
      "source": [
        "mytuple = 'a', 'b', 'c'\n",
        "another = mytuple * 4\n",
        "print(another)"
      ],
      "metadata": {
        "colab": {
          "base_uri": "https://localhost:8080/"
        },
        "id": "6dt9oHTeTWh2",
        "outputId": "ddc43b75-6463-48b4-af7d-73c6b3b2c164"
      },
      "execution_count": 18,
      "outputs": [
        {
          "output_type": "stream",
          "name": "stdout",
          "text": [
            "('a', 'b', 'c', 'a', 'b', 'c', 'a', 'b', 'c', 'a', 'b', 'c')\n"
          ]
        }
      ]
    },
    {
      "cell_type": "code",
      "source": [
        "thing = ('Hello')\n",
        "print(type(thing))\n",
        "thing = ('Hello',)\n",
        "print(type(thing))"
      ],
      "metadata": {
        "colab": {
          "base_uri": "https://localhost:8080/"
        },
        "id": "3JCX_npwTcRp",
        "outputId": "939fefb2-9f0f-49b7-a2bd-66f700cebd7f"
      },
      "execution_count": 19,
      "outputs": [
        {
          "output_type": "stream",
          "name": "stdout",
          "text": [
            "<class 'str'>\n",
            "<class 'tuple'>\n"
          ]
        }
      ]
    },
    {
      "cell_type": "code",
      "source": [
        "cheese = ['Cheddar', 'Stilton', 'Cornish Yarg']\n",
        "print(cheese[1])\n",
        "cheese[-1] = 'Red Leicester'\n",
        "print(cheese)\n",
        "cheese.append('Cornish Yarg')\n",
        "print(cheese)\n",
        "cheese.append('Corn')\n",
        "print(cheese)"
      ],
      "metadata": {
        "colab": {
          "base_uri": "https://localhost:8080/"
        },
        "id": "_Rx4U1LXUJG5",
        "outputId": "aa65de2d-a3a2-4954-baa2-372a85461bb7"
      },
      "execution_count": 24,
      "outputs": [
        {
          "output_type": "stream",
          "name": "stdout",
          "text": [
            "Stilton\n",
            "['Cheddar', 'Stilton', 'Red Leicester']\n",
            "['Cheddar', 'Stilton', 'Red Leicester', 'Cornish Yarg']\n",
            "['Cheddar', 'Stilton', 'Red Leicester', 'Cornish Yarg', 'Corn']\n"
          ]
        }
      ]
    },
    {
      "cell_type": "code",
      "source": [
        "mytuple=('eggs', 'bacon', 'spam', 'tea', 'beans')\n",
        "print(mytuple[2:4])\n",
        "print(mytuple[-4])\n"
      ],
      "metadata": {
        "colab": {
          "base_uri": "https://localhost:8080/"
        },
        "id": "TVjAWr0wVzv_",
        "outputId": "41553fa2-8800-428a-ed84-4936b11b8d81"
      },
      "execution_count": 27,
      "outputs": [
        {
          "output_type": "stream",
          "name": "stdout",
          "text": [
            "('spam', 'tea')\n",
            "bacon\n"
          ]
        }
      ]
    },
    {
      "cell_type": "code",
      "source": [
        "mylist = list(mytuple)#convert Tuple to List\n",
        "print(mylist[1:])\n",
        "print(mylist[:2])"
      ],
      "metadata": {
        "colab": {
          "base_uri": "https://localhost:8080/"
        },
        "id": "QoFiF1N0WEVK",
        "outputId": "0a3680f8-dc16-4cac-e4c9-63c33f30af2f"
      },
      "execution_count": 28,
      "outputs": [
        {
          "output_type": "stream",
          "name": "stdout",
          "text": [
            "['bacon', 'spam', 'tea', 'beans']\n",
            "['eggs', 'bacon']\n"
          ]
        }
      ]
    },
    {
      "cell_type": "code",
      "source": [
        "cheese = ['Cheddar', 'Camembert', 'Brie', 'Stilton']#list\n",
        "del cheese[1:3]\n",
        "print(cheese)"
      ],
      "metadata": {
        "colab": {
          "base_uri": "https://localhost:8080/"
        },
        "id": "iFN11t7EX3ge",
        "outputId": "b9e9ba84-da7f-448c-806f-73cdf57b423e"
      },
      "execution_count": 31,
      "outputs": [
        {
          "output_type": "stream",
          "name": "stdout",
          "text": [
            "['Cheddar', 'Stilton']\n"
          ]
        }
      ]
    },
    {
      "cell_type": "code",
      "source": [
        "mytuple = 'eggs', 'bacon', 'spam', 'tea'\n",
        "x, y, z = mytuple"
      ],
      "metadata": {
        "colab": {
          "base_uri": "https://localhost:8080/",
          "height": 189
        },
        "id": "-F2Idh5PrWCR",
        "outputId": "71933110-49ba-4db8-d47d-4e581a036c18"
      },
      "execution_count": 35,
      "outputs": [
        {
          "output_type": "error",
          "ename": "ValueError",
          "evalue": "ignored",
          "traceback": [
            "\u001b[0;31m---------------------------------------------------------------------------\u001b[0m",
            "\u001b[0;31mValueError\u001b[0m                                Traceback (most recent call last)",
            "\u001b[0;32m<ipython-input-35-6ad2fe6707e2>\u001b[0m in \u001b[0;36m<module>\u001b[0;34m()\u001b[0m\n\u001b[1;32m      1\u001b[0m \u001b[0mmytuple\u001b[0m \u001b[0;34m=\u001b[0m \u001b[0;34m'eggs'\u001b[0m\u001b[0;34m,\u001b[0m \u001b[0;34m'bacon'\u001b[0m\u001b[0;34m,\u001b[0m \u001b[0;34m'spam'\u001b[0m\u001b[0;34m,\u001b[0m \u001b[0;34m'tea'\u001b[0m\u001b[0;34m\u001b[0m\u001b[0;34m\u001b[0m\u001b[0m\n\u001b[0;32m----> 2\u001b[0;31m \u001b[0mx\u001b[0m\u001b[0;34m,\u001b[0m \u001b[0my\u001b[0m\u001b[0;34m,\u001b[0m \u001b[0mz\u001b[0m \u001b[0;34m=\u001b[0m \u001b[0mmytuple\u001b[0m\u001b[0;34m\u001b[0m\u001b[0;34m\u001b[0m\u001b[0m\n\u001b[0m",
            "\u001b[0;31mValueError\u001b[0m: too many values to unpack (expected 3)"
          ]
        }
      ]
    },
    {
      "cell_type": "code",
      "source": [
        "t1 = 'cat', 'dog', 'python', 'mouse', 'camel'\n",
        "t2 = 'kelp', 'crab', 'lobster', 'fish'\n",
        "for a, *b, c in t1, t2:\n",
        "    print(a, b, c)"
      ],
      "metadata": {
        "colab": {
          "base_uri": "https://localhost:8080/"
        },
        "id": "Rg_nS-fcqnVp",
        "outputId": "2c92e9c7-5e69-401f-b722-1a840d5732e9"
      },
      "execution_count": 32,
      "outputs": [
        {
          "output_type": "stream",
          "name": "stdout",
          "text": [
            "cat ['dog', 'python', 'mouse'] camel\n",
            "kelp ['crab', 'lobster'] fish\n"
          ]
        }
      ]
    },
    {
      "cell_type": "code",
      "source": [
        "cheese = ['Cheddar', 'Stilton', 'Cornish Yarg']\n",
        "#cheese.insert(2, 'Cornish Brie')\n",
        "print(cheese[2:3])\n",
        "cheese[2:2] = [\"Cornish Brie\"]\n",
        "print(cheese)"
      ],
      "metadata": {
        "colab": {
          "base_uri": "https://localhost:8080/"
        },
        "id": "_ffjGQ5BsVnb",
        "outputId": "f3ca514b-0eba-4b1d-ca63-396ae27e2010"
      },
      "execution_count": 48,
      "outputs": [
        {
          "output_type": "stream",
          "name": "stdout",
          "text": [
            "['Cornish Yarg']\n",
            "['Cheddar', 'Stilton', 'Cornish Brie', 'Cornish Yarg']\n"
          ]
        }
      ]
    },
    {
      "cell_type": "code",
      "source": [
        "cheese.append('Oke')\n",
        "print(cheese)"
      ],
      "metadata": {
        "colab": {
          "base_uri": "https://localhost:8080/"
        },
        "id": "2wHSfpV8t-5P",
        "outputId": "116394f5-4e0f-427c-a912-960fc6c217fa"
      },
      "execution_count": 49,
      "outputs": [
        {
          "output_type": "stream",
          "name": "stdout",
          "text": [
            "['Cheddar', 'Stilton', 'Cornish Brie', 'Cornish Yarg', 'Oke']\n"
          ]
        }
      ]
    },
    {
      "cell_type": "code",
      "source": [
        "cheese = ['Cheddar', 'Stilton', 'Cornish Yarg']\n",
        "saved = cheese.pop(1)\n",
        "print(\"Saved1:\", saved,\", Result:\", cheese)\n",
        "saved = cheese.pop()\n",
        "print(\"Saved2:\", saved,\", Result:\", cheese)"
      ],
      "metadata": {
        "colab": {
          "base_uri": "https://localhost:8080/"
        },
        "id": "m7P8dgx4uU4R",
        "outputId": "243bb7df-4a6c-43cb-c48f-1565dfc639d2"
      },
      "execution_count": 50,
      "outputs": [
        {
          "output_type": "stream",
          "name": "stdout",
          "text": [
            "Saved1: Stilton , Result: ['Cheddar', 'Cornish Yarg']\n",
            "Saved2: Cornish Yarg , Result: ['Cheddar']\n"
          ]
        }
      ]
    },
    {
      "cell_type": "code",
      "source": [
        "cheese = ['Cheddar', 'Stilton', 'Cornish Yarg','Oke', 'Devon Blue']\n",
        "cheese.remove(\"Oke\")\n",
        "print(cheese)"
      ],
      "metadata": {
        "colab": {
          "base_uri": "https://localhost:8080/"
        },
        "id": "Qe0-40dIvEMq",
        "outputId": "c2ac0c47-af96-49cc-8a9c-60a52f0b3919"
      },
      "execution_count": 52,
      "outputs": [
        {
          "output_type": "stream",
          "name": "stdout",
          "text": [
            "['Cheddar', 'Stilton', 'Cornish Yarg', 'Devon Blue']\n"
          ]
        }
      ]
    },
    {
      "cell_type": "code",
      "source": [
        "cheese.remove(\"Cheddar\")"
      ],
      "metadata": {
        "colab": {
          "base_uri": "https://localhost:8080/",
          "height": 171
        },
        "id": "Y-nU7JyyvWP6",
        "outputId": "716e1585-d365-4488-d3e3-0febfea50688"
      },
      "execution_count": 53,
      "outputs": [
        {
          "output_type": "error",
          "ename": "ValueError",
          "evalue": "ignored",
          "traceback": [
            "\u001b[0;31m---------------------------------------------------------------------------\u001b[0m",
            "\u001b[0;31mValueError\u001b[0m                                Traceback (most recent call last)",
            "\u001b[0;32m<ipython-input-53-95538c0f0cba>\u001b[0m in \u001b[0;36m<module>\u001b[0;34m()\u001b[0m\n\u001b[0;32m----> 1\u001b[0;31m \u001b[0mcheese\u001b[0m\u001b[0;34m.\u001b[0m\u001b[0mremove\u001b[0m\u001b[0;34m(\u001b[0m\u001b[0;34m'Brie'\u001b[0m\u001b[0;34m)\u001b[0m\u001b[0;34m\u001b[0m\u001b[0;34m\u001b[0m\u001b[0m\n\u001b[0m",
            "\u001b[0;31mValueError\u001b[0m: list.remove(x): x not in list"
          ]
        }
      ]
    },
    {
      "cell_type": "code",
      "source": [
        "cheese.remove(cheese[0])"
      ],
      "metadata": {
        "id": "gM5mGnyHvo4i"
      },
      "execution_count": 58,
      "outputs": []
    },
    {
      "cell_type": "code",
      "source": [
        "print(cheese)"
      ],
      "metadata": {
        "colab": {
          "base_uri": "https://localhost:8080/"
        },
        "id": "dNwAnBLzwJ24",
        "outputId": "59e32d64-e041-407d-b127-39112cc1f7c7"
      },
      "execution_count": 59,
      "outputs": [
        {
          "output_type": "stream",
          "name": "stdout",
          "text": [
            "['Cornish Yarg', 'Devon Blue']\n"
          ]
        }
      ]
    },
    {
      "cell_type": "code",
      "source": [
        "cheese = ['Cornish Yarg', 'Oke', 'Edam', 'Stilton']\n",
        "cheese.sort(key=len)\n",
        "print(cheese)"
      ],
      "metadata": {
        "colab": {
          "base_uri": "https://localhost:8080/"
        },
        "id": "RilSDtSrxCl_",
        "outputId": "acef09dd-3d12-42a3-a8a2-ae1359103709"
      },
      "execution_count": 60,
      "outputs": [
        {
          "output_type": "stream",
          "name": "stdout",
          "text": [
            "['Oke', 'Edam', 'Stilton', 'Cornish Yarg']\n"
          ]
        }
      ]
    },
    {
      "cell_type": "code",
      "source": [
        "nums = ['1001', '34', '3', '77', '42', '9', '87']\n",
        "newstr = sorted(nums)\n",
        "print(newstr)\n",
        "newnum = sorted(nums, key=int)\n",
        "print(newnum)"
      ],
      "metadata": {
        "colab": {
          "base_uri": "https://localhost:8080/"
        },
        "id": "AnXLX71ixGji",
        "outputId": "8b1ce354-8592-4121-8d00-469e75989e6b"
      },
      "execution_count": 62,
      "outputs": [
        {
          "output_type": "stream",
          "name": "stdout",
          "text": [
            "['1001', '3', '34', '42', '77', '87', '9']\n",
            "['3', '9', '34', '42', '77', '87', '1001']\n"
          ]
        }
      ]
    },
    {
      "cell_type": "code",
      "source": [
        "cheese = ['Cheddar', 'Cheshire', 'Stilton', 'Cheshire']\n",
        "print(cheese.count('Cheshire'))\n",
        "print(cheese.index('Cheshire'))\n",
        "cheese.reverse()\n",
        "print(cheese)"
      ],
      "metadata": {
        "colab": {
          "base_uri": "https://localhost:8080/"
        },
        "id": "7vaHgSVAxn2Y",
        "outputId": "591d63f7-7acc-45c6-95c5-db8259d52490"
      },
      "execution_count": 70,
      "outputs": [
        {
          "output_type": "stream",
          "name": "stdout",
          "text": [
            "2\n",
            "1\n",
            "['Cheshire', 'Stilton', 'Cheshire', 'Cheddar']\n"
          ]
        }
      ]
    },
    {
      "cell_type": "code",
      "source": [
        "cheese = ('Cheddar', 'Cheshire', 'Stilton', 'Cheshire')\n",
        "cheese.reverse()\n",
        "print(cheese)\n"
      ],
      "metadata": {
        "colab": {
          "base_uri": "https://localhost:8080/",
          "height": 207
        },
        "id": "yuyyAey0yEbj",
        "outputId": "bcc65d5d-d131-41c6-cc8a-e13b9da99717"
      },
      "execution_count": 64,
      "outputs": [
        {
          "output_type": "error",
          "ename": "AttributeError",
          "evalue": "ignored",
          "traceback": [
            "\u001b[0;31m---------------------------------------------------------------------------\u001b[0m",
            "\u001b[0;31mAttributeError\u001b[0m                            Traceback (most recent call last)",
            "\u001b[0;32m<ipython-input-64-fba0ff463154>\u001b[0m in \u001b[0;36m<module>\u001b[0;34m()\u001b[0m\n\u001b[1;32m      1\u001b[0m \u001b[0mcheese\u001b[0m \u001b[0;34m=\u001b[0m \u001b[0;34m(\u001b[0m\u001b[0;34m'Cheddar'\u001b[0m\u001b[0;34m,\u001b[0m \u001b[0;34m'Cheshire'\u001b[0m\u001b[0;34m,\u001b[0m \u001b[0;34m'Stilton'\u001b[0m\u001b[0;34m,\u001b[0m \u001b[0;34m'Cheshire'\u001b[0m\u001b[0;34m)\u001b[0m\u001b[0;34m\u001b[0m\u001b[0;34m\u001b[0m\u001b[0m\n\u001b[0;32m----> 2\u001b[0;31m \u001b[0mcheese\u001b[0m\u001b[0;34m.\u001b[0m\u001b[0mreverse\u001b[0m\u001b[0;34m(\u001b[0m\u001b[0;34m)\u001b[0m\u001b[0;34m\u001b[0m\u001b[0;34m\u001b[0m\u001b[0m\n\u001b[0m\u001b[1;32m      3\u001b[0m \u001b[0mprint\u001b[0m\u001b[0;34m(\u001b[0m\u001b[0mcheese\u001b[0m\u001b[0;34m)\u001b[0m\u001b[0;34m\u001b[0m\u001b[0;34m\u001b[0m\u001b[0m\n",
            "\u001b[0;31mAttributeError\u001b[0m: 'tuple' object has no attribute 'reverse'"
          ]
        }
      ]
    },
    {
      "cell_type": "code",
      "source": [
        "s1 = {5, 6, 7, 8, 5}#set methods\n",
        "print(s1)\n",
        "print(type(s1))"
      ],
      "metadata": {
        "colab": {
          "base_uri": "https://localhost:8080/"
        },
        "id": "8bdQE6yfz72a",
        "outputId": "1ef20432-d773-488f-87b7-37ba275b80b4"
      },
      "execution_count": 72,
      "outputs": [
        {
          "output_type": "stream",
          "name": "stdout",
          "text": [
            "{8, 5, 6, 7}\n",
            "<class 'set'>\n"
          ]
        }
      ]
    },
    {
      "cell_type": "code",
      "source": [
        "s4 = {23, 42, 66, 123}\n",
        "s5 = {56, 27, 42}\n",
        "print(\"{:20} {:20}\".format(s4, s5))\n",
        "s4.remove(123)\n",
        "s5.add(123)\n",
        "print(\"{:20} {:20}\".format(s4, s5))"
      ],
      "metadata": {
        "colab": {
          "base_uri": "https://localhost:8080/",
          "height": 244
        },
        "id": "XSxwIFpr0XL5",
        "outputId": "1c4cc38e-c27a-40e7-91b8-f43a6f4701a3"
      },
      "execution_count": 79,
      "outputs": [
        {
          "output_type": "error",
          "ename": "TypeError",
          "evalue": "ignored",
          "traceback": [
            "\u001b[0;31m---------------------------------------------------------------------------\u001b[0m",
            "\u001b[0;31mTypeError\u001b[0m                                 Traceback (most recent call last)",
            "\u001b[0;32m<ipython-input-79-5cb0ddf29ccc>\u001b[0m in \u001b[0;36m<module>\u001b[0;34m()\u001b[0m\n\u001b[1;32m      1\u001b[0m \u001b[0ms4\u001b[0m \u001b[0;34m=\u001b[0m \u001b[0;34m{\u001b[0m\u001b[0;36m23\u001b[0m\u001b[0;34m,\u001b[0m \u001b[0;36m42\u001b[0m\u001b[0;34m,\u001b[0m \u001b[0;36m66\u001b[0m\u001b[0;34m,\u001b[0m \u001b[0;36m123\u001b[0m\u001b[0;34m}\u001b[0m\u001b[0;34m\u001b[0m\u001b[0;34m\u001b[0m\u001b[0m\n\u001b[1;32m      2\u001b[0m \u001b[0ms5\u001b[0m \u001b[0;34m=\u001b[0m \u001b[0;34m{\u001b[0m\u001b[0;36m56\u001b[0m\u001b[0;34m,\u001b[0m \u001b[0;36m27\u001b[0m\u001b[0;34m,\u001b[0m \u001b[0;36m42\u001b[0m\u001b[0;34m}\u001b[0m\u001b[0;34m\u001b[0m\u001b[0;34m\u001b[0m\u001b[0m\n\u001b[0;32m----> 3\u001b[0;31m \u001b[0mprint\u001b[0m\u001b[0;34m(\u001b[0m\u001b[0;34m\"{:20} {:20}\"\u001b[0m\u001b[0;34m.\u001b[0m\u001b[0mformat\u001b[0m\u001b[0;34m(\u001b[0m\u001b[0ms4\u001b[0m\u001b[0;34m,\u001b[0m \u001b[0ms5\u001b[0m\u001b[0;34m)\u001b[0m\u001b[0;34m)\u001b[0m\u001b[0;34m\u001b[0m\u001b[0;34m\u001b[0m\u001b[0m\n\u001b[0m\u001b[1;32m      4\u001b[0m \u001b[0ms4\u001b[0m\u001b[0;34m.\u001b[0m\u001b[0mremove\u001b[0m\u001b[0;34m(\u001b[0m\u001b[0;36m123\u001b[0m\u001b[0;34m)\u001b[0m\u001b[0;34m\u001b[0m\u001b[0;34m\u001b[0m\u001b[0m\n\u001b[1;32m      5\u001b[0m \u001b[0ms5\u001b[0m\u001b[0;34m.\u001b[0m\u001b[0madd\u001b[0m\u001b[0;34m(\u001b[0m\u001b[0;36m123\u001b[0m\u001b[0;34m)\u001b[0m\u001b[0;34m\u001b[0m\u001b[0;34m\u001b[0m\u001b[0m\n",
            "\u001b[0;31mTypeError\u001b[0m: unsupported format string passed to set.__format__"
          ]
        }
      ]
    },
    {
      "cell_type": "code",
      "source": [
        "cheese = ['Cheddar', 'Stilton', 'Cornish Yarg','Oke', 'Stilton', 'Cheshire']\n",
        "cheese = set(cheese)\n",
        "print(cheese)\n",
        "print(type(cheese))\n",
        "cheese = list(set(cheese))\n",
        "print(cheese)\n",
        "print(type(cheese))"
      ],
      "metadata": {
        "colab": {
          "base_uri": "https://localhost:8080/"
        },
        "id": "-9DRMjUr1fpQ",
        "outputId": "24dbd783-3cc1-4fdf-c202-b4b738c58d17"
      },
      "execution_count": 83,
      "outputs": [
        {
          "output_type": "stream",
          "name": "stdout",
          "text": [
            "{'Cheddar', 'Oke', 'Cornish Yarg', 'Stilton', 'Cheshire'}\n",
            "<class 'set'>\n",
            "['Cheddar', 'Oke', 'Cornish Yarg', 'Stilton', 'Cheshire']\n",
            "<class 'list'>\n"
          ]
        }
      ]
    }
  ]
}