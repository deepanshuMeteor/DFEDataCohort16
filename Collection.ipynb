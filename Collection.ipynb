{
  "nbformat": 4,
  "nbformat_minor": 0,
  "metadata": {
    "colab": {
      "name": "Collection.ipynb",
      "provenance": [],
      "authorship_tag": "ABX9TyOGUzxXKUvwQODk1vB79Y+Y",
      "include_colab_link": true
    },
    "kernelspec": {
      "name": "python3",
      "display_name": "Python 3"
    },
    "language_info": {
      "name": "python"
    }
  },
  "cells": [
    {
      "cell_type": "markdown",
      "metadata": {
        "id": "view-in-github",
        "colab_type": "text"
      },
      "source": [
        "<a href=\"https://colab.research.google.com/github/deepanshuMeteor/DFEDataCohort16/blob/main/Collection.ipynb\" target=\"_parent\"><img src=\"https://colab.research.google.com/assets/colab-badge.svg\" alt=\"Open In Colab\"/></a>"
      ]
    },
    {
      "cell_type": "code",
      "execution_count": 16,
      "metadata": {
        "colab": {
          "base_uri": "https://localhost:8080/"
        },
        "id": "minKE_L3O2SG",
        "outputId": "a795f3ce-e970-4348-8777-a766046e0b7d"
      },
      "outputs": [
        {
          "output_type": "stream",
          "name": "stdout",
          "text": [
            "min: 3 max: 99\n",
            "sum: 270.142\n",
            "min: (42, 'dave') max: (8000, 'cjim')\n"
          ]
        }
      ],
      "source": [
        "myn = [45, 66, 12, 3, 99, 3.142, 42]\n",
        "print(\"min:\", min(myn), \"max:\", max(myn))\n",
        "print(\"sum:\", sum(myn))\n",
        "myd = {'alfred':300, 'cjim':8000, 'dave':42}\n",
        "print(\"min:\", min(zip(myd.values(),myd.keys())), \"max:\", max(zip(myd.values(),myd.keys())))"
      ]
    },
    {
      "cell_type": "code",
      "source": [
        "# Python code to find key with Maximum value in Dictionary\n",
        "  \n",
        "# Dictionary Initialization\n",
        "Tv = {'BreakingBad':100, 'GameOfThrones':1292, 'TMKUC' : 88}\n",
        " \n",
        "Keymax = max(zip(Tv.values(), Tv.keys()))[1]\n",
        "print(Keymax)"
      ],
      "metadata": {
        "colab": {
          "base_uri": "https://localhost:8080/"
        },
        "id": "xLuPX5UPQcHa",
        "outputId": "fb456bbb-2700-4eaf-b400-fe2512b5ad8a"
      },
      "execution_count": 12,
      "outputs": [
        {
          "output_type": "stream",
          "name": "stdout",
          "text": [
            "GameOfThrones\n"
          ]
        }
      ]
    }
  ]
}