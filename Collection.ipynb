{
  "nbformat": 4,
  "nbformat_minor": 0,
  "metadata": {
    "colab": {
      "name": "Collection.ipynb",
      "provenance": [],
      "authorship_tag": "ABX9TyP3fq7cOjREkarU/Cdl3TLi",
      "include_colab_link": true
    },
    "kernelspec": {
      "name": "python3",
      "display_name": "Python 3"
    },
    "language_info": {
      "name": "python"
    }
  },
  "cells": [
    {
      "cell_type": "markdown",
      "metadata": {
        "id": "view-in-github",
        "colab_type": "text"
      },
      "source": [
        "<a href=\"https://colab.research.google.com/github/deepanshuMeteor/DFEDataCohort16/blob/main/Collection.ipynb\" target=\"_parent\"><img src=\"https://colab.research.google.com/assets/colab-badge.svg\" alt=\"Open In Colab\"/></a>"
      ]
    },
    {
      "cell_type": "code",
      "execution_count": 16,
      "metadata": {
        "colab": {
          "base_uri": "https://localhost:8080/"
        },
        "id": "minKE_L3O2SG",
        "outputId": "a795f3ce-e970-4348-8777-a766046e0b7d"
      },
      "outputs": [
        {
          "output_type": "stream",
          "name": "stdout",
          "text": [
            "min: 3 max: 99\n",
            "sum: 270.142\n",
            "min: (42, 'dave') max: (8000, 'cjim')\n"
          ]
        }
      ],
      "source": [
        "myn = [45, 66, 12, 3, 99, 3.142, 42]\n",
        "print(\"min:\", min(myn), \"max:\", max(myn))\n",
        "print(\"sum:\", sum(myn))\n",
        "myd = {'alfred':300, 'cjim':8000, 'dave':42}\n",
        "print(\"min:\", min(zip(myd.values(),myd.keys())), \"max:\", max(zip(myd.values(),myd.keys())))"
      ]
    },
    {
      "cell_type": "code",
      "source": [
        "# Python code to find key with Maximum value in Dictionary\n",
        "  \n",
        "# Dictionary Initialization\n",
        "Tv = {'BreakingBad':100, 'GameOfThrones':1292, 'TMKUC' : 88}\n",
        " \n",
        "Keymax = max(zip(Tv.values(), Tv.keys()))[1]\n",
        "print(Keymax)"
      ],
      "metadata": {
        "colab": {
          "base_uri": "https://localhost:8080/"
        },
        "id": "xLuPX5UPQcHa",
        "outputId": "fb456bbb-2700-4eaf-b400-fe2512b5ad8a"
      },
      "execution_count": 12,
      "outputs": [
        {
          "output_type": "stream",
          "name": "stdout",
          "text": [
            "GameOfThrones\n"
          ]
        }
      ]
    },
    {
      "cell_type": "code",
      "source": [
        "mytuple = 'a', 'b', 'c'\n",
        "another = mytuple * 4\n",
        "print(another)"
      ],
      "metadata": {
        "colab": {
          "base_uri": "https://localhost:8080/"
        },
        "id": "6dt9oHTeTWh2",
        "outputId": "ddc43b75-6463-48b4-af7d-73c6b3b2c164"
      },
      "execution_count": 18,
      "outputs": [
        {
          "output_type": "stream",
          "name": "stdout",
          "text": [
            "('a', 'b', 'c', 'a', 'b', 'c', 'a', 'b', 'c', 'a', 'b', 'c')\n"
          ]
        }
      ]
    },
    {
      "cell_type": "code",
      "source": [
        "thing = ('Hello')\n",
        "print(type(thing))\n",
        "thing = ('Hello',)\n",
        "print(type(thing))"
      ],
      "metadata": {
        "colab": {
          "base_uri": "https://localhost:8080/"
        },
        "id": "3JCX_npwTcRp",
        "outputId": "939fefb2-9f0f-49b7-a2bd-66f700cebd7f"
      },
      "execution_count": 19,
      "outputs": [
        {
          "output_type": "stream",
          "name": "stdout",
          "text": [
            "<class 'str'>\n",
            "<class 'tuple'>\n"
          ]
        }
      ]
    },
    {
      "cell_type": "code",
      "source": [
        "cheese = ['Cheddar', 'Stilton', 'Cornish Yarg']\n",
        "print(cheese[1])\n",
        "cheese[-1] = 'Red Leicester'\n",
        "print(cheese)\n",
        "cheese.append('Cornish Yarg')\n",
        "print(cheese)\n",
        "cheese.append('Corn')\n",
        "print(cheese)"
      ],
      "metadata": {
        "colab": {
          "base_uri": "https://localhost:8080/"
        },
        "id": "_Rx4U1LXUJG5",
        "outputId": "aa65de2d-a3a2-4954-baa2-372a85461bb7"
      },
      "execution_count": 24,
      "outputs": [
        {
          "output_type": "stream",
          "name": "stdout",
          "text": [
            "Stilton\n",
            "['Cheddar', 'Stilton', 'Red Leicester']\n",
            "['Cheddar', 'Stilton', 'Red Leicester', 'Cornish Yarg']\n",
            "['Cheddar', 'Stilton', 'Red Leicester', 'Cornish Yarg', 'Corn']\n"
          ]
        }
      ]
    },
    {
      "cell_type": "code",
      "source": [
        "mytuple=('eggs', 'bacon', 'spam', 'tea', 'beans')\n",
        "print(mytuple[2:4])\n",
        "print(mytuple[-4])\n"
      ],
      "metadata": {
        "colab": {
          "base_uri": "https://localhost:8080/"
        },
        "id": "TVjAWr0wVzv_",
        "outputId": "41553fa2-8800-428a-ed84-4936b11b8d81"
      },
      "execution_count": 27,
      "outputs": [
        {
          "output_type": "stream",
          "name": "stdout",
          "text": [
            "('spam', 'tea')\n",
            "bacon\n"
          ]
        }
      ]
    },
    {
      "cell_type": "code",
      "source": [
        "mylist = list(mytuple)\n",
        "print(mylist[1:])\n",
        "print(mylist[:2])"
      ],
      "metadata": {
        "id": "QoFiF1N0WEVK",
        "outputId": "0a3680f8-dc16-4cac-e4c9-63c33f30af2f",
        "colab": {
          "base_uri": "https://localhost:8080/"
        }
      },
      "execution_count": 28,
      "outputs": [
        {
          "output_type": "stream",
          "name": "stdout",
          "text": [
            "['bacon', 'spam', 'tea', 'beans']\n",
            "['eggs', 'bacon']\n"
          ]
        }
      ]
    }
  ]
}