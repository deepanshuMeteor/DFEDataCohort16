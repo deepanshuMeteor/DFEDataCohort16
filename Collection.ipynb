{
  "nbformat": 4,
  "nbformat_minor": 0,
  "metadata": {
    "colab": {
      "name": "Collection.ipynb",
      "provenance": [],
      "authorship_tag": "ABX9TyNCz3oz9xVF5nmv/W50LiC5",
      "include_colab_link": true
    },
    "kernelspec": {
      "name": "python3",
      "display_name": "Python 3"
    },
    "language_info": {
      "name": "python"
    }
  },
  "cells": [
    {
      "cell_type": "markdown",
      "metadata": {
        "id": "view-in-github",
        "colab_type": "text"
      },
      "source": [
        "<a href=\"https://colab.research.google.com/github/deepanshuMeteor/DFEDataCohort16/blob/main/Collection.ipynb\" target=\"_parent\"><img src=\"https://colab.research.google.com/assets/colab-badge.svg\" alt=\"Open In Colab\"/></a>"
      ]
    },
    {
      "cell_type": "code",
      "execution_count": 1,
      "metadata": {
        "colab": {
          "base_uri": "https://localhost:8080/"
        },
        "id": "minKE_L3O2SG",
        "outputId": "3067a005-5c0b-4ea5-b3ae-e2db8aa7320a"
      },
      "outputs": [
        {
          "output_type": "stream",
          "name": "stdout",
          "text": [
            "min: 3 max: 99\n",
            "sum: 270.142\n",
            "min: dave max: jim\n"
          ]
        }
      ],
      "source": [
        "myn = [45, 66, 12, 3, 99, 3.142, 42]\n",
        "print(\"min:\", min(myn), \"max:\", max(myn))\n",
        "print(\"sum:\", sum(myn))\n",
        "myd = {'fred':3, 'jim':8, 'dave':42}\n",
        "print(\"min:\", min(myd), \"max:\", max(myd))"
      ]
    }
  ]
}