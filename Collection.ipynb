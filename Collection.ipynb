{
  "nbformat": 4,
  "nbformat_minor": 0,
  "metadata": {
    "colab": {
      "name": "Collection.ipynb",
      "provenance": [],
      "authorship_tag": "ABX9TyPoaWY3Nosdob/VW61lSEQN",
      "include_colab_link": true
    },
    "kernelspec": {
      "name": "python3",
      "display_name": "Python 3"
    },
    "language_info": {
      "name": "python"
    }
  },
  "cells": [
    {
      "cell_type": "markdown",
      "metadata": {
        "id": "view-in-github",
        "colab_type": "text"
      },
      "source": [
        "<a href=\"https://colab.research.google.com/github/deepanshuMeteor/DFEDataCohort16/blob/main/Collection.ipynb\" target=\"_parent\"><img src=\"https://colab.research.google.com/assets/colab-badge.svg\" alt=\"Open In Colab\"/></a>"
      ]
    },
    {
      "cell_type": "code",
      "execution_count": 16,
      "metadata": {
        "colab": {
          "base_uri": "https://localhost:8080/"
        },
        "id": "minKE_L3O2SG",
        "outputId": "a795f3ce-e970-4348-8777-a766046e0b7d"
      },
      "outputs": [
        {
          "output_type": "stream",
          "name": "stdout",
          "text": [
            "min: 3 max: 99\n",
            "sum: 270.142\n",
            "min: (42, 'dave') max: (8000, 'cjim')\n"
          ]
        }
      ],
      "source": [
        "myn = [45, 66, 12, 3, 99, 3.142, 42]\n",
        "print(\"min:\", min(myn), \"max:\", max(myn))\n",
        "print(\"sum:\", sum(myn))\n",
        "myd = {'alfred':300, 'cjim':8000, 'dave':42}\n",
        "print(\"min:\", min(zip(myd.values(),myd.keys())), \"max:\", max(zip(myd.values(),myd.keys())))"
      ]
    },
    {
      "cell_type": "code",
      "source": [
        "# Python code to find key with Maximum value in Dictionary\n",
        "  \n",
        "# Dictionary Initialization\n",
        "Tv = {'BreakingBad':100, 'GameOfThrones':1292, 'TMKUC' : 88}\n",
        " \n",
        "Keymax = max(zip(Tv.values(), Tv.keys()))[1]\n",
        "print(Keymax)"
      ],
      "metadata": {
        "colab": {
          "base_uri": "https://localhost:8080/"
        },
        "id": "xLuPX5UPQcHa",
        "outputId": "fb456bbb-2700-4eaf-b400-fe2512b5ad8a"
      },
      "execution_count": 12,
      "outputs": [
        {
          "output_type": "stream",
          "name": "stdout",
          "text": [
            "GameOfThrones\n"
          ]
        }
      ]
    },
    {
      "cell_type": "code",
      "source": [
        "mytuple = 'a', 'b', 'c'\n",
        "another = mytuple * 4\n",
        "print(another)"
      ],
      "metadata": {
        "colab": {
          "base_uri": "https://localhost:8080/"
        },
        "id": "6dt9oHTeTWh2",
        "outputId": "ddc43b75-6463-48b4-af7d-73c6b3b2c164"
      },
      "execution_count": 18,
      "outputs": [
        {
          "output_type": "stream",
          "name": "stdout",
          "text": [
            "('a', 'b', 'c', 'a', 'b', 'c', 'a', 'b', 'c', 'a', 'b', 'c')\n"
          ]
        }
      ]
    },
    {
      "cell_type": "code",
      "source": [
        "thing = ('Hello')\n",
        "print(type(thing))\n",
        "thing = ('Hello',)\n",
        "print(type(thing))"
      ],
      "metadata": {
        "colab": {
          "base_uri": "https://localhost:8080/"
        },
        "id": "3JCX_npwTcRp",
        "outputId": "939fefb2-9f0f-49b7-a2bd-66f700cebd7f"
      },
      "execution_count": 19,
      "outputs": [
        {
          "output_type": "stream",
          "name": "stdout",
          "text": [
            "<class 'str'>\n",
            "<class 'tuple'>\n"
          ]
        }
      ]
    },
    {
      "cell_type": "code",
      "source": [
        "cheese = ['Cheddar', 'Stilton', 'Cornish Yarg']\n",
        "print(cheese[1])\n",
        "cheese[-1] = 'Red Leicester'\n",
        "print(cheese)\n",
        "cheese.append('Cornish Yarg')\n",
        "print(cheese)\n",
        "cheese.append('Corn')\n",
        "print(cheese)"
      ],
      "metadata": {
        "colab": {
          "base_uri": "https://localhost:8080/"
        },
        "id": "_Rx4U1LXUJG5",
        "outputId": "aa65de2d-a3a2-4954-baa2-372a85461bb7"
      },
      "execution_count": 24,
      "outputs": [
        {
          "output_type": "stream",
          "name": "stdout",
          "text": [
            "Stilton\n",
            "['Cheddar', 'Stilton', 'Red Leicester']\n",
            "['Cheddar', 'Stilton', 'Red Leicester', 'Cornish Yarg']\n",
            "['Cheddar', 'Stilton', 'Red Leicester', 'Cornish Yarg', 'Corn']\n"
          ]
        }
      ]
    },
    {
      "cell_type": "code",
      "source": [
        "mytuple=('eggs', 'bacon', 'spam', 'tea', 'beans')\n",
        "print(mytuple[2:4])\n",
        "print(mytuple[-4])\n"
      ],
      "metadata": {
        "colab": {
          "base_uri": "https://localhost:8080/"
        },
        "id": "TVjAWr0wVzv_",
        "outputId": "41553fa2-8800-428a-ed84-4936b11b8d81"
      },
      "execution_count": 27,
      "outputs": [
        {
          "output_type": "stream",
          "name": "stdout",
          "text": [
            "('spam', 'tea')\n",
            "bacon\n"
          ]
        }
      ]
    },
    {
      "cell_type": "code",
      "source": [
        "mylist = list(mytuple)#convert Tuple to List\n",
        "print(mylist[1:])\n",
        "print(mylist[:2])"
      ],
      "metadata": {
        "colab": {
          "base_uri": "https://localhost:8080/"
        },
        "id": "QoFiF1N0WEVK",
        "outputId": "0a3680f8-dc16-4cac-e4c9-63c33f30af2f"
      },
      "execution_count": 28,
      "outputs": [
        {
          "output_type": "stream",
          "name": "stdout",
          "text": [
            "['bacon', 'spam', 'tea', 'beans']\n",
            "['eggs', 'bacon']\n"
          ]
        }
      ]
    },
    {
      "cell_type": "code",
      "source": [
        "cheese = ['Cheddar', 'Camembert', 'Brie', 'Stilton']#list\n",
        "del cheese[1:3]\n",
        "print(cheese)"
      ],
      "metadata": {
        "colab": {
          "base_uri": "https://localhost:8080/"
        },
        "id": "iFN11t7EX3ge",
        "outputId": "b9e9ba84-da7f-448c-806f-73cdf57b423e"
      },
      "execution_count": 31,
      "outputs": [
        {
          "output_type": "stream",
          "name": "stdout",
          "text": [
            "['Cheddar', 'Stilton']\n"
          ]
        }
      ]
    },
    {
      "cell_type": "code",
      "source": [
        "mytuple = 'eggs', 'bacon', 'spam', 'tea'\n",
        "x, y, z = mytuple"
      ],
      "metadata": {
        "colab": {
          "base_uri": "https://localhost:8080/",
          "height": 189
        },
        "id": "-F2Idh5PrWCR",
        "outputId": "71933110-49ba-4db8-d47d-4e581a036c18"
      },
      "execution_count": 35,
      "outputs": [
        {
          "output_type": "error",
          "ename": "ValueError",
          "evalue": "ignored",
          "traceback": [
            "\u001b[0;31m---------------------------------------------------------------------------\u001b[0m",
            "\u001b[0;31mValueError\u001b[0m                                Traceback (most recent call last)",
            "\u001b[0;32m<ipython-input-35-6ad2fe6707e2>\u001b[0m in \u001b[0;36m<module>\u001b[0;34m()\u001b[0m\n\u001b[1;32m      1\u001b[0m \u001b[0mmytuple\u001b[0m \u001b[0;34m=\u001b[0m \u001b[0;34m'eggs'\u001b[0m\u001b[0;34m,\u001b[0m \u001b[0;34m'bacon'\u001b[0m\u001b[0;34m,\u001b[0m \u001b[0;34m'spam'\u001b[0m\u001b[0;34m,\u001b[0m \u001b[0;34m'tea'\u001b[0m\u001b[0;34m\u001b[0m\u001b[0;34m\u001b[0m\u001b[0m\n\u001b[0;32m----> 2\u001b[0;31m \u001b[0mx\u001b[0m\u001b[0;34m,\u001b[0m \u001b[0my\u001b[0m\u001b[0;34m,\u001b[0m \u001b[0mz\u001b[0m \u001b[0;34m=\u001b[0m \u001b[0mmytuple\u001b[0m\u001b[0;34m\u001b[0m\u001b[0;34m\u001b[0m\u001b[0m\n\u001b[0m",
            "\u001b[0;31mValueError\u001b[0m: too many values to unpack (expected 3)"
          ]
        }
      ]
    },
    {
      "cell_type": "code",
      "source": [
        "t1 = 'cat', 'dog', 'python', 'mouse', 'camel'\n",
        "t2 = 'kelp', 'crab', 'lobster', 'fish'\n",
        "for a, *b, c in t1, t2:\n",
        "    print(a, b, c)"
      ],
      "metadata": {
        "colab": {
          "base_uri": "https://localhost:8080/"
        },
        "id": "Rg_nS-fcqnVp",
        "outputId": "2c92e9c7-5e69-401f-b722-1a840d5732e9"
      },
      "execution_count": 32,
      "outputs": [
        {
          "output_type": "stream",
          "name": "stdout",
          "text": [
            "cat ['dog', 'python', 'mouse'] camel\n",
            "kelp ['crab', 'lobster'] fish\n"
          ]
        }
      ]
    },
    {
      "cell_type": "code",
      "source": [
        "cheese = ['Cheddar', 'Stilton', 'Cornish Yarg']\n",
        "#cheese.insert(2, 'Cornish Brie')\n",
        "print(cheese[2:3])\n",
        "cheese[2:2] = [\"Cornish Brie\"]\n",
        "print(cheese)"
      ],
      "metadata": {
        "colab": {
          "base_uri": "https://localhost:8080/"
        },
        "id": "_ffjGQ5BsVnb",
        "outputId": "f3ca514b-0eba-4b1d-ca63-396ae27e2010"
      },
      "execution_count": 48,
      "outputs": [
        {
          "output_type": "stream",
          "name": "stdout",
          "text": [
            "['Cornish Yarg']\n",
            "['Cheddar', 'Stilton', 'Cornish Brie', 'Cornish Yarg']\n"
          ]
        }
      ]
    },
    {
      "cell_type": "code",
      "source": [
        "cheese.append('Oke')\n",
        "print(cheese)"
      ],
      "metadata": {
        "colab": {
          "base_uri": "https://localhost:8080/"
        },
        "id": "2wHSfpV8t-5P",
        "outputId": "116394f5-4e0f-427c-a912-960fc6c217fa"
      },
      "execution_count": 49,
      "outputs": [
        {
          "output_type": "stream",
          "name": "stdout",
          "text": [
            "['Cheddar', 'Stilton', 'Cornish Brie', 'Cornish Yarg', 'Oke']\n"
          ]
        }
      ]
    },
    {
      "cell_type": "code",
      "source": [
        "cheese = ['Cheddar', 'Stilton', 'Cornish Yarg']\n",
        "saved = cheese.pop(1)\n",
        "print(\"Saved1:\", saved,\", Result:\", cheese)\n",
        "saved = cheese.pop()\n",
        "print(\"Saved2:\", saved,\", Result:\", cheese)"
      ],
      "metadata": {
        "colab": {
          "base_uri": "https://localhost:8080/"
        },
        "id": "m7P8dgx4uU4R",
        "outputId": "243bb7df-4a6c-43cb-c48f-1565dfc639d2"
      },
      "execution_count": 50,
      "outputs": [
        {
          "output_type": "stream",
          "name": "stdout",
          "text": [
            "Saved1: Stilton , Result: ['Cheddar', 'Cornish Yarg']\n",
            "Saved2: Cornish Yarg , Result: ['Cheddar']\n"
          ]
        }
      ]
    },
    {
      "cell_type": "code",
      "source": [
        "cheese = ['Cheddar', 'Stilton', 'Cornish Yarg','Oke', 'Devon Blue']\n",
        "cheese.remove(\"Oke\")\n",
        "print(cheese)"
      ],
      "metadata": {
        "colab": {
          "base_uri": "https://localhost:8080/"
        },
        "id": "Qe0-40dIvEMq",
        "outputId": "c2ac0c47-af96-49cc-8a9c-60a52f0b3919"
      },
      "execution_count": 52,
      "outputs": [
        {
          "output_type": "stream",
          "name": "stdout",
          "text": [
            "['Cheddar', 'Stilton', 'Cornish Yarg', 'Devon Blue']\n"
          ]
        }
      ]
    }
  ]
}