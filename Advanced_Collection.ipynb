{
  "nbformat": 4,
  "nbformat_minor": 0,
  "metadata": {
    "colab": {
      "name": "Advanced Collection.ipynb",
      "provenance": [],
      "authorship_tag": "ABX9TyP16azuPrzZvw2LeOT0lGMz",
      "include_colab_link": true
    },
    "kernelspec": {
      "name": "python3",
      "display_name": "Python 3"
    },
    "language_info": {
      "name": "python"
    }
  },
  "cells": [
    {
      "cell_type": "markdown",
      "metadata": {
        "id": "view-in-github",
        "colab_type": "text"
      },
      "source": [
        "<a href=\"https://colab.research.google.com/github/deepanshuMeteor/DFEDataCohort16/blob/main/Advanced_Collection.ipynb\" target=\"_parent\"><img src=\"https://colab.research.google.com/assets/colab-badge.svg\" alt=\"Open In Colab\"/></a>"
      ]
    },
    {
      "cell_type": "code",
      "execution_count": 3,
      "metadata": {
        "colab": {
          "base_uri": "https://localhost:8080/"
        },
        "id": "ewPVsRTjDDji",
        "outputId": "275bb042-bd2c-47d4-a1b1-a681083571a4"
      },
      "outputs": [
        {
          "output_type": "stream",
          "name": "stdout",
          "text": [
            "/sys\n",
            "/media\n",
            "/etc\n",
            "/lib\n",
            "/tmp\n",
            "/srv\n",
            "/dev\n",
            "/var\n",
            "/boot\n",
            "/lib64\n",
            "/opt\n",
            "/home\n",
            "/proc\n",
            "/root\n",
            "/bin\n",
            "/usr\n",
            "/mnt\n",
            "/sbin\n",
            "/run\n",
            "/datalab\n",
            "/tools\n",
            "/tensorflow-1.15.2\n",
            "/content\n",
            "/lib32\n",
            "/python-apt\n"
          ]
        }
      ],
      "source": [
        "import glob\n",
        "import os\n",
        "\n",
        "pattern = '/*'\n",
        "for fname in (filter(os.path.isdir, glob.iglob(pattern))):\n",
        "    print(fname)"
      ]
    },
    {
      "cell_type": "code",
      "source": [
        "pattern = '/*'\n",
        "dirs = list(filter(os.path.isdir, glob.iglob(pattern)))\n",
        "print(dir)"
      ],
      "metadata": {
        "colab": {
          "base_uri": "https://localhost:8080/"
        },
        "id": "HG5t1yZODeYE",
        "outputId": "62d471d3-fcbd-408d-9842-69f2671ee541"
      },
      "execution_count": 4,
      "outputs": [
        {
          "output_type": "stream",
          "name": "stdout",
          "text": [
            "<built-in function dir>\n"
          ]
        }
      ]
    },
    {
      "cell_type": "code",
      "source": [
        "dirs = [fname for fname in glob.iglob(pattern) if os.path.isdir(fname)]\n",
        "print(dirs)\n",
        "sizes = [os.path.getsize(fname) for fname in glob.iglob(pattern)]\n",
        "print(sizes)"
      ],
      "metadata": {
        "colab": {
          "base_uri": "https://localhost:8080/"
        },
        "id": "B89kpEwVETY0",
        "outputId": "e944b046-7818-4c83-ef8a-7f62dfca9320"
      },
      "execution_count": 6,
      "outputs": [
        {
          "output_type": "stream",
          "name": "stdout",
          "text": [
            "['/sys', '/media', '/etc', '/lib', '/tmp', '/srv', '/dev', '/var', '/boot', '/lib64', '/opt', '/home', '/proc', '/root', '/bin', '/usr', '/mnt', '/sbin', '/run', '/datalab', '/tools', '/tensorflow-1.15.2', '/content', '/lib32', '/python-apt']\n",
            "[0, 4096, 4096, 4096, 4096, 4096, 360, 4096, 4096, 4096, 4096, 4096, 0, 4096, 4096, 4096, 4096, 4096, 4096, 4096, 4096, 4096, 4096, 4096, 4096]\n"
          ]
        }
      ]
    },
    {
      "cell_type": "code",
      "source": [
        "tsizes = [(fname, os.path.getsize(fname)) for fname in glob.iglob(pattern)]\n",
        "print(tsizes)"
      ],
      "metadata": {
        "colab": {
          "base_uri": "https://localhost:8080/"
        },
        "id": "qsdeZHzQFA8Z",
        "outputId": "a65495ec-35ab-4943-d1b5-faa1e0b7cf85"
      },
      "execution_count": 7,
      "outputs": [
        {
          "output_type": "stream",
          "name": "stdout",
          "text": [
            "[('/sys', 0), ('/media', 4096), ('/etc', 4096), ('/lib', 4096), ('/tmp', 4096), ('/srv', 4096), ('/dev', 360), ('/var', 4096), ('/boot', 4096), ('/lib64', 4096), ('/opt', 4096), ('/home', 4096), ('/proc', 0), ('/root', 4096), ('/bin', 4096), ('/usr', 4096), ('/mnt', 4096), ('/sbin', 4096), ('/run', 4096), ('/datalab', 4096), ('/tools', 4096), ('/tensorflow-1.15.2', 4096), ('/content', 4096), ('/lib32', 4096), ('/python-apt', 4096)]\n"
          ]
        }
      ]
    }
  ]
}