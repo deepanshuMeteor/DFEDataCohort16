{
  "nbformat": 4,
  "nbformat_minor": 0,
  "metadata": {
    "colab": {
      "name": "Advanced Collection.ipynb",
      "provenance": [],
      "authorship_tag": "ABX9TyM+91v519Y99xdlZD6xgchp",
      "include_colab_link": true
    },
    "kernelspec": {
      "name": "python3",
      "display_name": "Python 3"
    },
    "language_info": {
      "name": "python"
    }
  },
  "cells": [
    {
      "cell_type": "markdown",
      "metadata": {
        "id": "view-in-github",
        "colab_type": "text"
      },
      "source": [
        "<a href=\"https://colab.research.google.com/github/deepanshuMeteor/DFEDataCohort16/blob/main/Advanced_Collection.ipynb\" target=\"_parent\"><img src=\"https://colab.research.google.com/assets/colab-badge.svg\" alt=\"Open In Colab\"/></a>"
      ]
    },
    {
      "cell_type": "code",
      "execution_count": 3,
      "metadata": {
        "colab": {
          "base_uri": "https://localhost:8080/"
        },
        "id": "ewPVsRTjDDji",
        "outputId": "275bb042-bd2c-47d4-a1b1-a681083571a4"
      },
      "outputs": [
        {
          "output_type": "stream",
          "name": "stdout",
          "text": [
            "/sys\n",
            "/media\n",
            "/etc\n",
            "/lib\n",
            "/tmp\n",
            "/srv\n",
            "/dev\n",
            "/var\n",
            "/boot\n",
            "/lib64\n",
            "/opt\n",
            "/home\n",
            "/proc\n",
            "/root\n",
            "/bin\n",
            "/usr\n",
            "/mnt\n",
            "/sbin\n",
            "/run\n",
            "/datalab\n",
            "/tools\n",
            "/tensorflow-1.15.2\n",
            "/content\n",
            "/lib32\n",
            "/python-apt\n"
          ]
        }
      ],
      "source": [
        "import glob\n",
        "import os\n",
        "\n",
        "pattern = '/*'\n",
        "for fname in (filter(os.path.isdir, glob.iglob(pattern))):\n",
        "    print(fname)"
      ]
    },
    {
      "cell_type": "code",
      "source": [
        "pattern = '/*'\n",
        "dirs = list(filter(os.path.isdir, glob.iglob(pattern)))\n",
        "print(dir)"
      ],
      "metadata": {
        "colab": {
          "base_uri": "https://localhost:8080/"
        },
        "id": "HG5t1yZODeYE",
        "outputId": "62d471d3-fcbd-408d-9842-69f2671ee541"
      },
      "execution_count": 4,
      "outputs": [
        {
          "output_type": "stream",
          "name": "stdout",
          "text": [
            "<built-in function dir>\n"
          ]
        }
      ]
    },
    {
      "cell_type": "code",
      "source": [
        "dirs = [fname for fname in glob.iglob(pattern) if os.path.isdir(fname)]\n",
        "print(dirs)\n",
        "sizes = [os.path.getsize(fname) for fname in glob.iglob(pattern)]\n",
        "print(sizes)"
      ],
      "metadata": {
        "colab": {
          "base_uri": "https://localhost:8080/"
        },
        "id": "B89kpEwVETY0",
        "outputId": "e944b046-7818-4c83-ef8a-7f62dfca9320"
      },
      "execution_count": 6,
      "outputs": [
        {
          "output_type": "stream",
          "name": "stdout",
          "text": [
            "['/sys', '/media', '/etc', '/lib', '/tmp', '/srv', '/dev', '/var', '/boot', '/lib64', '/opt', '/home', '/proc', '/root', '/bin', '/usr', '/mnt', '/sbin', '/run', '/datalab', '/tools', '/tensorflow-1.15.2', '/content', '/lib32', '/python-apt']\n",
            "[0, 4096, 4096, 4096, 4096, 4096, 360, 4096, 4096, 4096, 4096, 4096, 0, 4096, 4096, 4096, 4096, 4096, 4096, 4096, 4096, 4096, 4096, 4096, 4096]\n"
          ]
        }
      ]
    },
    {
      "cell_type": "code",
      "source": [
        "tsizes = [(myvar, os.path.getsize(fname)) for myvar in glob.iglob(pattern)]\n",
        "print(tsizes)"
      ],
      "metadata": {
        "colab": {
          "base_uri": "https://localhost:8080/"
        },
        "id": "qsdeZHzQFA8Z",
        "outputId": "d7204dc4-45e6-4717-bf91-2330757260b4"
      },
      "execution_count": 8,
      "outputs": [
        {
          "output_type": "stream",
          "name": "stdout",
          "text": [
            "[('/sys', 4096), ('/media', 4096), ('/etc', 4096), ('/lib', 4096), ('/tmp', 4096), ('/srv', 4096), ('/dev', 4096), ('/var', 4096), ('/boot', 4096), ('/lib64', 4096), ('/opt', 4096), ('/home', 4096), ('/proc', 4096), ('/root', 4096), ('/bin', 4096), ('/usr', 4096), ('/mnt', 4096), ('/sbin', 4096), ('/run', 4096), ('/datalab', 4096), ('/tools', 4096), ('/tensorflow-1.15.2', 4096), ('/content', 4096), ('/lib32', 4096), ('/python-apt', 4096)]\n"
          ]
        }
      ]
    },
    {
      "cell_type": "code",
      "source": [
        "def get_dir(path):\n",
        "   pattern = os.path.join(path, '*')\n",
        "   for file in glob.iglob(pattern):\n",
        "     if os.path.isdir(file):\n",
        "       yield file\n",
        "\n",
        "for dir in get_dir('/*'):\n",
        "    print(dir)"
      ],
      "metadata": {
        "colab": {
          "base_uri": "https://localhost:8080/"
        },
        "id": "ntqquV-NGteE",
        "outputId": "b656859a-b668-459a-c810-c61044f2416f"
      },
      "execution_count": 9,
      "outputs": [
        {
          "output_type": "stream",
          "name": "stdout",
          "text": [
            "/sys/kernel\n",
            "/sys/power\n",
            "/sys/class\n",
            "/sys/devices\n",
            "/sys/dev\n",
            "/sys/hypervisor\n",
            "/sys/fs\n",
            "/sys/bus\n",
            "/sys/firmware\n",
            "/sys/block\n",
            "/sys/module\n",
            "/etc/apt\n",
            "/etc/rc2.d\n",
            "/etc/skel\n",
            "/etc/default\n",
            "/etc/rc1.d\n",
            "/etc/selinux\n",
            "/etc/logrotate.d\n",
            "/etc/kernel\n",
            "/etc/rc3.d\n",
            "/etc/opt\n",
            "/etc/profile.d\n",
            "/etc/init.d\n",
            "/etc/rcS.d\n",
            "/etc/rc6.d\n",
            "/etc/alternatives\n",
            "/etc/rc4.d\n",
            "/etc/pam.d\n",
            "/etc/security\n",
            "/etc/rc0.d\n",
            "/etc/terminfo\n",
            "/etc/systemd\n",
            "/etc/ld.so.conf.d\n",
            "/etc/update-motd.d\n",
            "/etc/sysctl.d\n",
            "/etc/rc5.d\n",
            "/etc/dpkg\n",
            "/etc/cron.daily\n",
            "/etc/ipython\n",
            "/etc/jupyter\n",
            "/etc/R\n",
            "/etc/ODBCDataSources\n",
            "/etc/pulse\n",
            "/etc/dbus-1\n",
            "/etc/python3.7\n",
            "/etc/fonts\n",
            "/etc/polkit-1\n",
            "/etc/calendar\n",
            "/etc/openmpi\n",
            "/etc/python\n",
            "/etc/ssh\n",
            "/etc/modules-load.d\n",
            "/etc/gss\n",
            "/etc/java-11-openjdk\n",
            "/etc/libnl-3\n",
            "/etc/udev\n",
            "/etc/apparmor.d\n",
            "/etc/gtk-3.0\n",
            "/etc/python2.7\n",
            "/etc/dhcp\n",
            "/etc/tmpfiles.d\n",
            "/etc/X11\n",
            "/etc/python3.6\n",
            "/etc/bash_completion.d\n",
            "/etc/sensors.d\n",
            "/etc/depmod.d\n",
            "/etc/libpaper.d\n",
            "/etc/groff\n",
            "/etc/emacs\n",
            "/etc/ca-certificates\n",
            "/etc/python3\n",
            "/etc/OpenCL\n",
            "/etc/openal\n",
            "/etc/glvnd\n",
            "/etc/binfmt.d\n",
            "/etc/modprobe.d\n",
            "/etc/ssl\n",
            "/etc/mysql\n",
            "/etc/cron.weekly\n",
            "/etc/logcheck\n",
            "/etc/xdg\n",
            "/etc/libibverbs.d\n",
            "/etc/dkms\n",
            "/etc/sudoers.d\n",
            "/etc/perl\n",
            "/etc/ldap\n",
            "/lib/x86_64-linux-gnu\n",
            "/lib/lsb\n",
            "/lib/init\n",
            "/lib/udev\n",
            "/lib/terminfo\n",
            "/lib/systemd\n",
            "/lib/modules\n",
            "/lib/firmware\n",
            "/lib/modprobe.d\n",
            "/tmp/initgoogle_syslog_dir.0\n",
            "/tmp/python-languageserver-cancellation\n",
            "/tmp/pyright-98-mP8gbqPD6sk8\n",
            "/tmp/pyright-98-LG2i5rkNz7tP\n",
            "/dev/fd\n",
            "/dev/shm\n",
            "/dev/mqueue\n",
            "/dev/pts\n",
            "/var/lib\n",
            "/var/tmp\n",
            "/var/backups\n",
            "/var/spool\n",
            "/var/mail\n",
            "/var/opt\n",
            "/var/cache\n",
            "/var/log\n",
            "/var/lock\n",
            "/var/run\n",
            "/var/local\n",
            "/var/colab\n",
            "/opt/google\n",
            "/opt/nvidia\n",
            "/proc/fs\n",
            "/proc/bus\n",
            "/proc/irq\n",
            "/proc/net\n",
            "/proc/sys\n",
            "/proc/tty\n",
            "/proc/acpi\n",
            "/proc/scsi\n",
            "/proc/driver\n",
            "/proc/sysvipc\n",
            "/proc/pressure\n",
            "/proc/self\n",
            "/proc/thread-self\n",
            "/proc/1\n",
            "/proc/7\n",
            "/proc/19\n",
            "/proc/30\n",
            "/proc/31\n",
            "/proc/44\n",
            "/proc/45\n",
            "/proc/61\n",
            "/proc/81\n",
            "/proc/98\n",
            "/usr/lib\n",
            "/usr/include\n",
            "/usr/src\n",
            "/usr/share\n",
            "/usr/games\n",
            "/usr/bin\n",
            "/usr/sbin\n",
            "/usr/local\n",
            "/usr/grte\n",
            "/usr/lib32\n",
            "/run/lock\n",
            "/run/mount\n",
            "/run/shm\n",
            "/run/user\n",
            "/run/systemd\n",
            "/run/sendsigs.omit.d\n",
            "/run/log\n",
            "/datalab/web\n",
            "/tools/node\n",
            "/tools/google-cloud-sdk\n",
            "/tensorflow-1.15.2/python3.7\n",
            "/content/sample_data\n",
            "/python-apt/aptsources\n",
            "/python-apt/apt\n",
            "/python-apt/build\n",
            "/python-apt/utils\n",
            "/python-apt/tests\n",
            "/python-apt/python\n",
            "/python-apt/debian\n",
            "/python-apt/data\n",
            "/python-apt/po\n",
            "/python-apt/doc\n",
            "/python-apt/typehinting\n"
          ]
        }
      ]
    },
    {
      "cell_type": "code",
      "source": [
        "def get_dir(path):\n",
        "  pattern = os.path.join(path, '*')\n",
        "  return (file\n",
        "  for file in glob.iglob(pattern) if os.path.isdir(file))\n",
        "\n",
        "result = get_dir('/')\n",
        "print(result)"
      ],
      "metadata": {
        "colab": {
          "base_uri": "https://localhost:8080/"
        },
        "id": "YycYXYXNIcKo",
        "outputId": "63b3756e-2693-4ae6-c5ca-19b941fd662f"
      },
      "execution_count": 11,
      "outputs": [
        {
          "output_type": "stream",
          "name": "stdout",
          "text": [
            "<generator object get_dir.<locals>.<genexpr> at 0x7fd821f81c50>\n"
          ]
        }
      ]
    },
    {
      "cell_type": "code",
      "source": [
        "fruit = [\"Apple\", \"Pear\", \"Orange\"]\n",
        "lunch = fruit\n",
        "lunch[1] = 'Eggs'\n",
        "print(fruit)"
      ],
      "metadata": {
        "colab": {
          "base_uri": "https://localhost:8080/"
        },
        "id": "3nLpKSJcJFbS",
        "outputId": "04111cf0-1f46-42df-a40a-d6af4c3650e6"
      },
      "execution_count": 12,
      "outputs": [
        {
          "output_type": "stream",
          "name": "stdout",
          "text": [
            "['Apple', 'Eggs', 'Orange']\n"
          ]
        }
      ]
    }
  ]
}