{
  "nbformat": 4,
  "nbformat_minor": 0,
  "metadata": {
    "colab": {
      "name": "Advanced Collection.ipynb",
      "provenance": [],
      "authorship_tag": "ABX9TyO4s/N2jRR9IJ1ogO2CDcY9",
      "include_colab_link": true
    },
    "kernelspec": {
      "name": "python3",
      "display_name": "Python 3"
    },
    "language_info": {
      "name": "python"
    }
  },
  "cells": [
    {
      "cell_type": "markdown",
      "metadata": {
        "id": "view-in-github",
        "colab_type": "text"
      },
      "source": [
        "<a href=\"https://colab.research.google.com/github/deepanshuMeteor/DFEDataCohort16/blob/main/Advanced_Collection.ipynb\" target=\"_parent\"><img src=\"https://colab.research.google.com/assets/colab-badge.svg\" alt=\"Open In Colab\"/></a>"
      ]
    },
    {
      "cell_type": "code",
      "execution_count": 3,
      "metadata": {
        "colab": {
          "base_uri": "https://localhost:8080/"
        },
        "id": "ewPVsRTjDDji",
        "outputId": "275bb042-bd2c-47d4-a1b1-a681083571a4"
      },
      "outputs": [
        {
          "output_type": "stream",
          "name": "stdout",
          "text": [
            "/sys\n",
            "/media\n",
            "/etc\n",
            "/lib\n",
            "/tmp\n",
            "/srv\n",
            "/dev\n",
            "/var\n",
            "/boot\n",
            "/lib64\n",
            "/opt\n",
            "/home\n",
            "/proc\n",
            "/root\n",
            "/bin\n",
            "/usr\n",
            "/mnt\n",
            "/sbin\n",
            "/run\n",
            "/datalab\n",
            "/tools\n",
            "/tensorflow-1.15.2\n",
            "/content\n",
            "/lib32\n",
            "/python-apt\n"
          ]
        }
      ],
      "source": [
        "import glob\n",
        "import os\n",
        "\n",
        "pattern = '/*'\n",
        "for fname in (filter(os.path.isdir, glob.iglob(pattern))):\n",
        "    print(fname)"
      ]
    },
    {
      "cell_type": "code",
      "source": [
        ""
      ],
      "metadata": {
        "id": "HG5t1yZODeYE"
      },
      "execution_count": null,
      "outputs": []
    }
  ]
}