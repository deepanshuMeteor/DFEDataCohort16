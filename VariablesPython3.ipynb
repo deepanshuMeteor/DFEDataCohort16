{
  "nbformat": 4,
  "nbformat_minor": 0,
  "metadata": {
    "colab": {
      "name": "VariablesPython3.ipynb",
      "provenance": [],
      "collapsed_sections": [],
      "authorship_tag": "ABX9TyPMTnAyDtHnj1y2V9zxtbuf",
      "include_colab_link": true
    },
    "kernelspec": {
      "name": "python3",
      "display_name": "Python 3"
    },
    "language_info": {
      "name": "python"
    }
  },
  "cells": [
    {
      "cell_type": "markdown",
      "metadata": {
        "id": "view-in-github",
        "colab_type": "text"
      },
      "source": [
        "<a href=\"https://colab.research.google.com/github/deepanshuMeteor/DFEDataCohort16/blob/main/VariablesPython3.ipynb\" target=\"_parent\"><img src=\"https://colab.research.google.com/assets/colab-badge.svg\" alt=\"Open In Colab\"/></a>"
      ]
    },
    {
      "cell_type": "code",
      "execution_count": 2,
      "metadata": {
        "id": "md_PPW2mjnw8"
      },
      "outputs": [],
      "source": [
        "# this race requires 45 laps.\n",
        "#how much fuel required?\n",
        "fuel_per_lap = 2.25\n",
        "laps=45\n",
        "fuel_requirement = fuel_per_lap * laps"
      ]
    },
    {
      "cell_type": "code",
      "source": [
        "fuel=fuel_requirement*1.5 #50% extra fuel for contingency\n",
        "print(\"Full fuel load: \",fuel,\"kg\")"
      ],
      "metadata": {
        "colab": {
          "base_uri": "https://localhost:8080/"
        },
        "id": "vAYonPKZkE92",
        "outputId": "a633550d-f202-4839-f8d7-721d684d463d"
      },
      "execution_count": 4,
      "outputs": [
        {
          "output_type": "stream",
          "name": "stdout",
          "text": [
            "Full fuel load:  151.875 kg\n"
          ]
        }
      ]
    },
    {
      "cell_type": "code",
      "source": [
        ""
      ],
      "metadata": {
        "id": "Lj6NFZyxkdkz"
      },
      "execution_count": null,
      "outputs": []
    }
  ]
}