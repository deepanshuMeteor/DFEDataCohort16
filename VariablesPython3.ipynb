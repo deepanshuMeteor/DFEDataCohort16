{
  "nbformat": 4,
  "nbformat_minor": 0,
  "metadata": {
    "colab": {
      "name": "VariablesPython3.ipynb",
      "provenance": [],
      "collapsed_sections": [],
      "authorship_tag": "ABX9TyOWhWbZj5ShtbLzYSR2RPDi",
      "include_colab_link": true
    },
    "kernelspec": {
      "name": "python3",
      "display_name": "Python 3"
    },
    "language_info": {
      "name": "python"
    }
  },
  "cells": [
    {
      "cell_type": "markdown",
      "metadata": {
        "id": "view-in-github",
        "colab_type": "text"
      },
      "source": [
        "<a href=\"https://colab.research.google.com/github/deepanshuMeteor/DFEDataCohort16/blob/main/VariablesPython3.ipynb\" target=\"_parent\"><img src=\"https://colab.research.google.com/assets/colab-badge.svg\" alt=\"Open In Colab\"/></a>"
      ]
    },
    {
      "cell_type": "code",
      "execution_count": 2,
      "metadata": {
        "id": "md_PPW2mjnw8"
      },
      "outputs": [],
      "source": [
        "# this race requires 45 laps.\n",
        "#how much fuel required?\n",
        "fuel_per_lap = 2.25\n",
        "laps=45\n",
        "fuel_requirement = fuel_per_lap * laps"
      ]
    },
    {
      "cell_type": "code",
      "source": [
        "fuel=fuel_requirement*1.5 #50% extra fuel for contingency\n",
        "print(\"Full fuel load: \",fuel,\"kg\")"
      ],
      "metadata": {
        "colab": {
          "base_uri": "https://localhost:8080/"
        },
        "id": "vAYonPKZkE92",
        "outputId": "93c6e9d6-13c0-48cb-b085-1c5eee14819f"
      },
      "execution_count": 8,
      "outputs": [
        {
          "output_type": "stream",
          "name": "stdout",
          "text": [
            "Full fuel load:  151.875 kg\n"
          ]
        }
      ]
    },
    {
      "cell_type": "code",
      "source": [
        "\n",
        "if 20 <= fuel <= 200:\n",
        "  print(\"low fuel for the journey\")\n",
        "else:\n",
        "  print(\"high fuel\")"
      ],
      "metadata": {
        "colab": {
          "base_uri": "https://localhost:8080/"
        },
        "id": "Lj6NFZyxkdkz",
        "outputId": "d72ddd70-2523-40dc-99ee-374daa23e043"
      },
      "execution_count": 11,
      "outputs": [
        {
          "output_type": "stream",
          "name": "stdout",
          "text": [
            "low fuel for the journey\n"
          ]
        }
      ]
    },
    {
      "cell_type": "code",
      "source": [
        "mylist = [2,343,4]\n",
        "if mylist:\n",
        "    print(\"mylist is True\")\n",
        "else:\n",
        "    print(\"else\")"
      ],
      "metadata": {
        "colab": {
          "base_uri": "https://localhost:8080/"
        },
        "id": "HlmzRkhcstQs",
        "outputId": "239f2312-998a-43b5-9832-d0e1be4d2c2a"
      },
      "execution_count": 21,
      "outputs": [
        {
          "output_type": "stream",
          "name": "stdout",
          "text": [
            "mylist is True\n"
          ]
        }
      ]
    },
    {
      "cell_type": "code",
      "source": [
        "num = 42\n",
        "txt = \"3\"\n",
        "\n",
        "if int(txt) < num:\n",
        "    print('Wow!')\n",
        "elif txt < num:\n",
        "    print('Wow!')\n",
        "else:\n",
        "    print('Doh!')\n",
        "if int(txt) < num: print('Wow!')\n",
        "else:\n",
        "    print('Doh!')\n"
      ],
      "metadata": {
        "colab": {
          "base_uri": "https://localhost:8080/"
        },
        "id": "DKvk7NX1tETH",
        "outputId": "5b76098d-6c3d-4023-f3d0-a159b799460e"
      },
      "execution_count": 18,
      "outputs": [
        {
          "output_type": "stream",
          "name": "stdout",
          "text": [
            "Wow!\n",
            "Wow!\n"
          ]
        }
      ]
    }
  ]
}