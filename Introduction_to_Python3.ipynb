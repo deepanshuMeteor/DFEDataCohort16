{
  "nbformat": 4,
  "nbformat_minor": 0,
  "metadata": {
    "colab": {
      "name": "Introduction to Python3.ipynb",
      "provenance": [],
      "authorship_tag": "ABX9TyNxWKikvBB4+Y5tOT88A5zc",
      "include_colab_link": true
    },
    "kernelspec": {
      "name": "python3",
      "display_name": "Python 3"
    },
    "language_info": {
      "name": "python"
    }
  },
  "cells": [
    {
      "cell_type": "markdown",
      "metadata": {
        "id": "view-in-github",
        "colab_type": "text"
      },
      "source": [
        "<a href=\"https://colab.research.google.com/github/deepanshuMeteor/DFEDataCohort16/blob/main/Introduction_to_Python3.ipynb\" target=\"_parent\"><img src=\"https://colab.research.google.com/assets/colab-badge.svg\" alt=\"Open In Colab\"/></a>"
      ]
    },
    {
      "cell_type": "markdown",
      "source": [
        "Introduction to Python3\n",
        "  Creating variables\n",
        "  Print values"
      ],
      "metadata": {
        "id": "MMY3S4AG94AF"
      }
    },
    {
      "cell_type": "code",
      "execution_count": 17,
      "metadata": {
        "colab": {
          "base_uri": "https://localhost:8080/"
        },
        "id": "f2YytWop0ed-",
        "outputId": "c6956087-80c8-42c3-f896-e7c857400ee1"
      },
      "outputs": [
        {
          "output_type": "stream",
          "name": "stdout",
          "text": [
            "Deepanshu Pasrija\n",
            "DeepanshuPasrija\n"
          ]
        }
      ],
      "source": [
        "first = \"Deepanshu\"\n",
        "last = \"Pasrija\"\n",
        "print(first,last) # PRINT FUNCTION - PARAMETERS AS FIRST AND LAST\n",
        "\n",
        "first += last \n",
        "print(first)"
      ]
    },
    {
      "cell_type": "code",
      "source": [
        "cheese = ['Cheddar', ['Camembert', 'Brie'], 'Stilton']\n",
        "print(cheese[1],cheese[1][0])"
      ],
      "metadata": {
        "colab": {
          "base_uri": "https://localhost:8080/"
        },
        "id": "aKtuLe5QfSYe",
        "outputId": "8745b1a7-d2ef-48f4-e7a1-c84712c2eda2"
      },
      "execution_count": 22,
      "outputs": [
        {
          "output_type": "stream",
          "name": "stdout",
          "text": [
            "['Camembert', 'Brie'] Camembert\n"
          ]
        }
      ]
    },
    {
      "cell_type": "code",
      "source": [
        "names= [first,last,first,\"error\"]#[] are to create a list\n",
        "print(names)"
      ],
      "metadata": {
        "colab": {
          "base_uri": "https://localhost:8080/"
        },
        "id": "DLR5LF519z5P",
        "outputId": "9e7e8737-db4e-4741-f38a-c902af8d4a39"
      },
      "execution_count": 13,
      "outputs": [
        {
          "output_type": "stream",
          "name": "stdout",
          "text": [
            "['Deepanshu', 'Pasrija', 'Deepanshu', 'error']\n"
          ]
        }
      ]
    },
    {
      "cell_type": "code",
      "source": [
        "boolVar = bool(1)# 1-> value is true, 0 -> false\n",
        "print(bool)"
      ],
      "metadata": {
        "colab": {
          "base_uri": "https://localhost:8080/"
        },
        "id": "hsc6farYD_GK",
        "outputId": "07a53fbd-c734-4a10-cfb2-0148bfb694b5"
      },
      "execution_count": 9,
      "outputs": [
        {
          "output_type": "stream",
          "name": "stdout",
          "text": [
            "<class 'bool'>\n"
          ]
        }
      ]
    },
    {
      "cell_type": "code",
      "source": [
        "numb = 23\n",
        "number=22\n",
        "number -= numb\n",
        "print(number)"
      ],
      "metadata": {
        "colab": {
          "base_uri": "https://localhost:8080/"
        },
        "id": "PsIjmunRcSWn",
        "outputId": "027b9a36-9e68-4495-e060-97f849ac9b95"
      },
      "execution_count": 16,
      "outputs": [
        {
          "output_type": "stream",
          "name": "stdout",
          "text": [
            "-1\n"
          ]
        }
      ]
    },
    {
      "cell_type": "code",
      "source": [
        "myDict = {'first':'Deepanshu','last':'Pasrija'}\n",
        "print(myDict['first'],myDict['last'])"
      ],
      "metadata": {
        "colab": {
          "base_uri": "https://localhost:8080/"
        },
        "id": "Yy9ul0aphtD_",
        "outputId": "9fb9418a-0d54-40f2-e8a3-ff8bada706df"
      },
      "execution_count": 24,
      "outputs": [
        {
          "output_type": "stream",
          "name": "stdout",
          "text": [
            "Deepanshu Pasrija\n"
          ]
        }
      ]
    },
    {
      "cell_type": "code",
      "source": [
        "var = input(\"Please enter a value: \")\n",
        "print(len(var))"
      ],
      "metadata": {
        "colab": {
          "base_uri": "https://localhost:8080/"
        },
        "id": "RrpvFeTyiMyy",
        "outputId": "20d0cfb6-89bc-4d95-b4f9-30d87d85e3cd"
      },
      "execution_count": 26,
      "outputs": [
        {
          "output_type": "stream",
          "name": "stdout",
          "text": [
            "Please enter a value: 777\n",
            "3\n"
          ]
        }
      ]
    },
    {
      "cell_type": "code",
      "source": [
        "var = input(\"Please enter a value: \")\n",
        "print(var.isdecimal())"
      ],
      "metadata": {
        "colab": {
          "base_uri": "https://localhost:8080/"
        },
        "id": "bZNakJpIioV7",
        "outputId": "b4a42859-2bad-426a-9107-e762f5753e03"
      },
      "execution_count": 28,
      "outputs": [
        {
          "output_type": "stream",
          "name": "stdout",
          "text": [
            "Please enter a value: jkg\n",
            "False\n"
          ]
        }
      ]
    }
  ]
}