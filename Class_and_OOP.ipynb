{
  "nbformat": 4,
  "nbformat_minor": 0,
  "metadata": {
    "colab": {
      "name": "Class and OOP.ipynb",
      "provenance": [],
      "authorship_tag": "ABX9TyNiZtSaq+2ggQLuJTeVpKYc",
      "include_colab_link": true
    },
    "kernelspec": {
      "name": "python3",
      "display_name": "Python 3"
    },
    "language_info": {
      "name": "python"
    }
  },
  "cells": [
    {
      "cell_type": "markdown",
      "metadata": {
        "id": "view-in-github",
        "colab_type": "text"
      },
      "source": [
        "<a href=\"https://colab.research.google.com/github/deepanshuMeteor/DFEDataCohort16/blob/main/Class_and_OOP.ipynb\" target=\"_parent\"><img src=\"https://colab.research.google.com/assets/colab-badge.svg\" alt=\"Open In Colab\"/></a>"
      ]
    },
    {
      "cell_type": "code",
      "source": [
        "class Training:\n",
        "  def __init__(self, name,level):#inititalisation\n",
        "    self.name = name\n",
        "    self.level = level\n",
        "\n",
        "  def printo(self):\n",
        "    print('Hi, training name is '+ self.name)\n",
        "    print('Hi, training level is '+ str(self.level))\n"
      ],
      "metadata": {
        "id": "zkJH_xp1N8kT"
      },
      "execution_count": 3,
      "outputs": []
    },
    {
      "cell_type": "code",
      "source": [
        "p1 = Training(\"Python Training\",10)\n",
        "p1.printo()"
      ],
      "metadata": {
        "colab": {
          "base_uri": "https://localhost:8080/"
        },
        "id": "fWllaLwsO6hb",
        "outputId": "70a397d3-30bf-4f3f-ec36-d601ef6dee78"
      },
      "execution_count": 4,
      "outputs": [
        {
          "output_type": "stream",
          "name": "stdout",
          "text": [
            "Hi, training name is Python Training\n",
            "Hi, training level is 10\n"
          ]
        }
      ]
    },
    {
      "cell_type": "code",
      "source": [
        "del p1.level\n",
        "del p1"
      ],
      "metadata": {
        "id": "9pHVpTs1Pmnp"
      },
      "execution_count": 5,
      "outputs": []
    },
    {
      "cell_type": "code",
      "source": [
        "class Date:\n",
        "    def __init__(self, day=0, month=0, year=0):\n",
        "        self._day   = day\n",
        "        self._month = month\n",
        "        self._year  = year\n",
        "    def __str__(self):\n",
        "        return \"%02d/%02d/%d\" % (\n",
        "               self._day, self._month, self._year)\n",
        "    def __add__(self, value):\n",
        "        retn = Date(self._day, self._month, self._year)\n",
        "        retn._day = retn._day + value\n",
        "        return retn\n",
        "    def mget(self):\n",
        "        return self._day\n",
        "    def mset(self, day):\n",
        "        self._day = day\n",
        "\n",
        "today = Date(9, 10, 2015)\n",
        "print(today)\n",
        "today.mset=6\n",
        "print(today)\n",
        "tomorrow = today + 1\n",
        "print(tomorrow)"
      ],
      "metadata": {
        "colab": {
          "base_uri": "https://localhost:8080/"
        },
        "id": "uK_PYPjXRG8Y",
        "outputId": "5389a043-5648-4912-c11b-04106a088240"
      },
      "execution_count": 11,
      "outputs": [
        {
          "output_type": "stream",
          "name": "stdout",
          "text": [
            "09/10/2015\n",
            "09/10/2015\n",
            "10/10/2015\n"
          ]
        }
      ]
    },
    {
      "cell_type": "code",
      "source": [
        "class Country:\n",
        "    index = {'name':0, 'population':1, 'capital':2, 'citypop':3,\n",
        "             'continent':4, 'ind_date':5, 'currency':6,\n",
        "             'religion':7, 'language':8\n",
        "             }\n",
        "    \n",
        "    # Insert your code here.\n",
        "    # 1a) Implement a constructor    \n",
        "    def __init__(self, row):\n",
        "        self._attr = row.split(',')\n",
        "        \n",
        "        # 1e) Added to support + and -\n",
        "        self._attr[Country.index['population']] = int(\n",
        "                         self._attr[Country.index['population']])\n",
        "            \n",
        "    # 1b) Implement a print method.\n",
        "    def print(self):\n",
        "        print(self._attr[Country.index['name']])\n",
        "        return\n",
        "        \n",
        "    # 1c) Overloaded stringification.\n",
        "    def __str__(self):\n",
        "        # return self._attr[Country.index['name']]\n",
        "        # 1g) Formating the output\n",
        "        return \"{0:<32} {1:>010}\".format(self.name, self.population)\n",
        "        \n",
        "    # Getter methods, using the @property decorator.\n",
        "    # 1d) Implement a getter method for country name.\n",
        "    @property\n",
        "    def name(self):\n",
        "        return self._attr[Country.index['name']]\n",
        "    \n",
        "    @property\n",
        "    def population(self):\n",
        "        return int(self._attr[Country.index['population']])\n",
        "        \n",
        "    # 1e) Overloaded + and -\n",
        "    def __add__(self, amount):\n",
        "        self._attr[Country.index['population']] += amount\n",
        "        return self\n",
        "        \n",
        "    def __sub__(self, amount):\n",
        "        self._attr[Country.index['population']] -= amount\n",
        "        return self\n",
        "        \n",
        "    # If time allows:\n",
        "    # 1f)  Overloaded == (for index search)\n",
        "    def __eq__(self, key):\n",
        "        return (key == self.name)"
      ],
      "metadata": {
        "id": "sfOofXmtKWDL"
      },
      "execution_count": 2,
      "outputs": []
    },
    {
      "cell_type": "markdown",
      "source": [
        "-----------------------------------------------------------------------------------------------------\n",
        "\n",
        "INHERITENCE"
      ],
      "metadata": {
        "id": "TfKtcxJcKXJY"
      }
    },
    {
      "cell_type": "code",
      "source": [
        "class person:\n",
        "  pass"
      ],
      "metadata": {
        "id": "xIRfNqTkTT-O"
      },
      "execution_count": null,
      "outputs": []
    },
    {
      "cell_type": "code",
      "source": [
        "class Trainer:\n",
        "  def __init__(self,fname,lname):\n",
        "    self.fname = fname\n",
        "    self.lname = lname\n",
        "\n",
        "  def printname(self):\n",
        "    print(self.fname,self.lname)"
      ],
      "metadata": {
        "id": "W8SgfR2mTZuK"
      },
      "execution_count": 12,
      "outputs": []
    },
    {
      "cell_type": "code",
      "source": [
        "x = Trainer(\"Deepanshu\",\"Pasrija\")\n",
        "x.printname()"
      ],
      "metadata": {
        "colab": {
          "base_uri": "https://localhost:8080/"
        },
        "id": "mUZPzqi9TwjY",
        "outputId": "9bb63fc7-472f-4ba1-b16a-859e7d755579"
      },
      "execution_count": 13,
      "outputs": [
        {
          "output_type": "stream",
          "name": "stdout",
          "text": [
            "Deepanshu Pasrija\n"
          ]
        }
      ]
    },
    {
      "cell_type": "code",
      "source": [
        "class Person:\n",
        "  def __init__(self,fname,lname):\n",
        "    self.fname = fname\n",
        "    self.lname = lname\n",
        "\n",
        "  def printname(self):\n",
        "    print(self.fname,self.lname)\n",
        "\n",
        "class Student(Person):\n",
        "  pass"
      ],
      "metadata": {
        "id": "YAZR8Q67T6DI"
      },
      "execution_count": 15,
      "outputs": []
    },
    {
      "cell_type": "code",
      "source": [
        "x = Student(\"Deepanshu\",\"Pasrija\")\n",
        "x.printname()"
      ],
      "metadata": {
        "colab": {
          "base_uri": "https://localhost:8080/"
        },
        "id": "cQSFH45iUPVg",
        "outputId": "cda28317-1fce-412e-d640-bff6fc8dc4ae"
      },
      "execution_count": 17,
      "outputs": [
        {
          "output_type": "stream",
          "name": "stdout",
          "text": [
            "Deepanshu Pasrija\n"
          ]
        }
      ]
    },
    {
      "cell_type": "code",
      "source": [
        "\n",
        "class Person1:\n",
        "  def __init__(self,fname,lname):\n",
        "    self.firstname = fname\n",
        "    self.lastname = lname\n",
        "\n",
        "  def printname(self):\n",
        "    print(self.firstname,self.lastname)\n",
        "\n",
        "class Student1(Person1):\n",
        "  def __init__(self,fname,lname):\n",
        "    self.fname = fname\n",
        "    self.lname = lname"
      ],
      "metadata": {
        "id": "L2KM9F8XWKu5"
      },
      "execution_count": 29,
      "outputs": []
    },
    {
      "cell_type": "code",
      "source": [
        "y = Student1(\"Mike\",\"Tyson\")\n",
        "y.printname()"
      ],
      "metadata": {
        "colab": {
          "base_uri": "https://localhost:8080/",
          "height": 318
        },
        "id": "dlLAA-M-XO4v",
        "outputId": "b50f8a17-6615-4ff0-ff67-51770cd4e2f1"
      },
      "execution_count": 30,
      "outputs": [
        {
          "output_type": "error",
          "ename": "AttributeError",
          "evalue": "ignored",
          "traceback": [
            "\u001b[0;31m---------------------------------------------------------------------------\u001b[0m",
            "\u001b[0;31mAttributeError\u001b[0m                            Traceback (most recent call last)",
            "\u001b[0;32m<ipython-input-30-40112aa9c4d5>\u001b[0m in \u001b[0;36m<module>\u001b[0;34m()\u001b[0m\n\u001b[1;32m      1\u001b[0m \u001b[0my\u001b[0m \u001b[0;34m=\u001b[0m \u001b[0mStudent1\u001b[0m\u001b[0;34m(\u001b[0m\u001b[0;34m\"Mike\"\u001b[0m\u001b[0;34m,\u001b[0m\u001b[0;34m\"Tyson\"\u001b[0m\u001b[0;34m)\u001b[0m\u001b[0;34m\u001b[0m\u001b[0;34m\u001b[0m\u001b[0m\n\u001b[0;32m----> 2\u001b[0;31m \u001b[0my\u001b[0m\u001b[0;34m.\u001b[0m\u001b[0mprintname\u001b[0m\u001b[0;34m(\u001b[0m\u001b[0;34m)\u001b[0m\u001b[0;34m\u001b[0m\u001b[0;34m\u001b[0m\u001b[0m\n\u001b[0m",
            "\u001b[0;32m<ipython-input-29-970773a19945>\u001b[0m in \u001b[0;36mprintname\u001b[0;34m(self)\u001b[0m\n\u001b[1;32m      6\u001b[0m \u001b[0;34m\u001b[0m\u001b[0m\n\u001b[1;32m      7\u001b[0m   \u001b[0;32mdef\u001b[0m \u001b[0mprintname\u001b[0m\u001b[0;34m(\u001b[0m\u001b[0mself\u001b[0m\u001b[0;34m)\u001b[0m\u001b[0;34m:\u001b[0m\u001b[0;34m\u001b[0m\u001b[0;34m\u001b[0m\u001b[0m\n\u001b[0;32m----> 8\u001b[0;31m     \u001b[0mprint\u001b[0m\u001b[0;34m(\u001b[0m\u001b[0mself\u001b[0m\u001b[0;34m.\u001b[0m\u001b[0mfirstname\u001b[0m\u001b[0;34m,\u001b[0m\u001b[0mself\u001b[0m\u001b[0;34m.\u001b[0m\u001b[0mlastname\u001b[0m\u001b[0;34m)\u001b[0m\u001b[0;34m\u001b[0m\u001b[0;34m\u001b[0m\u001b[0m\n\u001b[0m\u001b[1;32m      9\u001b[0m \u001b[0;34m\u001b[0m\u001b[0m\n\u001b[1;32m     10\u001b[0m \u001b[0;32mclass\u001b[0m \u001b[0mStudent1\u001b[0m\u001b[0;34m(\u001b[0m\u001b[0mPerson1\u001b[0m\u001b[0;34m)\u001b[0m\u001b[0;34m:\u001b[0m\u001b[0;34m\u001b[0m\u001b[0;34m\u001b[0m\u001b[0m\n",
            "\u001b[0;31mAttributeError\u001b[0m: 'Student1' object has no attribute 'firstname'"
          ]
        }
      ]
    },
    {
      "cell_type": "code",
      "source": [
        "class Person:\n",
        "  def __init__(self,fname,lname):\n",
        "    self.firstname = fname\n",
        "    self.lastname = lname\n",
        "\n",
        "  def printname(self):\n",
        "    print(self.firstname,self.lastname)\n",
        "\n",
        "class Student(Person):\n",
        "  def __init__(self,fname,lname):\n",
        "    Person.__init__(self,fname,lname)"
      ],
      "metadata": {
        "id": "kgFi48e2WY9P"
      },
      "execution_count": 31,
      "outputs": []
    },
    {
      "cell_type": "code",
      "source": [
        "y = Student(\"Mike\",\"Tyson\")\n",
        "y.printname()\n"
      ],
      "metadata": {
        "colab": {
          "base_uri": "https://localhost:8080/"
        },
        "id": "hYDYXy3LYJoL",
        "outputId": "d63c1682-fdcb-4008-f864-cb3399e6d3a4"
      },
      "execution_count": 32,
      "outputs": [
        {
          "output_type": "stream",
          "name": "stdout",
          "text": [
            "Mike Tyson\n"
          ]
        }
      ]
    },
    {
      "cell_type": "code",
      "source": [
        "class Person:\n",
        "  def __init__(self,fname,lname):\n",
        "    self.firstname = fname\n",
        "    self.lastname = lname\n",
        "\n",
        "  def printname(self):\n",
        "    print(self.firstname,self.lastname)\n",
        "\n",
        "class Student(Person):\n",
        "  def __init__(self,fname,lname):\n",
        "    super().__init__(fname,lname)"
      ],
      "metadata": {
        "id": "Oeto8mklZb_0"
      },
      "execution_count": 35,
      "outputs": []
    },
    {
      "cell_type": "code",
      "source": [
        "y = Student(\"Mike\",\"Tyson\")\n",
        "y.printname()\n"
      ],
      "metadata": {
        "colab": {
          "base_uri": "https://localhost:8080/"
        },
        "id": "1RW4dPTzZgMH",
        "outputId": "90c38724-1538-421a-923c-9f09bc77fe0e"
      },
      "execution_count": 36,
      "outputs": [
        {
          "output_type": "stream",
          "name": "stdout",
          "text": [
            "Mike Tyson\n"
          ]
        }
      ]
    },
    {
      "cell_type": "code",
      "source": [
        "class Employee(Person):\n",
        "    def __init__(self, name, gender, dept):\n",
        "        super().__init__(name, gender)\n",
        "        self._dept = dept\n",
        "\n",
        "me = Employee(\"Fred Bloggs\", 'm', 'IT')\n",
        "if isinstance(me, Employee):\n",
        "    print(me, \"isa Employee!\")\n",
        "if isinstance(me, Person):\n",
        "    print(me, \"isa Person!\")\n",
        "if issubclass(Employee, Person):\n",
        "    print(\"Employee is a subclass of Person\")"
      ],
      "metadata": {
        "colab": {
          "base_uri": "https://localhost:8080/"
        },
        "id": "xG4itdRwaewV",
        "outputId": "4f99f9c7-5f15-4b4e-a89e-6f770f0aa57e"
      },
      "execution_count": 37,
      "outputs": [
        {
          "output_type": "stream",
          "name": "stdout",
          "text": [
            "<__main__.Employee object at 0x7fd0117bb650> isa Employee!\n",
            "<__main__.Employee object at 0x7fd0117bb650> isa Person!\n",
            "Employee is a subclass of Person\n"
          ]
        }
      ]
    },
    {
      "cell_type": "code",
      "execution_count": 1,
      "metadata": {
        "colab": {
          "base_uri": "https://localhost:8080/"
        },
        "id": "ZAFGPY1uJtXJ",
        "outputId": "63c4f20a-03db-4688-8c29-c4326e3d9c1c"
      },
      "outputs": [
        {
          "output_type": "stream",
          "name": "stdout",
          "text": [
            "hello\n",
            "world\n",
            "hello\n",
            "world\n",
            "hello\n",
            "world\n",
            "hello\n",
            "world\n",
            "hello\n",
            "world\n",
            "hello\n",
            "world\n",
            "hello\n",
            "world\n",
            "hello\n",
            "world\n",
            "hello\n",
            "world\n",
            "hello\n",
            "world\n",
            "hello\n",
            "world\n",
            "hello\n",
            "world\n",
            "hello\n",
            "world\n",
            "hello\n",
            "world\n",
            "hello\n",
            "world\n",
            "hello\n",
            "world\n",
            "hello\n",
            "world\n",
            "hello\n",
            "world\n",
            "hello\n",
            "world\n",
            "hello\n",
            "world\n",
            "hello\n",
            "world\n",
            "hello\n",
            "world\n",
            "hello\n",
            "world\n",
            "hello\n",
            "world\n",
            "hello\n",
            "world\n",
            "hello\n",
            "world\n",
            "hello\n",
            "world\n",
            "hello\n",
            "world\n",
            "hello\n",
            "world\n",
            "hello\n",
            "world\n",
            " 414\n",
            "hello\n",
            "world\n",
            "hello\n",
            "world\n",
            "hello\n",
            "world\n",
            "hello\n",
            "world\n",
            "hello\n",
            "world\n",
            "hello\n",
            "world\n",
            "hello\n",
            "world\n",
            "hello\n",
            "world\n",
            "hello\n",
            "world\n",
            "hello\n",
            "world\n",
            "hello\n",
            "world\n",
            "hello\n",
            "world\n",
            "hello\n",
            "world\n",
            "hello\n",
            "world\n",
            "hello\n",
            "world\n",
            "hello\n",
            "world\n",
            "hello\n",
            "world\n",
            "hello\n",
            "world\n",
            "hello\n",
            "world\n",
            "hello\n",
            "world\n",
            "hello\n",
            "world\n",
            "hello\n",
            "world\n",
            "hello\n",
            "world\n",
            "hello\n",
            "world\n",
            "hello\n",
            "world\n",
            "hello\n",
            "world\n",
            "hello\n",
            "world\n",
            "hello\n",
            "world\n",
            "hello\n",
            "world\n",
            "hello\n",
            "world\n",
            "hello\n",
            "world\n",
            "\n",
            "Size of file1: 426\n",
            "*\u0000\u0000\u0000\"\u0000\u0000\u0000*\u0000\u0000\u0000\"\u0000\u0000\u0000EOD*\u0000\u0000\u0000\"\u0000\u0000\u0000EOD*\u0000\u0000\u0000\"\u0000\u0000\u0000EOD*\u0000\u0000\u0000\"\u0000\u0000\u0000EOD*\u0000\u0000\u0000\"\u0000\u0000\u0000EOD*\u0000\u0000\u0000\"\u0000\u0000\u0000EOD*\u0000\u0000\u0000\"\u0000\u0000\u0000EOD*\u0000\u0000\u0000\"\u0000\u0000\u0000*\u0000\u0000\u0000\"\u0000\u0000\u0000EOD*\u0000\u0000\u0000\"\u0000\u0000\u0000EOD*\u0000\u0000\u0000\"\u0000\u0000\u0000EOD*\u0000\u0000\u0000\"\u0000\u0000\u0000EOD*\u0000\u0000\u0000\"\u0000\u0000\u0000EOD 148\n",
            "b'*\\x00\\x00\\x00\"\\x00\\x00\\x00*\\x00\\x00\\x00\"\\x00\\x00\\x00EOD*\\x00\\x00\\x00\"\\x00\\x00\\x00EOD*\\x00\\x00\\x00\"\\x00\\x00\\x00EOD*\\x00\\x00\\x00\"\\x00\\x00\\x00EOD*\\x00\\x00\\x00\"\\x00\\x00\\x00EOD*\\x00\\x00\\x00\"\\x00\\x00\\x00EOD*\\x00\\x00\\x00\"\\x00\\x00\\x00EOD*\\x00\\x00\\x00\"\\x00\\x00\\x00*\\x00\\x00\\x00\"\\x00\\x00\\x00EOD*\\x00\\x00\\x00\"\\x00\\x00\\x00EOD*\\x00\\x00\\x00\"\\x00\\x00\\x00EOD*\\x00\\x00\\x00\"\\x00\\x00\\x00EOD*\\x00\\x00\\x00\"\\x00\\x00\\x00EOD*\\x00\\x00\\x00\"\\x00\\x00\\x00EOD'\n",
            "Size of file2: 159\n"
          ]
        }
      ],
      "source": [
        "import struct\n",
        "from myfile import MyFile\n",
        "        \n",
        "# Text file\n",
        "class TextFile(MyFile):\n",
        "\n",
        "    @property\n",
        "    def contents(self):\n",
        "        # Return the contents of the file\n",
        "        return open(self.get_fname(), 'rt').read()\n",
        "    \n",
        "    @contents.setter\n",
        "    def contents(self, value):\n",
        "        # Append to the file\n",
        "        if not value.endswith('\\n'):\n",
        "            value += '\\n'\n",
        "        open(self.get_fname(), 'at').write(value)\n",
        "        return\n",
        "\n",
        "# Binary file\n",
        "class BinFile(MyFile):\n",
        "\n",
        "    @property\n",
        "    def contents(self):\n",
        "        # Return the contents of the file\n",
        "        value = open(self.get_fname(), 'rb').read()\n",
        "        return value\n",
        "    \n",
        "    @contents.setter\n",
        "    def contents(self, value):\n",
        "        # Append to the file\n",
        "        if isinstance(value, int):\n",
        "            out = struct.pack('i', value)\n",
        "            open(self.get_fname(), 'ab').write(out)\n",
        "        else:\n",
        "            open(self.get_fname(), 'ab').write(value.encode())\n",
        "        return\n",
        "        \n",
        "if __name__ == '__main__':\n",
        "    file1 = TextFile('file1.txt')\n",
        "    print(file1, len(file1))\n",
        "\n",
        "    file1.contents = 'hello'\n",
        "    file1.contents = 'world'\n",
        "    \n",
        "    print(file1.contents)\n",
        "    print(\"Size of file1:\", len(file1))\n",
        " \n",
        "    file2 = BinFile('file2.dat')\n",
        "    print(file2, len(file2))\n",
        "\n",
        "    file2.contents = 42\n",
        "    file2.contents = 34\n",
        "    file2.contents = 'EOD'\n",
        "\n",
        "    print(file2.contents)\n",
        "    print('Size of file2:', len(file2))"
      ]
    }
  ]
}