{
  "nbformat": 4,
  "nbformat_minor": 0,
  "metadata": {
    "colab": {
      "name": "Class and OOP.ipynb",
      "provenance": [],
      "authorship_tag": "ABX9TyNM63aTGHSIkWmlialKWMvB",
      "include_colab_link": true
    },
    "kernelspec": {
      "name": "python3",
      "display_name": "Python 3"
    },
    "language_info": {
      "name": "python"
    }
  },
  "cells": [
    {
      "cell_type": "markdown",
      "metadata": {
        "id": "view-in-github",
        "colab_type": "text"
      },
      "source": [
        "<a href=\"https://colab.research.google.com/github/deepanshuMeteor/DFEDataCohort16/blob/main/Class_and_OOP.ipynb\" target=\"_parent\"><img src=\"https://colab.research.google.com/assets/colab-badge.svg\" alt=\"Open In Colab\"/></a>"
      ]
    },
    {
      "cell_type": "code",
      "source": [
        "class Training:\n",
        "  def __init__(self, name,level):#inititalisation\n",
        "    self.name = name\n",
        "    self.level = level\n",
        "\n",
        "  def printo(self):\n",
        "    print('Hi, training name is '+ self.name)\n",
        "    print('Hi, training level is '+ str(self.level))\n"
      ],
      "metadata": {
        "id": "zkJH_xp1N8kT"
      },
      "execution_count": 3,
      "outputs": []
    },
    {
      "cell_type": "code",
      "source": [
        "p1 = Training(\"Python Training\",10)\n",
        "p1.printo()"
      ],
      "metadata": {
        "colab": {
          "base_uri": "https://localhost:8080/"
        },
        "id": "fWllaLwsO6hb",
        "outputId": "70a397d3-30bf-4f3f-ec36-d601ef6dee78"
      },
      "execution_count": 4,
      "outputs": [
        {
          "output_type": "stream",
          "name": "stdout",
          "text": [
            "Hi, training name is Python Training\n",
            "Hi, training level is 10\n"
          ]
        }
      ]
    },
    {
      "cell_type": "code",
      "source": [
        "del p1.level\n",
        "del p1"
      ],
      "metadata": {
        "id": "9pHVpTs1Pmnp"
      },
      "execution_count": 5,
      "outputs": []
    },
    {
      "cell_type": "code",
      "source": [
        "class Date:\n",
        "    def __init__(self, day=0, month=0, year=0):\n",
        "        self._day   = day\n",
        "        self._month = month\n",
        "        self._year  = year\n",
        "    def __str__(self):\n",
        "        return \"%02d/%02d/%d\" % (\n",
        "               self._day, self._month, self._year)\n",
        "    def __add__(self, value):\n",
        "        retn = Date(self._day, self._month, self._year)\n",
        "        retn._day = retn._day + value\n",
        "        return retn\n",
        "\n",
        "today = Date(9, 10, 2015)\n",
        "print(today)\n",
        "tomorrow = today + 1\n",
        "print(tomorrow)"
      ],
      "metadata": {
        "colab": {
          "base_uri": "https://localhost:8080/"
        },
        "id": "uK_PYPjXRG8Y",
        "outputId": "eb1acc7e-67bb-4004-b10d-e252001eeae0"
      },
      "execution_count": 7,
      "outputs": [
        {
          "output_type": "stream",
          "name": "stdout",
          "text": [
            "09/10/2015\n",
            "10/10/2015\n"
          ]
        }
      ]
    },
    {
      "cell_type": "code",
      "source": [
        "class Country:\n",
        "    index = {'name':0, 'population':1, 'capital':2, 'citypop':3,\n",
        "             'continent':4, 'ind_date':5, 'currency':6,\n",
        "             'religion':7, 'language':8\n",
        "             }\n",
        "    \n",
        "    # Insert your code here.\n",
        "    # 1a) Implement a constructor    \n",
        "    def __init__(self, row):\n",
        "        self._attr = row.split(',')\n",
        "        \n",
        "        # 1e) Added to support + and -\n",
        "        self._attr[Country.index['population']] = int(\n",
        "                         self._attr[Country.index['population']])\n",
        "            \n",
        "    # 1b) Implement a print method.\n",
        "    def print(self):\n",
        "        print(self._attr[Country.index['name']])\n",
        "        return\n",
        "        \n",
        "    # 1c) Overloaded stringification.\n",
        "    def __str__(self):\n",
        "        # return self._attr[Country.index['name']]\n",
        "        # 1g) Formating the output\n",
        "        return \"{0:<32} {1:>010}\".format(self.name, self.population)\n",
        "        \n",
        "    # Getter methods, using the @property decorator.\n",
        "    # 1d) Implement a getter method for country name.\n",
        "    @property\n",
        "    def name(self):\n",
        "        return self._attr[Country.index['name']]\n",
        "    \n",
        "    @property\n",
        "    def population(self):\n",
        "        return int(self._attr[Country.index['population']])\n",
        "        \n",
        "    # 1e) Overloaded + and -\n",
        "    def __add__(self, amount):\n",
        "        self._attr[Country.index['population']] += amount\n",
        "        return self\n",
        "        \n",
        "    def __sub__(self, amount):\n",
        "        self._attr[Country.index['population']] -= amount\n",
        "        return self\n",
        "        \n",
        "    # If time allows:\n",
        "    # 1f)  Overloaded == (for index search)\n",
        "    def __eq__(self, key):\n",
        "        return (key == self.name)"
      ],
      "metadata": {
        "id": "sfOofXmtKWDL"
      },
      "execution_count": 2,
      "outputs": []
    },
    {
      "cell_type": "markdown",
      "source": [
        "-----------------------------------------------------------------------------------------------------\n",
        "\n",
        "INHERITENCE"
      ],
      "metadata": {
        "id": "TfKtcxJcKXJY"
      }
    },
    {
      "cell_type": "code",
      "execution_count": 1,
      "metadata": {
        "colab": {
          "base_uri": "https://localhost:8080/"
        },
        "id": "ZAFGPY1uJtXJ",
        "outputId": "63c4f20a-03db-4688-8c29-c4326e3d9c1c"
      },
      "outputs": [
        {
          "output_type": "stream",
          "name": "stdout",
          "text": [
            "hello\n",
            "world\n",
            "hello\n",
            "world\n",
            "hello\n",
            "world\n",
            "hello\n",
            "world\n",
            "hello\n",
            "world\n",
            "hello\n",
            "world\n",
            "hello\n",
            "world\n",
            "hello\n",
            "world\n",
            "hello\n",
            "world\n",
            "hello\n",
            "world\n",
            "hello\n",
            "world\n",
            "hello\n",
            "world\n",
            "hello\n",
            "world\n",
            "hello\n",
            "world\n",
            "hello\n",
            "world\n",
            "hello\n",
            "world\n",
            "hello\n",
            "world\n",
            "hello\n",
            "world\n",
            "hello\n",
            "world\n",
            "hello\n",
            "world\n",
            "hello\n",
            "world\n",
            "hello\n",
            "world\n",
            "hello\n",
            "world\n",
            "hello\n",
            "world\n",
            "hello\n",
            "world\n",
            "hello\n",
            "world\n",
            "hello\n",
            "world\n",
            "hello\n",
            "world\n",
            "hello\n",
            "world\n",
            "hello\n",
            "world\n",
            " 414\n",
            "hello\n",
            "world\n",
            "hello\n",
            "world\n",
            "hello\n",
            "world\n",
            "hello\n",
            "world\n",
            "hello\n",
            "world\n",
            "hello\n",
            "world\n",
            "hello\n",
            "world\n",
            "hello\n",
            "world\n",
            "hello\n",
            "world\n",
            "hello\n",
            "world\n",
            "hello\n",
            "world\n",
            "hello\n",
            "world\n",
            "hello\n",
            "world\n",
            "hello\n",
            "world\n",
            "hello\n",
            "world\n",
            "hello\n",
            "world\n",
            "hello\n",
            "world\n",
            "hello\n",
            "world\n",
            "hello\n",
            "world\n",
            "hello\n",
            "world\n",
            "hello\n",
            "world\n",
            "hello\n",
            "world\n",
            "hello\n",
            "world\n",
            "hello\n",
            "world\n",
            "hello\n",
            "world\n",
            "hello\n",
            "world\n",
            "hello\n",
            "world\n",
            "hello\n",
            "world\n",
            "hello\n",
            "world\n",
            "hello\n",
            "world\n",
            "hello\n",
            "world\n",
            "\n",
            "Size of file1: 426\n",
            "*\u0000\u0000\u0000\"\u0000\u0000\u0000*\u0000\u0000\u0000\"\u0000\u0000\u0000EOD*\u0000\u0000\u0000\"\u0000\u0000\u0000EOD*\u0000\u0000\u0000\"\u0000\u0000\u0000EOD*\u0000\u0000\u0000\"\u0000\u0000\u0000EOD*\u0000\u0000\u0000\"\u0000\u0000\u0000EOD*\u0000\u0000\u0000\"\u0000\u0000\u0000EOD*\u0000\u0000\u0000\"\u0000\u0000\u0000EOD*\u0000\u0000\u0000\"\u0000\u0000\u0000*\u0000\u0000\u0000\"\u0000\u0000\u0000EOD*\u0000\u0000\u0000\"\u0000\u0000\u0000EOD*\u0000\u0000\u0000\"\u0000\u0000\u0000EOD*\u0000\u0000\u0000\"\u0000\u0000\u0000EOD*\u0000\u0000\u0000\"\u0000\u0000\u0000EOD 148\n",
            "b'*\\x00\\x00\\x00\"\\x00\\x00\\x00*\\x00\\x00\\x00\"\\x00\\x00\\x00EOD*\\x00\\x00\\x00\"\\x00\\x00\\x00EOD*\\x00\\x00\\x00\"\\x00\\x00\\x00EOD*\\x00\\x00\\x00\"\\x00\\x00\\x00EOD*\\x00\\x00\\x00\"\\x00\\x00\\x00EOD*\\x00\\x00\\x00\"\\x00\\x00\\x00EOD*\\x00\\x00\\x00\"\\x00\\x00\\x00EOD*\\x00\\x00\\x00\"\\x00\\x00\\x00*\\x00\\x00\\x00\"\\x00\\x00\\x00EOD*\\x00\\x00\\x00\"\\x00\\x00\\x00EOD*\\x00\\x00\\x00\"\\x00\\x00\\x00EOD*\\x00\\x00\\x00\"\\x00\\x00\\x00EOD*\\x00\\x00\\x00\"\\x00\\x00\\x00EOD*\\x00\\x00\\x00\"\\x00\\x00\\x00EOD'\n",
            "Size of file2: 159\n"
          ]
        }
      ],
      "source": [
        "import struct\n",
        "from myfile import MyFile\n",
        "        \n",
        "# Text file\n",
        "class TextFile(MyFile):\n",
        "\n",
        "    @property\n",
        "    def contents(self):\n",
        "        # Return the contents of the file\n",
        "        return open(self.get_fname(), 'rt').read()\n",
        "    \n",
        "    @contents.setter\n",
        "    def contents(self, value):\n",
        "        # Append to the file\n",
        "        if not value.endswith('\\n'):\n",
        "            value += '\\n'\n",
        "        open(self.get_fname(), 'at').write(value)\n",
        "        return\n",
        "\n",
        "# Binary file\n",
        "class BinFile(MyFile):\n",
        "\n",
        "    @property\n",
        "    def contents(self):\n",
        "        # Return the contents of the file\n",
        "        value = open(self.get_fname(), 'rb').read()\n",
        "        return value\n",
        "    \n",
        "    @contents.setter\n",
        "    def contents(self, value):\n",
        "        # Append to the file\n",
        "        if isinstance(value, int):\n",
        "            out = struct.pack('i', value)\n",
        "            open(self.get_fname(), 'ab').write(out)\n",
        "        else:\n",
        "            open(self.get_fname(), 'ab').write(value.encode())\n",
        "        return\n",
        "        \n",
        "if __name__ == '__main__':\n",
        "    file1 = TextFile('file1.txt')\n",
        "    print(file1, len(file1))\n",
        "\n",
        "    file1.contents = 'hello'\n",
        "    file1.contents = 'world'\n",
        "    \n",
        "    print(file1.contents)\n",
        "    print(\"Size of file1:\", len(file1))\n",
        " \n",
        "    file2 = BinFile('file2.dat')\n",
        "    print(file2, len(file2))\n",
        "\n",
        "    file2.contents = 42\n",
        "    file2.contents = 34\n",
        "    file2.contents = 'EOD'\n",
        "\n",
        "    print(file2.contents)\n",
        "    print('Size of file2:', len(file2))"
      ]
    }
  ]
}