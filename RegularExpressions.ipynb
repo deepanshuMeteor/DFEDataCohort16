{
  "nbformat": 4,
  "nbformat_minor": 0,
  "metadata": {
    "colab": {
      "name": "RegularExpressions.ipynb",
      "provenance": [],
      "authorship_tag": "ABX9TyOU4U58qdkp6o0ngRZgspmi",
      "include_colab_link": true
    },
    "kernelspec": {
      "name": "python3",
      "display_name": "Python 3"
    },
    "language_info": {
      "name": "python"
    }
  },
  "cells": [
    {
      "cell_type": "markdown",
      "metadata": {
        "id": "view-in-github",
        "colab_type": "text"
      },
      "source": [
        "<a href=\"https://colab.research.google.com/github/deepanshuMeteor/DFEDataCohort16/blob/main/RegularExpressions.ipynb\" target=\"_parent\"><img src=\"https://colab.research.google.com/assets/colab-badge.svg\" alt=\"Open In Colab\"/></a>"
      ]
    },
    {
      "cell_type": "code",
      "source": [
        "#Regular Expressions: re module imported and used"
      ],
      "metadata": {
        "id": "htKkc2zX-y5Y"
      },
      "execution_count": null,
      "outputs": []
    },
    {
      "cell_type": "code",
      "execution_count": 3,
      "metadata": {
        "colab": {
          "base_uri": "https://localhost:8080/"
        },
        "id": "se0cGnUB-bKZ",
        "outputId": "75b92586-e7d3-447d-a6f1-703476a0ab7f"
      },
      "outputs": [
        {
          "output_type": "stream",
          "name": "stdout",
          "text": [
            "Matched ('quick', 'fox')\n",
            "Starting at 4\n",
            "Ending at 19\n"
          ]
        }
      ],
      "source": [
        "import re\n",
        "testy = 'The quick brown fox jumps over the lazy dog'\n",
        "m = re.search(r\"(quick|slow).*(fox|camel)\", testy)\n",
        "if m:\n",
        "  print('Matched', m.groups())\n",
        "  print('Starting at', m.start())\n",
        "  print('Ending at', m.end())"
      ]
    }
  ]
}