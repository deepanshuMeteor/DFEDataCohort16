{
  "nbformat": 4,
  "nbformat_minor": 0,
  "metadata": {
    "colab": {
      "name": "RegularExpressions.ipynb",
      "provenance": [],
      "authorship_tag": "ABX9TyNbMulVwT3DnGuxei7GYYno",
      "include_colab_link": true
    },
    "kernelspec": {
      "name": "python3",
      "display_name": "Python 3"
    },
    "language_info": {
      "name": "python"
    }
  },
  "cells": [
    {
      "cell_type": "markdown",
      "metadata": {
        "id": "view-in-github",
        "colab_type": "text"
      },
      "source": [
        "<a href=\"https://colab.research.google.com/github/deepanshuMeteor/DFEDataCohort16/blob/main/RegularExpressions.ipynb\" target=\"_parent\"><img src=\"https://colab.research.google.com/assets/colab-badge.svg\" alt=\"Open In Colab\"/></a>"
      ]
    },
    {
      "cell_type": "code",
      "source": [
        "#Regular Expressions: re module imported and used"
      ],
      "metadata": {
        "id": "htKkc2zX-y5Y"
      },
      "execution_count": null,
      "outputs": []
    },
    {
      "cell_type": "code",
      "execution_count": 3,
      "metadata": {
        "colab": {
          "base_uri": "https://localhost:8080/"
        },
        "id": "se0cGnUB-bKZ",
        "outputId": "75b92586-e7d3-447d-a6f1-703476a0ab7f"
      },
      "outputs": [
        {
          "output_type": "stream",
          "name": "stdout",
          "text": [
            "Matched ('quick', 'fox')\n",
            "Starting at 4\n",
            "Ending at 19\n"
          ]
        }
      ],
      "source": [
        "import re\n",
        "\n",
        "testy = 'The quick brown fox jumps over the lazy dog'\n",
        "m = re.search(r\"(quick|slow).*(fox|camel)\", testy)\n",
        "if m:\n",
        "  print('Matched', m.groups())\n",
        "  print('Starting at', m.start())\n",
        "  print('Ending at', m.end())"
      ]
    },
    {
      "cell_type": "code",
      "source": [
        "line = 'Perl for Perl Programmers'\n",
        "outputLine , number = re.subn('Perl', 'Python', line)\n",
        "print(number)\n",
        "if number:\n",
        "  print(outputLine)"
      ],
      "metadata": {
        "colab": {
          "base_uri": "https://localhost:8080/"
        },
        "id": "-Zy_zUpqAGfb",
        "outputId": "30ce960f-25c2-4f96-dd80-d8dd6bceacad"
      },
      "execution_count": 12,
      "outputs": [
        {
          "output_type": "stream",
          "name": "stdout",
          "text": [
            "2\n",
            "Python for Python Programmers\n"
          ]
        }
      ]
    },
    {
      "cell_type": "code",
      "source": [
        "cs, num = re.subn('Perl', 'Python', line, 1)\n",
        "if num:\n",
        "  print(cs)"
      ],
      "metadata": {
        "colab": {
          "base_uri": "https://localhost:8080/"
        },
        "id": "AQ1MrIL5APIL",
        "outputId": "f2f17c73-1395-4fe0-c060-e340a7f65af4"
      },
      "execution_count": 5,
      "outputs": [
        {
          "output_type": "stream",
          "name": "stdout",
          "text": [
            "Python for Perl Programmers\n"
          ]
        }
      ]
    },
    {
      "cell_type": "code",
      "source": [
        "line = 'Perl for Perl Perl Programmers'\n",
        "outputLine = re.subn('Perl', 'Python', line)\n",
        "print(outputLine)"
      ],
      "metadata": {
        "colab": {
          "base_uri": "https://localhost:8080/"
        },
        "id": "NpUNj8VEBpet",
        "outputId": "9bbb2c35-9e2d-4273-94ca-7c5f8868fb98"
      },
      "execution_count": 13,
      "outputs": [
        {
          "output_type": "stream",
          "name": "stdout",
          "text": [
            "('Python for Python Python Programmers', 3)\n"
          ]
        }
      ]
    },
    {
      "cell_type": "code",
      "source": [
        "line = 'root:;0.0:superuser,/root;/bin/sh'\n",
        "elems = re.split('[:;.,]', line)\n",
        "print(elems)"
      ],
      "metadata": {
        "colab": {
          "base_uri": "https://localhost:8080/"
        },
        "id": "w_6L2zf_HJaM",
        "outputId": "3a038baa-b046-48eb-de06-7459b7054554"
      },
      "execution_count": 14,
      "outputs": [
        {
          "output_type": "stream",
          "name": "stdout",
          "text": [
            "['root', '', '0', '0', 'superuser', '/root', '/bin/sh']\n"
          ]
        }
      ]
    },
    {
      "cell_type": "code",
      "source": [
        "drink = 'A glass of Coors'\n",
        "if re.search(r'Bud|Miller|Coors|Corona', drink):\n",
        "    print(\"It's a beer!\")"
      ],
      "metadata": {
        "colab": {
          "base_uri": "https://localhost:8080/"
        },
        "id": "0NlB8hb9H_IS",
        "outputId": "a4d12c3d-26f0-44c7-ad96-c46d8f7a440a"
      },
      "execution_count": 20,
      "outputs": [
        {
          "output_type": "stream",
          "name": "stdout",
          "text": [
            "It's a beer!\n"
          ]
        }
      ]
    },
    {
      "cell_type": "code",
      "source": [
        "pattern = r'A (glass|bottle|barrel) of (Bud|Miller|Coors)'\n",
        "if re.search(pattern, drink):\n",
        "    print(\"This drink is suitable for Americans\")"
      ],
      "metadata": {
        "colab": {
          "base_uri": "https://localhost:8080/"
        },
        "id": "CObxzhjIIajW",
        "outputId": "d1a75c9b-852d-4e34-963a-8100425f7b46"
      },
      "execution_count": 21,
      "outputs": [
        {
          "output_type": "stream",
          "name": "stdout",
          "text": [
            "This drink is suitable for Americans\n"
          ]
        }
      ]
    },
    {
      "cell_type": "code",
      "source": [
        "txt = 'Stranger in a strange land'\n",
        "m = re.search(r'range\\b', txt)\n",
        "print(m.start())\n",
        "txt = 'Stranger in a strange land'\n",
        "m = re.search(r'range\\B', txt)\n",
        "print(m.start())"
      ],
      "metadata": {
        "colab": {
          "base_uri": "https://localhost:8080/"
        },
        "id": "7Du3x4pTKKp6",
        "outputId": "ba427db4-df9f-468f-a44d-4b28ad92c116"
      },
      "execution_count": 29,
      "outputs": [
        {
          "output_type": "stream",
          "name": "stdout",
          "text": [
            "16\n",
            "2\n"
          ]
        }
      ]
    }
  ]
}