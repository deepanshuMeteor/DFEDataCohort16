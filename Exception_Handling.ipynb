{
  "nbformat": 4,
  "nbformat_minor": 0,
  "metadata": {
    "colab": {
      "name": "Exception Handling.ipynb",
      "provenance": [],
      "collapsed_sections": [],
      "authorship_tag": "ABX9TyOx5meO6O0O5rGV3GNJotsU",
      "include_colab_link": true
    },
    "kernelspec": {
      "name": "python3",
      "display_name": "Python 3"
    },
    "language_info": {
      "name": "python"
    }
  },
  "cells": [
    {
      "cell_type": "markdown",
      "metadata": {
        "id": "view-in-github",
        "colab_type": "text"
      },
      "source": [
        "<a href=\"https://colab.research.google.com/github/deepanshuMeteor/DFEDataCohort16/blob/main/Exception_Handling.ipynb\" target=\"_parent\"><img src=\"https://colab.research.google.com/assets/colab-badge.svg\" alt=\"Open In Colab\"/></a>"
      ]
    },
    {
      "cell_type": "code",
      "execution_count": 4,
      "metadata": {
        "colab": {
          "base_uri": "https://localhost:8080/"
        },
        "id": "WZXFG12bi5Db",
        "outputId": "cb75b803-6bc7-41b6-f24e-7d4c31cd290b"
      },
      "outputs": [
        {
          "output_type": "stream",
          "name": "stdout",
          "text": [
            "Ending...\n"
          ]
        },
        {
          "output_type": "stream",
          "name": "stderr",
          "text": [
            "/usr/local/lib/python3.7/dist-packages/ipykernel_launcher.py:2: UserWarning: Oops\n",
            "  \n"
          ]
        }
      ],
      "source": [
        "import warnings\n",
        "warnings.warn('Oops')\n",
        "print('Ending...')"
      ]
    },
    {
      "cell_type": "code",
      "source": [
        "import warnings\n",
        "warnings.simplefilter('default')\n",
        "warnings.filterwarnings('error', '.*')\n",
        "import time\n",
        "time.accept2dyear = True\n",
        "time.asctime((11, 1, 1, 12, 34, 56, 4, 1, 0))\n",
        "print('Ending...')\n"
      ],
      "metadata": {
        "colab": {
          "base_uri": "https://localhost:8080/"
        },
        "id": "kR_qSoTDjHdZ",
        "outputId": "457bbe69-e8a9-4e57-8f27-a1839a5f7a0d"
      },
      "execution_count": 5,
      "outputs": [
        {
          "output_type": "stream",
          "name": "stdout",
          "text": [
            "Ending...\n"
          ]
        }
      ]
    },
    {
      "cell_type": "code",
      "source": [
        "filename = \"foo.txt\"\n",
        "try:\n",
        "    f = open(filename)\n",
        "except FileNotFoundError:\n",
        "    errmsg = filename + \" not found\"\n",
        "except (TypeError, ValueError):\n",
        "    errmsg = \"Invalid filename\"\n",
        "\n",
        "if errmsg != \"\":\n",
        "    exit(errmsg)"
      ],
      "metadata": {
        "id": "4cEciRJZmSbH"
      },
      "execution_count": 8,
      "outputs": []
    },
    {
      "cell_type": "code",
      "source": [
        "filename = \"foo.txt\"\n",
        "f = open(filename)"
      ],
      "metadata": {
        "colab": {
          "base_uri": "https://localhost:8080/",
          "height": 189
        },
        "id": "17yyMGwymkNZ",
        "outputId": "8c571a98-da18-4916-f61f-9d5f48a91583"
      },
      "execution_count": 9,
      "outputs": [
        {
          "output_type": "error",
          "ename": "FileNotFoundError",
          "evalue": "ignored",
          "traceback": [
            "\u001b[0;31m---------------------------------------------------------------------------\u001b[0m",
            "\u001b[0;31mFileNotFoundError\u001b[0m                         Traceback (most recent call last)",
            "\u001b[0;32m<ipython-input-9-d5ed57435a54>\u001b[0m in \u001b[0;36m<module>\u001b[0;34m()\u001b[0m\n\u001b[1;32m      1\u001b[0m \u001b[0mfilename\u001b[0m \u001b[0;34m=\u001b[0m \u001b[0;34m\"foo.txt\"\u001b[0m\u001b[0;34m\u001b[0m\u001b[0;34m\u001b[0m\u001b[0m\n\u001b[0;32m----> 2\u001b[0;31m \u001b[0mf\u001b[0m \u001b[0;34m=\u001b[0m \u001b[0mopen\u001b[0m\u001b[0;34m(\u001b[0m\u001b[0mfilename\u001b[0m\u001b[0;34m)\u001b[0m\u001b[0;34m\u001b[0m\u001b[0;34m\u001b[0m\u001b[0m\n\u001b[0m",
            "\u001b[0;31mFileNotFoundError\u001b[0m: [Errno 2] No such file or directory: 'foo.txt'"
          ]
        }
      ]
    },
    {
      "cell_type": "code",
      "source": [
        "import sys\n",
        "\n",
        "try:\n",
        "  f = open(\"foo\")\n",
        "except FileNotFoundError as err:\n",
        "  print(\"Could not open\", err.filename, err.args[1], file=sys.stderr)\n",
        "  print(\"Exception arguments:\", err.args,\n",
        "          file=sys.stderr)"
      ],
      "metadata": {
        "colab": {
          "base_uri": "https://localhost:8080/"
        },
        "id": "t9myuGrhnZNw",
        "outputId": "05f1cf32-355b-40f4-83f2-ddd4f7adb4ed"
      },
      "execution_count": 11,
      "outputs": [
        {
          "output_type": "stream",
          "name": "stderr",
          "text": [
            "Could not open foo No such file or directory\n",
            "Exception arguments: (2, 'No such file or directory')\n"
          ]
        }
      ]
    },
    {
      "cell_type": "code",
      "source": [
        "def my_func():\n",
        "    try:\n",
        "        f = open(\"foo\")\n",
        "    finally:\n",
        "        print(\"Finally block\", file=sys.stderr)\n",
        "try:\n",
        "    my_func()\n",
        "except OSError:\n",
        "    print(\"An OS error occurred\", file=sys.stderr)"
      ],
      "metadata": {
        "colab": {
          "base_uri": "https://localhost:8080/"
        },
        "id": "XV8QUYFipQ2W",
        "outputId": "ee7cb958-51e8-4f6a-ca4d-eeedf51b7f1c"
      },
      "execution_count": 12,
      "outputs": [
        {
          "output_type": "stream",
          "name": "stderr",
          "text": [
            "Finally block\n",
            "An OS error occurred\n"
          ]
        }
      ]
    },
    {
      "cell_type": "code",
      "source": [
        "def my_func(*arguments):\n",
        "    if not all(arguments):\n",
        "        raise ValueError('False argument in my_func')\n",
        "try:\n",
        "    my_func('Tom', '', 42)\n",
        "except ValueError as err:\n",
        "    print('Oops:', err, file=sys.stderr)"
      ],
      "metadata": {
        "colab": {
          "base_uri": "https://localhost:8080/"
        },
        "id": "wTTQkhnQp0ME",
        "outputId": "bba86b92-12c5-4e5d-9619-1318bfc3380a"
      },
      "execution_count": 13,
      "outputs": [
        {
          "output_type": "stream",
          "name": "stderr",
          "text": [
            "Oops: False argument in my_func\n"
          ]
        }
      ]
    },
    {
      "cell_type": "code",
      "source": [
        "import sys\n",
        "class MyError(Exception):\n",
        "    pass\n",
        "def my_func(*arguments):\n",
        "    if not all(arguments):\n",
        "        raise MyError('False argument in my_func')\n",
        "try:\n",
        "    my_func('Tom', '', 42)\n",
        "except MyError as err:\n",
        "    print('Oops:', err, file=sys.stderr)"
      ],
      "metadata": {
        "colab": {
          "base_uri": "https://localhost:8080/"
        },
        "id": "_yNKHHBZsSRG",
        "outputId": "cb33a515-6bb9-4026-8c6b-8609b9d79afb"
      },
      "execution_count": 16,
      "outputs": [
        {
          "output_type": "stream",
          "name": "stderr",
          "text": [
            "Oops: False argument in my_func\n"
          ]
        }
      ]
    },
    {
      "cell_type": "code",
      "source": [
        ""
      ],
      "metadata": {
        "id": "8S09dvEDsajW"
      },
      "execution_count": null,
      "outputs": []
    }
  ]
}