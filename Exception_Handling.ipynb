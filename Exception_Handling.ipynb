{
  "nbformat": 4,
  "nbformat_minor": 0,
  "metadata": {
    "colab": {
      "name": "Exception Handling.ipynb",
      "provenance": [],
      "collapsed_sections": [],
      "authorship_tag": "ABX9TyPuAgNar/oMLc8NNA7bSv3X",
      "include_colab_link": true
    },
    "kernelspec": {
      "name": "python3",
      "display_name": "Python 3"
    },
    "language_info": {
      "name": "python"
    }
  },
  "cells": [
    {
      "cell_type": "markdown",
      "metadata": {
        "id": "view-in-github",
        "colab_type": "text"
      },
      "source": [
        "<a href=\"https://colab.research.google.com/github/deepanshuMeteor/DFEDataCohort16/blob/main/Exception_Handling.ipynb\" target=\"_parent\"><img src=\"https://colab.research.google.com/assets/colab-badge.svg\" alt=\"Open In Colab\"/></a>"
      ]
    },
    {
      "cell_type": "code",
      "execution_count": 4,
      "metadata": {
        "colab": {
          "base_uri": "https://localhost:8080/"
        },
        "id": "WZXFG12bi5Db",
        "outputId": "cb75b803-6bc7-41b6-f24e-7d4c31cd290b"
      },
      "outputs": [
        {
          "output_type": "stream",
          "name": "stdout",
          "text": [
            "Ending...\n"
          ]
        },
        {
          "output_type": "stream",
          "name": "stderr",
          "text": [
            "/usr/local/lib/python3.7/dist-packages/ipykernel_launcher.py:2: UserWarning: Oops\n",
            "  \n"
          ]
        }
      ],
      "source": [
        "import warnings\n",
        "warnings.warn('Oops')\n",
        "print('Ending...')"
      ]
    },
    {
      "cell_type": "code",
      "source": [
        "import warnings\n",
        "warnings.simplefilter('default')\n",
        "warnings.filterwarnings('error', '.*')\n",
        "import time\n",
        "time.accept2dyear = True\n",
        "time.asctime((11, 1, 1, 12, 34, 56, 4, 1, 0))\n",
        "print('Ending...')\n"
      ],
      "metadata": {
        "colab": {
          "base_uri": "https://localhost:8080/"
        },
        "id": "kR_qSoTDjHdZ",
        "outputId": "457bbe69-e8a9-4e57-8f27-a1839a5f7a0d"
      },
      "execution_count": 5,
      "outputs": [
        {
          "output_type": "stream",
          "name": "stdout",
          "text": [
            "Ending...\n"
          ]
        }
      ]
    },
    {
      "cell_type": "code",
      "source": [
        "filename = \"foo.txt\"\n",
        "try:\n",
        "    f = open(filename)\n",
        "except FileNotFoundError:\n",
        "    errmsg = filename + \" not found\"\n",
        "except (TypeError, ValueError):\n",
        "    errmsg = \"Invalid filename\"\n",
        "\n",
        "if errmsg != \"\":\n",
        "    exit(errmsg)"
      ],
      "metadata": {
        "id": "4cEciRJZmSbH"
      },
      "execution_count": 8,
      "outputs": []
    },
    {
      "cell_type": "code",
      "source": [
        "filename = \"foo.txt\"\n",
        "f = open(filename)"
      ],
      "metadata": {
        "colab": {
          "base_uri": "https://localhost:8080/",
          "height": 227
        },
        "id": "17yyMGwymkNZ",
        "outputId": "8c571a98-da18-4916-f61f-9d5f48a91583"
      },
      "execution_count": 9,
      "outputs": [
        {
          "output_type": "error",
          "ename": "FileNotFoundError",
          "evalue": "ignored",
          "traceback": [
            "\u001b[0;31m---------------------------------------------------------------------------\u001b[0m",
            "\u001b[0;31mFileNotFoundError\u001b[0m                         Traceback (most recent call last)",
            "\u001b[0;32m<ipython-input-9-d5ed57435a54>\u001b[0m in \u001b[0;36m<module>\u001b[0;34m()\u001b[0m\n\u001b[1;32m      1\u001b[0m \u001b[0mfilename\u001b[0m \u001b[0;34m=\u001b[0m \u001b[0;34m\"foo.txt\"\u001b[0m\u001b[0;34m\u001b[0m\u001b[0;34m\u001b[0m\u001b[0m\n\u001b[0;32m----> 2\u001b[0;31m \u001b[0mf\u001b[0m \u001b[0;34m=\u001b[0m \u001b[0mopen\u001b[0m\u001b[0;34m(\u001b[0m\u001b[0mfilename\u001b[0m\u001b[0;34m)\u001b[0m\u001b[0;34m\u001b[0m\u001b[0;34m\u001b[0m\u001b[0m\n\u001b[0m",
            "\u001b[0;31mFileNotFoundError\u001b[0m: [Errno 2] No such file or directory: 'foo.txt'"
          ]
        }
      ]
    },
    {
      "cell_type": "code",
      "source": [
        "import sys\n",
        "\n",
        "try:\n",
        "  f = open(\"foo\")\n",
        "except FileNotFoundError as err:\n",
        "  print(\"Could not open\", err.filename, err.args[1], file=sys.stderr)\n",
        "  print(\"Exception arguments:\", err.args,\n",
        "          file=sys.stderr)"
      ],
      "metadata": {
        "colab": {
          "base_uri": "https://localhost:8080/"
        },
        "id": "t9myuGrhnZNw",
        "outputId": "05f1cf32-355b-40f4-83f2-ddd4f7adb4ed"
      },
      "execution_count": 11,
      "outputs": [
        {
          "output_type": "stream",
          "name": "stderr",
          "text": [
            "Could not open foo No such file or directory\n",
            "Exception arguments: (2, 'No such file or directory')\n"
          ]
        }
      ]
    },
    {
      "cell_type": "code",
      "source": [
        "def my_func():\n",
        "    try:\n",
        "        f = open(\"foo\")\n",
        "    finally:\n",
        "        print(\"Finally block\", file=sys.stderr)\n",
        "try:\n",
        "    my_func()\n",
        "except OSError:\n",
        "    print(\"An OS error occurred\", file=sys.stderr)"
      ],
      "metadata": {
        "colab": {
          "base_uri": "https://localhost:8080/"
        },
        "id": "XV8QUYFipQ2W",
        "outputId": "ee7cb958-51e8-4f6a-ca4d-eeedf51b7f1c"
      },
      "execution_count": 12,
      "outputs": [
        {
          "output_type": "stream",
          "name": "stderr",
          "text": [
            "Finally block\n",
            "An OS error occurred\n"
          ]
        }
      ]
    },
    {
      "cell_type": "code",
      "source": [
        "def my_func(*arguments):\n",
        "    if not all(arguments):\n",
        "        raise ValueError('False argument in my_func')\n",
        "try:\n",
        "    my_func('Tom', '', 42)\n",
        "except ValueError as err:\n",
        "    print('Oops:', err, file=sys.stderr)"
      ],
      "metadata": {
        "colab": {
          "base_uri": "https://localhost:8080/"
        },
        "id": "wTTQkhnQp0ME",
        "outputId": "bba86b92-12c5-4e5d-9619-1318bfc3380a"
      },
      "execution_count": 13,
      "outputs": [
        {
          "output_type": "stream",
          "name": "stderr",
          "text": [
            "Oops: False argument in my_func\n"
          ]
        }
      ]
    },
    {
      "cell_type": "code",
      "source": [
        "import sys\n",
        "class MyError(Exception):\n",
        "    pass\n",
        "def my_func(*arguments):\n",
        "    if not all(arguments):\n",
        "        raise MyError('False argument in my_func')\n",
        "try:\n",
        "    my_func('Tom', '', 42)\n",
        "except MyError as err:\n",
        "    print('Oops:', err, file=sys.stderr)"
      ],
      "metadata": {
        "colab": {
          "base_uri": "https://localhost:8080/"
        },
        "id": "_yNKHHBZsSRG",
        "outputId": "cb33a515-6bb9-4026-8c6b-8609b9d79afb"
      },
      "execution_count": 16,
      "outputs": [
        {
          "output_type": "stream",
          "name": "stderr",
          "text": [
            "Oops: False argument in my_func\n"
          ]
        }
      ]
    },
    {
      "cell_type": "code",
      "source": [
        "try:\n",
        "    open(\"some file name\")\n",
        "except FileNotFoundError as err:\n",
        "    tipe, val, tb = sys.exc_info()\n",
        "    print(\"Exception lineno:\", tb.tb_lineno)"
      ],
      "metadata": {
        "colab": {
          "base_uri": "https://localhost:8080/"
        },
        "id": "8S09dvEDsajW",
        "outputId": "f0988797-e024-4019-8419-f2bb5cc0c40d"
      },
      "execution_count": 17,
      "outputs": [
        {
          "output_type": "stream",
          "name": "stdout",
          "text": [
            "Exception lineno: 2\n"
          ]
        }
      ]
    },
    {
      "cell_type": "code",
      "source": [
        "class Exc1(Exception): \n",
        "  pass\n",
        "\n",
        "def func1():\n",
        "  try:\n",
        "    open(\"some file name\")\n",
        "  except OSError as err:\n",
        "    raise Exc1(err) \n",
        "\n",
        "import sys \n",
        "import traceback\n",
        "try: \n",
        "  func1()\n",
        "except: \n",
        "  traceback.print_exc()"
      ],
      "metadata": {
        "colab": {
          "base_uri": "https://localhost:8080/"
        },
        "id": "XS5hubgytAXY",
        "outputId": "4c3240ec-1e2c-4f75-c489-ce104d62cbf8"
      },
      "execution_count": 18,
      "outputs": [
        {
          "output_type": "stream",
          "name": "stderr",
          "text": [
            "Traceback (most recent call last):\n",
            "  File \"<ipython-input-18-06fba0aac51a>\", line 6, in func1\n",
            "    open(\"some file name\")\n",
            "FileNotFoundError: [Errno 2] No such file or directory: 'some file name'\n",
            "\n",
            "During handling of the above exception, another exception occurred:\n",
            "\n",
            "Traceback (most recent call last):\n",
            "  File \"<ipython-input-18-06fba0aac51a>\", line 13, in <module>\n",
            "    func1()\n",
            "  File \"<ipython-input-18-06fba0aac51a>\", line 8, in func1\n",
            "    raise Exc1(err)\n",
            "Exc1: [Errno 2] No such file or directory: 'some file name'\n"
          ]
        }
      ]
    },
    {
      "cell_type": "code",
      "source": [
        "import sys\n",
        "import mytimer\n",
        "\n",
        "mytimer.start_timer()\n",
        "lines = 0\n",
        "try:\n",
        "    for row in open(\"words\", \"r\"):\n",
        "        lines += 1\n",
        "except IOError as err: \n",
        "    print(\"Could not open:\",\n",
        "           err.filename, err.args[1],\n",
        "           file=sys.stderr)           \n",
        "    \n",
        "print(\"Number of lines:\", lines)\n",
        "\n",
        "\n",
        "print(\"We are all done\")"
      ],
      "metadata": {
        "colab": {
          "base_uri": "https://localhost:8080/"
        },
        "id": "7oQIqmxNtYqy",
        "outputId": "6bcd21d6-d37c-454b-f885-d85eb6703c9d"
      },
      "execution_count": 26,
      "outputs": [
        {
          "output_type": "stream",
          "name": "stdout",
          "text": [
            "Number of lines: 45402\n",
            "We are all done\n"
          ]
        },
        {
          "output_type": "stream",
          "name": "stderr",
          "text": [
            "Exception ignored in: <_io.FileIO name='words' mode='rb' closefd=True>\n",
            "ResourceWarning: unclosed file <_io.TextIOWrapper name='words' mode='r' encoding='UTF-8'>\n"
          ]
        }
      ]
    },
    {
      "cell_type": "code",
      "source": [
        "#! /usr/bin/python\n",
        "# Python 3 version.\n",
        "# Error handling extension.\n",
        "\n",
        "import os.path\n",
        "import struct\n",
        "\n",
        "class File:\n",
        "    def __init__(self, filename):\n",
        "        self._filename = filename\n",
        "        self._error = False\n",
        "        \n",
        "        # If the file does not exist, create it.\n",
        "        if not os.path.isfile(filename):\n",
        "            try:\n",
        "                open(filename, 'w')\n",
        "            except IOError as err:\n",
        "                self._error = err.args\n",
        "\n",
        "    def __len__(self):\n",
        "        if self._error:\n",
        "            return None\n",
        "        else:\n",
        "            return os.path.getsize(self._filename)\n",
        "     \n",
        "    @property\n",
        "    def error(self):\n",
        "        return self._error\n",
        "    \n",
        "# Text file\n",
        "class TextFile(File):\n",
        "    @property\n",
        "    def contents(self):\n",
        "        \"\"\" Return the contents of the file \"\"\"\n",
        "        return open(self._filename, 'rt').read()\n",
        "    \n",
        "    @contents.setter\n",
        "    def contents(self, value):\n",
        "        \"\"\" Append to the file \"\"\"\n",
        "        if not value.endswith('\\n'):\n",
        "            value += '\\n';\n",
        "        open(self._filename, 'at').write(value)\n",
        "        return\n",
        "\n",
        "# Binary file\n",
        "class BinFile(File):\n",
        "    @property\n",
        "    def contents(self):\n",
        "        \"\"\" Return the contents of the file \"\"\"\n",
        "        value = open(self._filename, 'rb').read()\n",
        "        return value.decode()\n",
        "    \n",
        "    @contents.setter\n",
        "    def contents(self,value):\n",
        "        \"\"\" Append to the file \"\"\"\n",
        "        if isinstance(value, int):\n",
        "            out = struct.pack('i', value)\n",
        "            open(self._filename, 'ab').write(out)\n",
        "        else:\n",
        "            open(self._filename, 'ab').write(value.encode())\n",
        "        return\n",
        "        \n",
        "        \n",
        "if __name__ == '__main__':\n",
        "    import sys\n",
        "\n",
        "    # Test constructor error handling\n",
        "    if not os.path.isdir('deep'):\n",
        "      os.mkdir('deep')\n",
        "\n",
        "    dummy = TextFile('deep')\n",
        "    \n",
        "    if dummy.error:\n",
        "        print('deep error:', dummy.error, file=sys.stderr)\n",
        "    else:\n",
        "        print('No error detected!', file=sys.stderr)\n",
        "    \n"
      ],
      "metadata": {
        "colab": {
          "base_uri": "https://localhost:8080/"
        },
        "id": "25nAV2qRtx9n",
        "outputId": "9ccfddca-3779-42cc-cd87-309942497aef"
      },
      "execution_count": 27,
      "outputs": [
        {
          "output_type": "stream",
          "name": "stderr",
          "text": [
            "deep error: (21, 'Is a directory')\n"
          ]
        }
      ]
    }
  ]
}