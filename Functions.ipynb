{
  "nbformat": 4,
  "nbformat_minor": 0,
  "metadata": {
    "colab": {
      "name": "Functions.ipynb",
      "provenance": [],
      "authorship_tag": "ABX9TyPGO6BuqR+En+4Ohlwrz1eZ",
      "include_colab_link": true
    },
    "kernelspec": {
      "name": "python3",
      "display_name": "Python 3"
    },
    "language_info": {
      "name": "python"
    }
  },
  "cells": [
    {
      "cell_type": "markdown",
      "metadata": {
        "id": "view-in-github",
        "colab_type": "text"
      },
      "source": [
        "<a href=\"https://colab.research.google.com/github/deepanshuMeteor/DFEDataCohort16/blob/main/Functions.ipynb\" target=\"_parent\"><img src=\"https://colab.research.google.com/assets/colab-badge.svg\" alt=\"Open In Colab\"/></a>"
      ]
    },
    {
      "cell_type": "code",
      "execution_count": 1,
      "metadata": {
        "colab": {
          "base_uri": "https://localhost:8080/"
        },
        "id": "pRZf_mj87wOy",
        "outputId": "573424b1-291e-42b2-d91d-ff73287aa4c4"
      },
      "outputs": [
        {
          "output_type": "stream",
          "name": "stdout",
          "text": [
            "['h', 'h', 'h', 'h', 'h', 'h', 'h', 'h']\n"
          ]
        }
      ],
      "source": [
        "def change_list(inlist, val, times):\n",
        "    inlist += str(val) * times\n",
        "\n",
        "mylist=[]\n",
        "change_list(mylist, 'h', 8)\n",
        "print(mylist)"
      ]
    }
  ]
}