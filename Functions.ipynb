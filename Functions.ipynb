{
  "nbformat": 4,
  "nbformat_minor": 0,
  "metadata": {
    "colab": {
      "name": "Functions.ipynb",
      "provenance": [],
      "authorship_tag": "ABX9TyNR/VFS8KAf7VN3+fNyXn7n",
      "include_colab_link": true
    },
    "kernelspec": {
      "name": "python3",
      "display_name": "Python 3"
    },
    "language_info": {
      "name": "python"
    }
  },
  "cells": [
    {
      "cell_type": "markdown",
      "metadata": {
        "id": "view-in-github",
        "colab_type": "text"
      },
      "source": [
        "<a href=\"https://colab.research.google.com/github/deepanshuMeteor/DFEDataCohort16/blob/main/Functions.ipynb\" target=\"_parent\"><img src=\"https://colab.research.google.com/assets/colab-badge.svg\" alt=\"Open In Colab\"/></a>"
      ]
    },
    {
      "cell_type": "code",
      "execution_count": 1,
      "metadata": {
        "colab": {
          "base_uri": "https://localhost:8080/"
        },
        "id": "pRZf_mj87wOy",
        "outputId": "573424b1-291e-42b2-d91d-ff73287aa4c4"
      },
      "outputs": [
        {
          "output_type": "stream",
          "name": "stdout",
          "text": [
            "['h', 'h', 'h', 'h', 'h', 'h', 'h', 'h']\n"
          ]
        }
      ],
      "source": [
        "def change_list(inlist, val, times):\n",
        "    inlist += str(val) * times\n",
        "\n",
        "mylist=[]\n",
        "change_list(mylist, 'h', 8)\n",
        "print(mylist)"
      ]
    },
    {
      "cell_type": "code",
      "source": [
        "def print_vat(gross, vatpc=17.5, message='Summary:'):\n",
        "  net = gross/(1 + (vatpc/100))\n",
        "  vat = gross - net\n",
        "  print(message, 'Net: {0:5.2f} Vat: {1:5.2f}'.format(net, vat))\n",
        "\n",
        "print_vat(9.55, message='Final sum:')"
      ],
      "metadata": {
        "colab": {
          "base_uri": "https://localhost:8080/"
        },
        "id": "rA54yCZi8uPw",
        "outputId": "877e7dff-2274-464e-ad16-9c92db479fab"
      },
      "execution_count": 3,
      "outputs": [
        {
          "output_type": "stream",
          "name": "stdout",
          "text": [
            "Final sum: Net:  8.13 Vat:  1.42\n"
          ]
        }
      ]
    },
    {
      "cell_type": "code",
      "source": [
        "def my_func(file, dir, user='root'):\n",
        "    print('file: {:}, dir: {:}, to: {:} '.\n",
        "          format(file, dir, user))\n",
        "    \n",
        "#my_func('one', 'two', 'three')\n",
        "#my_func('one', 'two')\n",
        "my_func(file='one', user='three', dir='two')"
      ],
      "metadata": {
        "colab": {
          "base_uri": "https://localhost:8080/"
        },
        "id": "cu7lH_aG9rV_",
        "outputId": "e766353b-c660-4725-caf7-605615c4b144"
      },
      "execution_count": 6,
      "outputs": [
        {
          "output_type": "stream",
          "name": "stdout",
          "text": [
            "file: one, dir: two, to: three \n"
          ]
        }
      ]
    },
    {
      "cell_type": "code",
      "source": [
        "def print_vat(*, gross=0, vatpc=17.5, message='Summary:'): \n",
        "  net = gross/(1 + (vatpc/100))\n",
        "  vat = gross - net\n",
        "  print(message, 'Net: {0:5.2f} Vat: {1:5.2f}'.format(net, vat))\n",
        "print_vat(vatpc=15, gross=9.55)\n",
        "print_vat()"
      ],
      "metadata": {
        "colab": {
          "base_uri": "https://localhost:8080/"
        },
        "id": "va8mHDXa-1Cd",
        "outputId": "74360415-ac8c-4b4a-a762-3669555807f9"
      },
      "execution_count": 7,
      "outputs": [
        {
          "output_type": "stream",
          "name": "stdout",
          "text": [
            "Summary: Net:  8.30 Vat:  1.25\n",
            "Summary: Net:  0.00 Vat:  0.00\n"
          ]
        }
      ]
    },
    {
      "cell_type": "code",
      "source": [
        "print_vat(15, 9.55)"
      ],
      "metadata": {
        "colab": {
          "base_uri": "https://localhost:8080/",
          "height": 171
        },
        "id": "6Fv5ZWEY-8nO",
        "outputId": "29e55086-55d6-4c9f-c903-0a007ddfb610"
      },
      "execution_count": 8,
      "outputs": [
        {
          "output_type": "error",
          "ename": "TypeError",
          "evalue": "ignored",
          "traceback": [
            "\u001b[0;31m---------------------------------------------------------------------------\u001b[0m",
            "\u001b[0;31mTypeError\u001b[0m                                 Traceback (most recent call last)",
            "\u001b[0;32m<ipython-input-8-77f08bc51f7e>\u001b[0m in \u001b[0;36m<module>\u001b[0;34m()\u001b[0m\n\u001b[0;32m----> 1\u001b[0;31m \u001b[0mprint_vat\u001b[0m\u001b[0;34m(\u001b[0m\u001b[0;36m15\u001b[0m\u001b[0;34m,\u001b[0m \u001b[0;36m9.55\u001b[0m\u001b[0;34m)\u001b[0m\u001b[0;34m\u001b[0m\u001b[0;34m\u001b[0m\u001b[0m\n\u001b[0m",
            "\u001b[0;31mTypeError\u001b[0m: print_vat() takes 0 positional arguments but 2 were given"
          ]
        }
      ]
    },
    {
      "cell_type": "code",
      "source": [
        "def print_vat(**kwargs):\n",
        "  print(kwargs)\n",
        "print_vat(vatpc=15, gross=9.55, message='Summary')"
      ],
      "metadata": {
        "colab": {
          "base_uri": "https://localhost:8080/"
        },
        "id": "aMaTRBDE_c48",
        "outputId": "4b116e20-293e-4ac2-ec38-6a03b0b8845e"
      },
      "execution_count": 9,
      "outputs": [
        {
          "output_type": "stream",
          "name": "stdout",
          "text": [
            "{'vatpc': 15, 'gross': 9.55, 'message': 'Summary'}\n"
          ]
        }
      ]
    },
    {
      "cell_type": "code",
      "source": [
        "def calc_vat(gross, vatpc=17.5):\n",
        "  net = gross/(1 + (vatpc/100))\n",
        "  print(net)\n",
        "  vat = gross - net\n",
        "  return [f'{net:05.2f}', f'{vat:05.2f}']\n",
        "\n",
        "result = calc_vat(42.30)\n",
        "\n",
        "print(calc_vat(9.55))"
      ],
      "metadata": {
        "colab": {
          "base_uri": "https://localhost:8080/"
        },
        "id": "ZI1Phq6MAaEx",
        "outputId": "cbc6b7eb-3767-472a-f410-a28b30fb6d39"
      },
      "execution_count": 16,
      "outputs": [
        {
          "output_type": "stream",
          "name": "stdout",
          "text": [
            "35.99999999999999\n",
            "8.127659574468085\n",
            "['08.13', '01.42']\n"
          ]
        }
      ]
    },
    {
      "cell_type": "code",
      "source": [
        "def scope_test1():\n",
        "   result = 4\n",
        "   print('old',result)\n",
        "\n",
        "scope_test1()\n",
        "print(result)\n",
        "def scope_test2(): \n",
        "  global result\n",
        "  result = 42\n",
        "scope_test2()\n",
        "print(result)"
      ],
      "metadata": {
        "colab": {
          "base_uri": "https://localhost:8080/"
        },
        "id": "acJ-m3MVCzXX",
        "outputId": "577848ba-47d4-426b-e03a-52adca47b22b"
      },
      "execution_count": 22,
      "outputs": [
        {
          "output_type": "stream",
          "name": "stdout",
          "text": [
            "old 4\n",
            "42\n",
            "42\n"
          ]
        }
      ]
    },
    {
      "cell_type": "code",
      "source": [
        "def outer():\n",
        "    num = 42\n",
        "    def inner():\n",
        "        print(num, \"in inner\")\n",
        "    inner()\n",
        "    print(num, \"in outer\")\n",
        "outer()\n",
        "inner()"
      ],
      "metadata": {
        "colab": {
          "base_uri": "https://localhost:8080/",
          "height": 244
        },
        "id": "xJgcU6sUFLN7",
        "outputId": "5600d276-1c9f-4666-a8e6-999c03dad18d"
      },
      "execution_count": 23,
      "outputs": [
        {
          "output_type": "stream",
          "name": "stdout",
          "text": [
            "42 in inner\n",
            "42 in outer\n"
          ]
        },
        {
          "output_type": "error",
          "ename": "NameError",
          "evalue": "ignored",
          "traceback": [
            "\u001b[0;31m---------------------------------------------------------------------------\u001b[0m",
            "\u001b[0;31mNameError\u001b[0m                                 Traceback (most recent call last)",
            "\u001b[0;32m<ipython-input-23-ee1ec95e43bf>\u001b[0m in \u001b[0;36m<module>\u001b[0;34m()\u001b[0m\n\u001b[1;32m      6\u001b[0m     \u001b[0mprint\u001b[0m\u001b[0;34m(\u001b[0m\u001b[0mnum\u001b[0m\u001b[0;34m,\u001b[0m \u001b[0;34m\"in outer\"\u001b[0m\u001b[0;34m)\u001b[0m\u001b[0;34m\u001b[0m\u001b[0;34m\u001b[0m\u001b[0m\n\u001b[1;32m      7\u001b[0m \u001b[0mouter\u001b[0m\u001b[0;34m(\u001b[0m\u001b[0;34m)\u001b[0m\u001b[0;34m\u001b[0m\u001b[0;34m\u001b[0m\u001b[0m\n\u001b[0;32m----> 8\u001b[0;31m \u001b[0minner\u001b[0m\u001b[0;34m(\u001b[0m\u001b[0;34m)\u001b[0m\u001b[0;34m\u001b[0m\u001b[0;34m\u001b[0m\u001b[0m\n\u001b[0m",
            "\u001b[0;31mNameError\u001b[0m: name 'inner' is not defined"
          ]
        }
      ]
    },
    {
      "cell_type": "code",
      "source": [
        "result = 3\n",
        "def my_func():\n",
        "    result = 12\n",
        "    def scope_test():\n",
        "        nonlocal result\n",
        "        if result < 45:\n",
        "            result += 1\n",
        "            scope_test()\n",
        "    scope_test()\n",
        "    print(result, \"from my_func\")\n",
        "my_func()\n",
        "print(result, \"from main\")"
      ],
      "metadata": {
        "colab": {
          "base_uri": "https://localhost:8080/"
        },
        "id": "NwpMmcytFlRF",
        "outputId": "94467489-3ec2-4b63-cc4f-001598ee705c"
      },
      "execution_count": 24,
      "outputs": [
        {
          "output_type": "stream",
          "name": "stdout",
          "text": [
            "45 from my_func\n",
            "3 from main\n"
          ]
        }
      ]
    },
    {
      "cell_type": "code",
      "source": [
        "def my_func():\n",
        "  \"\"\" my_func has no parameters\n",
        "        and prints 'Hello'.\n",
        "  \"\"\"\n",
        "  print(\"Hello\")"
      ],
      "metadata": {
        "id": "1AGA-hNpGGyv"
      },
      "execution_count": 26,
      "outputs": []
    },
    {
      "cell_type": "code",
      "source": [
        "compare=lambda a, b: -1 if a < b else (+1 if a > b else 0)\n",
        "x = 42 \n",
        "y=3\n",
        "print(\"a>b\", compare(x, y))"
      ],
      "metadata": {
        "colab": {
          "base_uri": "https://localhost:8080/"
        },
        "id": "gVP7Tnq5G01p",
        "outputId": "8c150c74-5fea-4add-9ad0-a8aea90cc83e"
      },
      "execution_count": 30,
      "outputs": [
        {
          "output_type": "stream",
          "name": "stdout",
          "text": [
            "a>b 1\n"
          ]
        }
      ]
    },
    {
      "cell_type": "code",
      "source": [
        "x=42\n",
        "y=3\n",
        "if x < y:\n",
        "  print('a>b 1')\n",
        "if x > y:\n",
        "  print('a>b -1')\n",
        "else:\n",
        "  print('0')"
      ],
      "metadata": {
        "colab": {
          "base_uri": "https://localhost:8080/"
        },
        "id": "UagUVp_OHcsu",
        "outputId": "77374c90-4b4a-40fb-976c-8548c857bebc"
      },
      "execution_count": 35,
      "outputs": [
        {
          "output_type": "stream",
          "name": "stdout",
          "text": [
            "a>b -1\n"
          ]
        }
      ]
    },
    {
      "cell_type": "markdown",
      "source": [
        "-----------------------------------------------------------------------------"
      ],
      "metadata": {
        "id": "FH3QFmsBZOER"
      }
    },
    {
      "cell_type": "markdown",
      "source": [
        "Practice:"
      ],
      "metadata": {
        "id": "O8MJ6_tTZN2g"
      }
    },
    {
      "cell_type": "code",
      "source": [
        "def myfunc1(val, lista = []):\n",
        "    lista.append(val)\n",
        "    print(\"value of lista is:\", lista)\n",
        "    \n",
        "myfunc1(42)\n",
        "myfunc1(37)\n",
        "myfunc1(99)\n",
        "\n",
        "\n",
        "def myfunc2(val, lista=None):\n",
        "    if lista == None:\n",
        "        lista = []\n",
        "    \n",
        "    lista.append(val)\n",
        "    print(\"value of lista is:\", lista)\n",
        "    return\n",
        "    \n",
        "myfunc2(42)\n",
        "myfunc2(37)"
      ],
      "metadata": {
        "colab": {
          "base_uri": "https://localhost:8080/"
        },
        "id": "PIjZpFK4ZAXi",
        "outputId": "8883d4ec-fbc0-4a85-97d3-775b21aa3946"
      },
      "execution_count": 36,
      "outputs": [
        {
          "output_type": "stream",
          "name": "stdout",
          "text": [
            "value of lista is: [42]\n",
            "value of lista is: [42, 37]\n",
            "value of lista is: [42, 37, 99]\n",
            "value of lista is: [42]\n",
            "value of lista is: [37]\n"
          ]
        }
      ]
    },
    {
      "cell_type": "code",
      "source": [
        "import re\n",
        "\n",
        "def prep_row(row):\n",
        "    row = re.sub(r\"'\", r\"''\", row)\n",
        "    \n",
        "    # Add quotes around each field using a Lambda function (alternative solution).\n",
        "    # lrow = list((map(lambda f: \"'\" + f + \"'\", row.split(','))))\n",
        "    \n",
        "    lrow = []\n",
        "    for field in row.split(\",\"):\n",
        "        lrow.append(\"'\" + field + \"'\")\n",
        "    \n",
        "    return \",\".join(lrow)\n",
        "    \n",
        "    \n",
        "for row in open(\"country.txt\", \"r\"):\n",
        "    print(prep_row(row))"
      ],
      "metadata": {
        "colab": {
          "base_uri": "https://localhost:8080/"
        },
        "id": "bVdQ9D8_Zfvv",
        "outputId": "cf23c356-1ab0-4e28-99f8-2122831d69ce"
      },
      "execution_count": 38,
      "outputs": [
        {
          "output_type": "stream",
          "name": "stdout",
          "text": [
            "'Afghanistan','2992898','Kabul','1424400','Asia','1919','Aphgani','Islam','Pashtu','Persian\n",
            "'\n",
            "'Albania','3200001','Tirana','251000','Europe','1912','Lek','Islam','Albanian','Greek\n",
            "'\n",
            "'Algeria','32531853','Algiers','1507241','Africa','1962','Dinar','Sunni Muslim','Arabic','Berber','French\n",
            "'\n",
            "'Andorra','64000','Andorra La Vella','23000','Europe','1278','Euro','Christianity','French','Catalan','Spanish\n",
            "'\n",
            "'Angola','14284000','Luanda','4534000','Africa','1975','New Kwanza','Traditional Beliefs','Portuguese','Bantu\n",
            "'\n",
            "'Anguilla','12500','Anguilla','?','Caribbean','-','East Caribbean Dollar','Christianity','English\n",
            "'\n",
            "'Antarctica','0','-','-','Antarctica','1961','-','-','-\n",
            "'\n",
            "'Antigua and Barbuda','68722','St. Johns','23500','Caribbean','-','East Caribbean Dollar','Christianity','English\n",
            "'\n",
            "'Arctica','0','-','-','Arctic Region','-','-','-','-\n",
            "'\n",
            "'Argentina','38970000','Buenos Aires','3922829','Latin America','1816','Peso','Christianity','Spanish\n",
            "'\n",
            "'Armenia','2982904','Yerevan','1462700','Asia','1991','Dram','Christianity','Armenian','Russian\n",
            "'\n",
            "'Aruba','71218','Oranjestad','?','Caribbean','-','Aruban Guilder','Catholicism','Dutch','Papiamento','English','Spanish\n",
            "'\n",
            "'Australia','20200000','Canberra','310000','Oceania','1901','Australian Dollar','Anglican','English\n",
            "'\n",
            "'Austria','8115000','Vienna','1987577','Europe','1918','Euro','Christianity','German\n",
            "'\n",
            "'Azerbaijan','7911974','Baku','2118600','Asia','1991','Manat','Islam','Azerbaijani','Russian\n",
            "'\n",
            "'Bahamas','303611','Nassau','222200','North America','1973','Bahamian Dollar','Christianity','English\n",
            "'\n",
            "'Bahrain','688345','Al-Manamah','149900','Middle East','1971','Bahrain Dinar','Islam','Arabic','Farsi','Urdu\n",
            "'\n",
            "'Bangladesh','158760000','Dhaka','5731000','Asia','1971','Taka','Islam','Bengali\n",
            "'\n",
            "'Barbados','276607','Bridgetown','98900','Caribbean','1966','Barbadian Dollar','Christianity','English\n",
            "'\n",
            "'Bielarus','9800000','Minsk','1769500','Europe','1991','Bielarussion Ruble','Orthodox','Bielarussian','Russian\n",
            "'\n",
            "'Belgium','10445852','Brussels','737966','Europe','1830','Euro','Catholicism','Dutch','French','German\n",
            "'\n",
            "'Belize','266440','Belmopan','8700','Latin America','1981','Belizean Dollar','Christianity','English','Spanish','Creole\n",
            "'\n",
            "'Benin','7460025','Porto-Novo','231600','Africa','1960','CFA Franc','Islam','French','Yoruba\n",
            "'\n",
            "'Bermuda','64482','Hamilton','?','North America','-','Bermudian Dollar','Christianity','English','Portuguese\n",
            "'\n",
            "'Bhutan','2232291','Thimphu','60200','Asia','1949','Bhutan Ngultrum','Buddhism','Dzongkha\n",
            "'\n",
            "'Bolivia','8857870','La Paz','869400','Latin America','1825','Boliviano','Catholicism','Spanish','Aymara','Quechua\n",
            "'\n",
            "'Bosnia and Herzegovina','4025476','Sarajevo','581500','Europe','1992','Mark','Christianity','Bosnian','Serbian','Croatian\n",
            "'\n",
            "'Botswana','1563267','Gaborone','195000','Africa','1966','Pula','Christianity','English','Setswana\n",
            "'\n",
            "'Brazil','186112794','Brasilia','2567709','Latin America','1822','Real','Christianity','Portuguese\n",
            "'\n",
            "'Brunei','343653','Bandar Seri Begawan','78000','Asia','1984','Brunei Dollar','Islam','Malay','English','Chinese\n",
            "'\n",
            "'Bulgaria','7537929','Sofia','1217024','Europe','1908','Leva','Orthodoxy','Bulgarian\n",
            "'\n",
            "'Burkina Faso','13925313','Ouagadougou','1441514','Africa','1960','CFA Franc','Traditional Beliefs','French\n",
            "'\n",
            "'Burundi','6370714','Bujumbara','336628','Africa','1962','Burundi Franc','Christianity','Kirundi','French\n",
            "'\n",
            "'Cambodia','13363421','Phnom Penh','1169800','Asia','1953','Riel','Buddhism','Khmer','English','French\n",
            "'\n",
            "'Cameroon','16746179','Yaounde','1274300','Africa','1960','CFA Franc','Christianity','French','English','Bantu\n",
            "'\n",
            "'Canada','32805041','Ottawa','1163900','North America','1867','Canadian Dollar','Christianity','English','French\n",
            "'\n",
            "'Cape Verde','415294','Praia','99400','Africa','1975','CV Escudo','Catholicism','Portuguese','Crioulo\n",
            "'\n",
            "'Cayman Islands','41934','George Town','?','Caribbean','1963','Cayman Dollar','Christianity','English\n",
            "'\n",
            "'Central African Republic','3683538','Bangui','81000','Africa','1960','CFA Franc','-','French','Sangho\n",
            "'\n",
            "'Chad','9253493','H''Djamena','500000','Africa','1960','CFA Franc','Islam','Arabic','French\n",
            "'\n",
            "'Chile','16136137','Santiago','8236300','Latin America','1810','Peso','Christianity','Spanish\n",
            "'\n",
            "'China','1300667000','Beijing','9800000','Orient','-1523','Yuan','Buddhism;Taoism','Mandarin','Cantonese\n",
            "'\n",
            "'Christmas Island','396','The Settlement','?','Oceania','-','Australian Dollar','Buddhism;Muslim','English','Chinese','Malay\n",
            "'\n",
            "'Cocos Island','629','West Island','?','Oceania','-','Australian Dollar','Islam','Malay','English\n",
            "'\n",
            "'Colombia','44531434','Bogota','6819696','Latin America','1810','Peso','Christianity','Spanish\n",
            "'\n",
            "'Comoros','596292','Moroni','60200','Africa','1975','Comorian Franc','Islam','Arabic','French\n",
            "'\n",
            "'Cook Islands','21288','Avarua','?','Oceania','1965','NZ Dollar','Christianity','English','Maori\n",
            "'\n",
            "'Costa Rica','4016173','San Jose','1527300','Latin America','1821','Colon','Christianity','Spanish','English\n",
            "'\n",
            "'Cote d''Ivorie','12464000','Abidjan','1850000','Africa','1960','1960','-','French\n",
            "'\n",
            "'Croatia','4495904','Zagreb','685500','Europe','1991','Kuna','Catholicism','Croatian\n",
            "'\n",
            "'Cuba','11346670','Havana','2677938','Latin America','1902','Cuban Peso','-','Spanish\n",
            "'\n",
            "'Cyprus','775927','Nicosia','197600','Middle East','1960','Cypriot Pound;Turkish Lira','Orthodox;Muslim','Greek','Turkish','English\n",
            "'\n",
            "'Czech Republic','10241138','Prague','1378700','Europe','1993','Krona','Catholicism','Chech\n",
            "'\n",
            "'Democratic Republic of Congo','60085004','Kinshasa','6541300','Africa','1960','C''ese Franc','Catholicism;Islam','French','Lingala\n",
            "'\n",
            "'Denmark','5432335','Copenhagen','1343916','Europe','800','Danish Krone','Lutherian','Danish','Faroese\n",
            "'\n",
            "'Djibouti','476603','Djibouti','383000','Africa','1977','Djibouti Franc','Muslim','French','Arabic\n",
            "'\n",
            "'Dominica','69278','Roseau','?','Caribbean','1978','EC Dollar','Catholicism','English\n",
            "'\n",
            "'Dominican Republic','8833634','Santo Domingo','1600000','Latin America','1844','Dominican Peso','Catholicism','Spanish\n",
            "'\n",
            "'East Timor','1019252','Dili','?','Asia','1975','US Dollar','Catholicism','Tetu','Portuguese','Indonesian','English\n",
            "'\n",
            "'Ecuador','13212742','Quito','1994318','Latin America','1822','US Dollar','Catholicism','Spanish','Quechua\n",
            "'\n",
            "'Egypt','76117421','Cairo','15452000','Africa','1922','Egyptian Pound','Sunni Muslim','Arabic\n",
            "'\n",
            "'El Salvador','6587541','San Salvador','2100000','Latin America','1821','US Dollar','Catholicism','Spanish','Nahua\n",
            "'\n",
            "'England','50093800','London','11219000','Europe','1066','British Pound','Anglican;Catholisicm;Other','English\n",
            "'\n",
            "'Equatorial Guinea','523051','Malabo','?','Africa','1967','CFA Franc','Catholisism','Spanish','French\n",
            "'\n",
            "'Eritrea','4561599','Asmara','?','Africa','1993','Nakfa','Muslim;Catholisism','Tigrina','Arabic','English\n",
            "'\n",
            "'Estonia','1341664','Tallinn','?','Europe','1991','Kroon','Lutheran;Orthodox','Estonian','Russian','Finish\n",
            "'\n",
            "'Ethiopia','67617000','Addis Ababa','1495266','Africa','-1000','Birr','Muslim;Orthodox','Amharic','Tigrina\n",
            "'\n",
            "'Falkland Islands','2967','Stanley','?','South America','-','Falkland Pound','Catholicism','English\n",
            "'\n",
            "'Faroe Islands','46662','Torshavn','?','Europe','-','Danish Krone','Lutheran','Faroese','Danish\n",
            "'\n",
            "'Fiji','880874','Suva','?','Oceania','1970','Fijian Dollar','Christianity;Hindu;Muslim','English','Fijan','Hinustani\n",
            "'\n",
            "'Finland','520100','Helsinki','892240','Europe','1917','Euro','Lutheran','Finnish','Swedish\n",
            "'\n",
            "'France','66942000','Paris','3152423','Europe','486','Euro','Catholicism','French\n",
            "'\n",
            "'French Guiana','191309','Cayenne','66149','Latin America','-','Euro','Catholicism','French\n",
            "'\n",
            "'French Polynesia','266339','Papeete','?','Oceania','-','CFP Franc','Catholicism','French','Tahitian\n",
            "'\n",
            "'Gabon','1355246','Libreville','?','Africa','1960','CFA Franc','Christianity','French','Fang','Myene\n",
            "'\n",
            "'Gambia','1546848','Banjul','?','Africa','-','Dalasi','Muslim','English','Mandinka','Other\n",
            "'\n",
            "'Georgia','4693892','Tbilisi','1440000','Asia','1991','Lari','Orthodox','Georgian','Russian\n",
            "'\n",
            "'Germany','82424609','Berlin','4376800','Europe','1871','Euro','Catholicism','German\n",
            "'\n",
            "'Ghana','20757032','Accra','1249100','Africa','1957','Cedi','Christianity;Muslim','English','Akan','Ewe','Ga\n",
            "'\n",
            "'Gibraltar','27833','Gibraltar','?','Europe','-','Gibraltar Pound','Catholicism','English','Yanito\n",
            "'\n",
            "'Greece','10672000','Athens','3247000','Europe','1830','Euro','Greek Orthodox','Greek\n",
            "'\n",
            "'Greenland','56384','Nuuk','15361','Arctic Region','-','Danish Krone','Lutheran','Greenlandic','Danish\n",
            "'\n",
            "'Grenada','89357','Saint George''s','4300','Caribbean','1974','EC Dollar','Catholicism','English','French\n",
            "'\n",
            "'Guadeloupe','444515','Basse-Terre','175000','Caribbean','-','Euro;French Franc','Catholicism','French','Creole\n",
            "'\n",
            "'Guam','166090','Hagatna','?','Oceania','-','US Dollar','Catholicism','English','Chamorro','Japanese\n",
            "'\n",
            "'Guatemala','14655189','Guatemala City','2655900','Latin America','1821','Quetzal','Catholicism;Mayan Beliefs','Spanish','Amerindian\n",
            "'\n",
            "'Guernsey','65031','Saint Peter Port','?','Europe','-','British Pound;Guernsey Pound','Catholicism','English','French\n",
            "'\n",
            "'Guinea','9246463','Conakry','1767200','Africa','1958','Guinean Franc','Muslim','French\n",
            "'\n",
            "'Guinea-Bissau','1388363','Bissau','296900','Africa','1974','CFA Franc','Indigeneous Beliefs;Muslim','Portuguese','Criolo\n",
            "'\n",
            "'Guyana','705803','Georgetown','227700','South America','1966','Guyanese Dollar','Christianity;Hindu;Muslim','English','Creole','Hindu','Urdu\n",
            "'\n",
            "'Haiti','7656166','Port-au-Prince','1764000','Latin America','1804','Gourde','Catholicism','Creole','French\n",
            "'\n",
            "'Holy See','921','Vatican City','921','Europe','1929','Euro','Christianity','Italian','Latin\n",
            "'\n",
            "'Honduras','6975204','Tegucigalpa','1436000','Latin America','1821','Lempira','Catholicism','Spanish','Amerindian Dialects\n",
            "'\n",
            "'Hong Kong','6943600','-','-','Orient','1997','Hong Kong Dollar','-','Cantonese','Mandarin','English\n",
            "'\n",
            "'Hungary','10032600','Budapest','2596132','Europe','1001','Forint','Catholicism','Hungarian\n",
            "'\n",
            "'Iceland','296737','Reykjavik','184200','Arctic Region','1918','Icelandic Krona','Lutheran','Icelandic','English','Nordic\n",
            "'\n",
            "'India','1080264388','New Delhi','17037900','Asia','1947','Rupee','Hindu;Muslim','English','Hindi','14 other\n",
            "'\n",
            "'Indonesia','241973879','Jakarta','17891000','Oceania','1945','Rupiah','Muslim','Malay','English','Dutch\n",
            "'\n",
            "'Iran','68017860','Tehran','11224800','Middle East','1979','Rial','Siah Muslim','Persian\n",
            "'\n",
            "'Iraq','26074906','Baghdad','6777300','Middle East','1932','New Iraqi Dinnar','Shia Muslim;Sunni Muslim','Arabic','Kurdish\n",
            "'\n",
            "'Ireland','4015676','Dublin','1018500','Europe','1921','Euro','Catholicism','English','Gaelic\n",
            "'\n",
            "'Isle of Man','76315','Douglas','25347','Europe','-','IoM Pound','Anglican','English','Manx Gaelic\n",
            "'\n",
            "'Israel','6276883','Jerusalem','695500','Middle East','1948','New Israeli Shekel','Jewish;Muslim','Hebrew','Arabic\n",
            "'\n",
            "'Italy','58103033','Rome','3550900','Europe','1861','Euro','Catholicism','Italian','German\n",
            "'\n",
            "'Jamaica','2731832','Kingston','937700','Caribbean','1962','Jamaican Dollar','Christianity','English\n",
            "'\n",
            "'Japan','127920000','Tokyo','31139900','Orient','-660','Yen','Shinto;Buddhism','Japanese\n",
            "'\n",
            "'Jersey','90502','Saint Helier','?','Europe','-','British Pound;Jersey Pound','Anglican','English','French\n",
            "'\n",
            "'Johnston Atoll','396','-','-','Oceania','-','US Dollar','-','English\n",
            "'\n",
            "'Jordan','5759732','Amman','2677500','Middle East','1946','Jordanian Dinar','Sunni Muslim','Arabic','English\n",
            "'\n",
            "'Kazakhstan','15185844','Astana','288200','Asia','1991','Tenge','Muslim;Orthodox','Kazakh','Russian\n",
            "'\n",
            "'Kenya','33905000','Nairobi','3064900','Africa','1963','Kenian Shilling','Protestant;Catholicism','Swahili','English\n",
            "'\n",
            "'Kiribati','103092','Tarawa','26600','Oceania','1979','Australian Dollar','Catholicism;Protestant','I-Kiribati','English\n",
            "'\n",
            "'Korea North','22697553','Pyongyang','3222000','Orient','1945','NK Won','Buddhism','Korean\n",
            "'\n",
            "'Korea South','48422644','Seoul','19969100','Orient','1945','SK Won','Christianity;Buddhism','Korean\n",
            "'\n",
            "'Kuwait','2335648','Kuwait','1709800','Middle East','1961','Kuwaiti Dinar','Islam','Arabic\n",
            "'\n",
            "'Kyrgyzstan','5146281','Bishkek','824900','Asia','1991','Kyrgyzstani Som','Muslim;Orthodox','Kyrgyz','Russian\n",
            "'\n",
            "'Laos','6217141','Vientiane','194200','Asia','1949','Kip','Buddhism;Other','Lao','French\n",
            "'\n",
            "'Latvia','2290237','Riga','867700','Europe','1991','Lat','Lutheran;Catholicism','Latvian','Russian\n",
            "'\n",
            "'Lebanon','3826018','Beirut','1916100','Middle East','1943','Lebanese Pound','Muslim;Christianity','Arabic','French\n",
            "'\n",
            "'Lesotho','1867035','Maseru','173700','Africa','1966','Loti','Christianity;Indigenous Beliefs','Sosetho','English','Zulu\n",
            "'\n",
            "'Liberia','3482211','Monrovia','1348900','Africa','1847','Liberian Dollar','Indigenous Beliefs;Christianity;Muslim','English','20+ other\n",
            "'\n",
            "'Libia','5765563','Tripoli','2357800','Africa','1951','Libyan Dinar','Muslim','Arabic\n",
            "'\n",
            "'Liechtenstein','33717','Vaduz','5300','Europe','1719','Swiss Franc','Catholicism','German\n",
            "'\n",
            "'Lithuania','3596617','Vilnius','543500','Europe','1990','Litas','Catholicism;Orthodox;Lutheran','Lithuanian','Polish','Russian\n",
            "'\n",
            "'Luxembourg','468571','Luxembourg','78800','Europe','1839','Euro','Catholicism','Luxembourgish','German','French\n",
            "'\n",
            "'Macedonia','2045262','Skopje','587300','Europe','1991','Macedonian Denar','Orthodox;Islam','Macedonian','Albanian\n",
            "'\n",
            "'Madagascar','18040341','Antananarivo','1390800','Africa','1960','Ariary','Indigenous Beliefs;Christianity','Malagasy','French\n",
            "'\n",
            "'Malawi','12158924','Lilongwe','499200','Africa','1964','Kwacha','Protestant;Catholicism;Islam','English\n",
            "'\n",
            "'Malaysia','23953136','Kuala Lumpur','3688200','Asia','1957','Ringgit','Muslim;Buddhism','Malay','English\n",
            "'\n",
            "'Maldives','349106','Male','81600','Asia','1965','Rufiyaa','Sunni Muslim','Sinhala','Arabic','English\n",
            "'\n",
            "'Mali','12291529','Bamako','1323200','Africa','1960','CFA Franc','Muslim','French','Bambara\n",
            "'\n",
            "'Malta','398534','Valletta','194200','Europe','1964','Maltese Lira','Catholicism','Maltese','English\n",
            "'\n",
            "'Marshall Islands','59071','Majuro','20500','Oceania','1986','US Dollar','Protestant','Marshallese','English\n",
            "'\n",
            "'Martinique','429510','Fort-de-France','?','Caribbean','-','Euro','Catholicism','French','Creole\n",
            "'\n",
            "'Mauritania','3086859','Nouakchot','661400','Africa','1960','Ouguiya','Muslim','Hassaniya Arabic','Wolof','Pulaar','Soninke','French\n",
            "'\n",
            "'Mauritius','1230602','Port Louis','577200','Indian Ocean','1968','Mauritian Rupee','Hindur;Christianity','English','Creole','French','Hindi\n",
            "'\n",
            "'Mayotte','186026','Mamoutzou','?','Africa','-','Euro','Muslim','Swahili','French\n",
            "'\n",
            "'Mexico','106202903','Mexico City','21233900','Latin America','1810','Peso','Catholicism','Spanish','Mayan','Nahuati\n",
            "'\n",
            "'Micronesia','108105','Palikir','11600','Oceania','1986','US Dollar','Catholicism','English','Chukese','7 other\n",
            "'\n",
            "'Moldova','4455421','Chisinau','772500','Europe','1991','Leu','Orthodox','Moldovan','Russian','Gagauz\n",
            "'\n",
            "'Monaco','32409','Monaco','1400','Europe','1419','Euro','Catholicism','French','English','Italian','Monegasque\n",
            "'\n",
            "'Mongolia','2791272','Ulaan Baatar','804200','Orient','1921','Tugrik','Buddhism','Mongolian','Turkic','Russian\n",
            "'\n",
            "'Montserrat','9245','Plymouth','0','Caribbean','-','EC Dollar','Anglican;Christianity','English\n",
            "'\n",
            "'Morocco','32725847','Rabat','1636600','Africa','1956','Dirham','Islam','Airabic','Berber','French\n",
            "'\n",
            "'Mozambique','19406703','Maputo','1691000','Africa','1975','Metical','Indigenous Beliefs;Christianity;Muslim','Portuguese\n",
            "'\n",
            "'Myanmar','42909464','Yangon','4344100','Asia','1948','Kyat','Buddhism','Burmese\n",
            "'\n",
            "'Namibia','2030692','Windhoek','221000','Africa','1990','Namibian Dollar;Rand','Christianity','English','Africaans\n",
            "'\n",
            "'Nauru','13048','Yaren','4900','Oceania','1968','Australian Dollar','Christianity','Nauruan','English\n",
            "'\n",
            "'Nepal','27676547','Kathmandu','1203100','Asia','1768','Nepalese Rupee','Hinduism','Nepali\n",
            "'\n",
            "'Netherlands','16407491','Amsterdam','737900','Europe','1579','Euro','Catholicism','Dutch','Frisian\n",
            "'\n",
            "'Netherlands Antillies','218126','Willemstad','?','Caribbean','-','Antellian Guilder','Catholicism','Duch','Papiamento\n",
            "'\n",
            "'New Caledonia','213679','Noumea','?','Oceania','-','Euro','Catholicism','French\n",
            "'\n",
            "'New Zealand','4035461','Wellington','342500','Oceania','1907','New Zealand Dollar','Anglican;Catholicism','English','Maori\n",
            "'\n",
            "'Nicaragua','5465100','Managua','1390500','Latin America','1821','Gold Cordoba','Catholicism','Spanish\n",
            "'\n",
            "'Niger','11665937','Niamey','748600','Africa','1960','CFA Franc','Muslim','French','Hausa','Djerma\n",
            "'\n",
            "'Nigeria','128771988','Abuja','590400','Africa','1960','Naira','Muslim;Christianity','English','Hausa','4 other\n",
            "'\n",
            "'Niue','2156','Alofi','?','Oceania','1974','New Zealand Dollar','Protestant;Catholicism','Niuean','English\n",
            "'\n",
            "'Norfolk Island','1841','Kingston','?','Oceania','-','Australian Dollar','Anglican;Catholicism','English','Old Tahitian\n",
            "'\n",
            "'Northern Mariana Islands','78252','Saipan','?','Oceania','-','US Dollar','Christianity','English','Chamorro\n",
            "'\n",
            "'Northern Ireland','1688600','Belfast','484800','Europe','-','British Pound','Catholicism;Protestant','English\n",
            "'\n",
            "'Norway','4593041','Oslo','791500','Europe','1905','Norwegian Krone','Lutheran','Norwegian\n",
            "'\n",
            "'Oman','3001583','Muscat','797000','Middle East','1650','Omani Rial','Muslim','Arabic','5 other\n",
            "'\n",
            "'Pakistan','162419946','Islamabad','601600','Asia','1947','Pakistani Rupee','Muslim','Punjabi','Sindhi','English','14 other\n",
            "'\n",
            "'Palau','20303','Koror','11100','Oceania','1994','US Dollar','Christianity;Modekngei','English','Palauan','4 other\n",
            "'\n",
            "'Palestinian State','3763900','?','?','Middle East','?','Shekel;Dinar','Islam;Jewish','Arabic','Hebrew','English\n",
            "'\n",
            "'Panama','3039150','Panama City','1053500','Latin America','1903','Balboa','Catholicism','Spanish\n",
            "'\n",
            "'Papua New Guinea','5545268','Port Moresby','324900','Oceania','1975','Kina','Catholicism;Lutheran','Melanesian','Motu\n",
            "'\n",
            "'Paraguay','6347884','Asuncion','1482200','Latin America','1811','Guarani','Catholicism','Spanish','Guarani\n",
            "'\n",
            "'Peru','27981000','Lima','8126000','Latin America','1821','Nuevo Sol','Catholicism','Spanish','Quechua\n",
            "'\n",
            "'Philippines','87854000','Manila','13790194','Asia','1898','Philippino Peso','Christianity','Filipino','English\n",
            "'\n",
            "'Pitcairn Islands','46','Adamstown','?','Oceania','-','New Zealand Dollar','Adventist','English','Pitcairnese\n",
            "'\n",
            "'Poland','38635114','Warsaw','2201900','Europe','1918','Zloty','Catholicism','Polish\n",
            "'\n",
            "'Portugal','10566212','Lisbon','2618100','Europe','1143','Euro','Catholicism','Portuguese','Mirandese\n",
            "'\n",
            "'Puerto Rico','3897960','San Juan','?','Caribbean','-','US Dollar','Catholicism','Spanish\n",
            "'\n",
            "'Qatar','840290','Doha','?','Middle East','1971','Qatari Rial','Muslim','Arabic\n",
            "'\n",
            "'Republic of The Congo','3800000','Brazzaville','1169900','Africa','1960','CFA Franc','Christianity','French\n",
            "'\n",
            "'Reunion','766153','Saint-Denis','?','Pacific Ocean','-','Euro','Catholicism;Hindu;Muslim;Buddhism','French','Creole\n",
            "'\n",
            "'Romania','22329977','Bucharest','2206894','Europe','1877','Leu','Orthodox','Romanian\n",
            "'\n",
            "'Russia','143420309','Moscow','11970500','Asia','1991','Ruble','Orthodox;Muslim','Russian\n",
            "'\n",
            "'Rwanda','8491000','Kigali','298100','Africa','1962','Rwandan Franc','Catholicism;Protestant','Kinyarwanda','French\n",
            "'\n",
            "'Saint Helena','7415','Jamestown','?','Africa','-','SH Pound','Anglican','English\n",
            "'\n",
            "'Saint Kitts and Nevis','38936','Basseterre','11500','Caribbean','1983','EC Dollar','Anglican','English Patois\n",
            "'\n",
            "'Saint Lucia','166312','Castries','60300','Caribbean','1979','EC Dollar','Catholicism','English','French\n",
            "'\n",
            "'Saint Pierre and Miquelon','6995','Saint-Pierre','?','North America','-','Euro','Catholicism','French\n",
            "'\n",
            "'Saint Vincent and the Grenadines','117534','Kingstown','17600','Caribbean','1979','EC Dollar','Anglican;Other','English','French Patois\n",
            "'\n",
            "'Samoa','117287','Apia','35900','Oceania','1962','Tala','Christianity','Samoan','English\n",
            "'\n",
            "'San Marino','28880','San Marino','4300','Europe','301','Euro','Catholicism','Italian\n",
            "'\n",
            "'Sao Tome and Principe','187410','Sao Tome','53300','Africa','1975','Dobra','Christianity','Portuguese\n",
            "'\n",
            "'Saudi Arabia','26417599','Riyadh','3724100','Middle East','1932','Saudi Riyal','Muslim','Arabic\n",
            "'\n",
            "'Scotland','5128000','Edinburgh','663700','Europe','-','British Pound','Catholicism','English','Gaelic\n",
            "'\n",
            "'Senegal','11126832','Dakar','2476400','Africa','1960','CFA Franc','Muslim','French','4 other\n",
            "'\n",
            "'Serbia and Montenegro','10829175','Belgrade','1717800','Europe','1992','New Yugoslav Dinar','Orthodox;Muslim','Serbian','Albanian\n",
            "'\n",
            "'Seychelles','81188','Victoria','23000','Africa','1976','Seychelles Rupee','Catholicism','English','French\n",
            "'\n",
            "'Sierra Leone','6017643','Freetown','1051000','Africa','1961','Leone','Muslim;Indigenous Beliefs','English','Mende','Temne','Krio\n",
            "'\n",
            "'Singapore','4425720','Singapore','3438600','Orient','1965','Singapore Dollar','Buddhism;Muslim;Other','Chinese','Malay','Tamil','English\n",
            "'\n",
            "'Slovakia','5431363','Bratislava','428800','Europe','1993','Slovak Koruna','Catholicism','Slovak','Hungarian\n",
            "'\n",
            "'Slovenia','2011070','Ljubljana','258000','Europe','1991','Tolar','Catholicism','Slovenian','Serbo-Croatian\n",
            "'\n",
            "'Solomon Islands','538032','Honiara','54600','Oceania','1978','SI Dolaar','Anglican;Catholicism','Somali','Arabic\n",
            "'\n",
            "'Somalia','8591629','Mogadishu','1208800','Africa','1960','Somali Shilling','Sunni Muslim','Somali','Arabic\n",
            "'\n",
            "'South Africa','44344136','Pretoria','1541300','Africa','1910','Rand','Christianity;Indigenous Beliefs','Afrikaans','English','9 other\n",
            "'\n",
            "'Spain','40341462','Madrid','5130000','Europe','700','Euro','Catholicism','Castilian Spanish','Catalan','Galician','Basque\n",
            "'\n",
            "'Sri Lanka','20064776','Colombo','2436000','Asia','1948','Sri Lanka Rupee','Buddhism;Hindu;Christianity;Muslim','Sinhala','Tamil\n",
            "'\n",
            "'Sudan','40187486','Khartoum','5717300','Africa','1956','Sudanese Dinar','Sunni Muslim;Indigenous Beliefs','Arabic','8 other\n",
            "'\n",
            "'Suriname','438144','Pramaribo','217300','South America','1975','Suinamese Dollar','Hindu;Muslim;Catholicism;Protestant','Dutch','6 other\n",
            "'\n",
            "'Svalbard','2756','Longyearbyen','?','Arctic Region','-','Norwegian Krone','?','Norwegian','Russian\n",
            "'\n",
            "'Swaziland','1173900','Manzini','75000','Africa','1968','Lilangeni','Zionism;Catholicism;Other','English','SiSwati\n",
            "'\n",
            "'Sweden','9001774','Stockholm','1622300','Europe','1523','Swedish Krona','Lutheran','Swedish\n",
            "'\n",
            "'Switzerland','7489370','Bern','122700','Europe','1291','Swiss Franc','Catholicism;Protestant','French','German','Italian\n",
            "'\n",
            "'Syria','18448752','Damascus','2381800','Middle East','1946','Syrian Pound','Muslim','Arabic','Kurdish','Armenian','Other\n",
            "'\n",
            "'Taiwan','22894384','Taipei','7871900','Orient','1945','Taiwan Dollar','Buddhism;Confucian;Taoism','Mandarin\n",
            "'\n",
            "'Tajikistan','7163506','Dushanbe','817100','Asia','1991','Somoni','Muslim','Tajik','Russian\n",
            "'\n",
            "'Tanzania','36766356','Dar es Salaam','2489800','Africa','1961','Tanzanian Shilling','Christianity;Muslim','Swahili','English\n",
            "'\n",
            "'Thailand','65444371','Bangkok','8838500','Asia','1238','Baht','Buddhism','Thai','English\n",
            "'\n",
            "'Togo','5681519','Lome','749700','Africa','1960','CFA Franc','Indigenous Beliefs;Christianity;Muslim','French','Other\n",
            "'\n",
            "'Tokelau','1405','-','-','Oceania','-','New Zealand Dollar','Christianity','Tokelauan','English\n",
            "'\n",
            "'Tonga','112422','Nuku''alofa','24500','Oceania','1970','Pa''anga','Christianity','Tongan','English\n",
            "'\n",
            "'Trinidad and Tobago','1088644','Port-of-Spain','263800','Caribbean','1962','T&T Dollar','Catholicism;Hindu;Anglican','English','Hindi\n",
            "'\n",
            "'Tunisia','10074951','Tunis','1660300','Africa','1956','Tunisian Dinar','Muslim','Arabic\n",
            "'\n",
            "'Turkey','69660559','Ankara','3582000','Middle East','1923','Turkish Lira','Muslim','Turkish','Kurdish','Arabic\n",
            "'\n",
            "'Turkmenistan','4952081','Ashgabat','727700','Asia','1991','Turkmen Manat','Muslim','Turkmen','Russian\n",
            "'\n",
            "'Turks and Caicos Islands','19959','Grand Turk','?','Caribbean','-','US Dollar','Christianity','English\n",
            "'\n",
            "'Tuvalu','11468','Funafuti','5300','Oceania','1978','Australian Dollar','Christianity','Tuvaluan','English','Other\n",
            "'\n",
            "'Uganda','27269482','Kampala','1461600','Africa','1962','Ugandan Shilling','Catholicism','English','Swahili\n",
            "'\n",
            "'Ukraine','47425336','Kiev','3296100','Europe','1991','Hryvnia','Orthodox','Ukranian','Russian','Polish\n",
            "'\n",
            "'United Arab Emirates','2563212','Abu Dabi','539800','Middle East','1971','Muslim','Arabic','Persian','English','Hindi','Urdu\n",
            "'\n",
            "'United States','295734134','Washington DC','570898','North America','1776','US Dollar','Catholicism;Protestant;Other','English','Spanish\n",
            "'\n",
            "'Uruguay','3415920','Montevideo','1745100','Latin America','1825','Uruguayan Peso','Catholicism','Spanish','Portunol\n",
            "'\n",
            "'Uzbekistan','26851195','Tashkent','3457500','Asia','1991','Sum','Muslim;Orthodox','Uzbek','Russian','Tajik\n",
            "'\n",
            "'Vanuatu','205754','Port-Villa','35300','Oceania','1980','Vatu','Presbyterian;Anglican;Catholicism','English','French','100+ Other\n",
            "'\n",
            "'Venezuela','25375281','Caracas','3517300','Latin America','1811','Bolivar','Catholicism','Spanish\n",
            "'\n",
            "'Vietnam','83535576','Hanoi','2543700','Orient','1945','Dong','Biddhism;HoaHao;Other','Vietnamese\n",
            "'\n",
            "'Virgin Islands','108775','Charlotte Amalie','?','Caribbean','?','US Dollar','Baptist;Catholicism','English','Spanish','Creole\n",
            "'\n",
            "'Wales','2905500','Cardiff','676400','Europe','-','British Pound','Methodist;Other','English','Welsh\n",
            "'\n",
            "'Wallis and Futuna','15880','Mata-Utu','?','Oceania','-','CFP Franc','Catholicism','French','Wallisian\n",
            "'\n",
            "'Western Sahara','273008','?','?','Africa','?','Maroccan Dirham','Muslim','Arabic\n",
            "'\n",
            "'Yemen','20727063','Sanaa','1778900','Middle East','1990','Yemeni Rial','Islam','Arabic\n",
            "'\n",
            "'Zambia','11261795','Lusaka','1773300','Africa','1964','Zambian Kwacha','Christianity;Muslim;Hindu','English','70+ Other\n",
            "'\n",
            "'Zimbabwe','12746990','Harare','2331400','Africa','1980','Zimbabwean Dollar','Christianity;Indigenous Beliefs','English','Shone','Sindebele\n",
            "'\n"
          ]
        }
      ]
    }
  ]
}