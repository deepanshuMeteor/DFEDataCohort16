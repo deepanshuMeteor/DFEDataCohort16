{
  "nbformat": 4,
  "nbformat_minor": 0,
  "metadata": {
    "colab": {
      "name": "Functions.ipynb",
      "provenance": [],
      "authorship_tag": "ABX9TyM/vq7e0D74X9jyc9+M+QEa",
      "include_colab_link": true
    },
    "kernelspec": {
      "name": "python3",
      "display_name": "Python 3"
    },
    "language_info": {
      "name": "python"
    }
  },
  "cells": [
    {
      "cell_type": "markdown",
      "metadata": {
        "id": "view-in-github",
        "colab_type": "text"
      },
      "source": [
        "<a href=\"https://colab.research.google.com/github/deepanshuMeteor/DFEDataCohort16/blob/main/Functions.ipynb\" target=\"_parent\"><img src=\"https://colab.research.google.com/assets/colab-badge.svg\" alt=\"Open In Colab\"/></a>"
      ]
    },
    {
      "cell_type": "code",
      "execution_count": 1,
      "metadata": {
        "colab": {
          "base_uri": "https://localhost:8080/"
        },
        "id": "pRZf_mj87wOy",
        "outputId": "573424b1-291e-42b2-d91d-ff73287aa4c4"
      },
      "outputs": [
        {
          "output_type": "stream",
          "name": "stdout",
          "text": [
            "['h', 'h', 'h', 'h', 'h', 'h', 'h', 'h']\n"
          ]
        }
      ],
      "source": [
        "def change_list(inlist, val, times):\n",
        "    inlist += str(val) * times\n",
        "\n",
        "mylist=[]\n",
        "change_list(mylist, 'h', 8)\n",
        "print(mylist)"
      ]
    },
    {
      "cell_type": "code",
      "source": [
        "def print_vat(gross, vatpc=17.5, message='Summary:'):\n",
        "  net = gross/(1 + (vatpc/100))\n",
        "  vat = gross - net\n",
        "  print(message, 'Net: {0:5.2f} Vat: {1:5.2f}'.format(net, vat))\n",
        "\n",
        "print_vat(9.55, message='Final sum:')"
      ],
      "metadata": {
        "colab": {
          "base_uri": "https://localhost:8080/"
        },
        "id": "rA54yCZi8uPw",
        "outputId": "877e7dff-2274-464e-ad16-9c92db479fab"
      },
      "execution_count": 3,
      "outputs": [
        {
          "output_type": "stream",
          "name": "stdout",
          "text": [
            "Final sum: Net:  8.13 Vat:  1.42\n"
          ]
        }
      ]
    },
    {
      "cell_type": "code",
      "source": [
        "def my_func(file, dir, user='root'):\n",
        "    print('file: {:}, dir: {:}, to: {:} '.\n",
        "          format(file, dir, user))\n",
        "    \n",
        "#my_func('one', 'two', 'three')\n",
        "#my_func('one', 'two')\n",
        "my_func(file='one', user='three', dir='two')"
      ],
      "metadata": {
        "colab": {
          "base_uri": "https://localhost:8080/"
        },
        "id": "cu7lH_aG9rV_",
        "outputId": "e766353b-c660-4725-caf7-605615c4b144"
      },
      "execution_count": 6,
      "outputs": [
        {
          "output_type": "stream",
          "name": "stdout",
          "text": [
            "file: one, dir: two, to: three \n"
          ]
        }
      ]
    },
    {
      "cell_type": "code",
      "source": [
        "def print_vat(*, gross=0, vatpc=17.5, message='Summary:'): \n",
        "  net = gross/(1 + (vatpc/100))\n",
        "  vat = gross - net\n",
        "  print(message, 'Net: {0:5.2f} Vat: {1:5.2f}'.format(net, vat))\n",
        "print_vat(vatpc=15, gross=9.55)\n",
        "print_vat()"
      ],
      "metadata": {
        "colab": {
          "base_uri": "https://localhost:8080/"
        },
        "id": "va8mHDXa-1Cd",
        "outputId": "74360415-ac8c-4b4a-a762-3669555807f9"
      },
      "execution_count": 7,
      "outputs": [
        {
          "output_type": "stream",
          "name": "stdout",
          "text": [
            "Summary: Net:  8.30 Vat:  1.25\n",
            "Summary: Net:  0.00 Vat:  0.00\n"
          ]
        }
      ]
    },
    {
      "cell_type": "code",
      "source": [
        "print_vat(15, 9.55)"
      ],
      "metadata": {
        "colab": {
          "base_uri": "https://localhost:8080/",
          "height": 171
        },
        "id": "6Fv5ZWEY-8nO",
        "outputId": "29e55086-55d6-4c9f-c903-0a007ddfb610"
      },
      "execution_count": 8,
      "outputs": [
        {
          "output_type": "error",
          "ename": "TypeError",
          "evalue": "ignored",
          "traceback": [
            "\u001b[0;31m---------------------------------------------------------------------------\u001b[0m",
            "\u001b[0;31mTypeError\u001b[0m                                 Traceback (most recent call last)",
            "\u001b[0;32m<ipython-input-8-77f08bc51f7e>\u001b[0m in \u001b[0;36m<module>\u001b[0;34m()\u001b[0m\n\u001b[0;32m----> 1\u001b[0;31m \u001b[0mprint_vat\u001b[0m\u001b[0;34m(\u001b[0m\u001b[0;36m15\u001b[0m\u001b[0;34m,\u001b[0m \u001b[0;36m9.55\u001b[0m\u001b[0;34m)\u001b[0m\u001b[0;34m\u001b[0m\u001b[0;34m\u001b[0m\u001b[0m\n\u001b[0m",
            "\u001b[0;31mTypeError\u001b[0m: print_vat() takes 0 positional arguments but 2 were given"
          ]
        }
      ]
    },
    {
      "cell_type": "code",
      "source": [
        "def print_vat(**kwargs):\n",
        "  print(kwargs)\n",
        "print_vat(vatpc=15, gross=9.55, message='Summary')"
      ],
      "metadata": {
        "colab": {
          "base_uri": "https://localhost:8080/"
        },
        "id": "aMaTRBDE_c48",
        "outputId": "4b116e20-293e-4ac2-ec38-6a03b0b8845e"
      },
      "execution_count": 9,
      "outputs": [
        {
          "output_type": "stream",
          "name": "stdout",
          "text": [
            "{'vatpc': 15, 'gross': 9.55, 'message': 'Summary'}\n"
          ]
        }
      ]
    }
  ]
}