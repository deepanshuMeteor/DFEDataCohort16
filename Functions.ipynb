{
  "nbformat": 4,
  "nbformat_minor": 0,
  "metadata": {
    "colab": {
      "name": "Functions.ipynb",
      "provenance": [],
      "authorship_tag": "ABX9TyOnOqijzPOIzd06bazi+5jQ",
      "include_colab_link": true
    },
    "kernelspec": {
      "name": "python3",
      "display_name": "Python 3"
    },
    "language_info": {
      "name": "python"
    }
  },
  "cells": [
    {
      "cell_type": "markdown",
      "metadata": {
        "id": "view-in-github",
        "colab_type": "text"
      },
      "source": [
        "<a href=\"https://colab.research.google.com/github/deepanshuMeteor/DFEDataCohort16/blob/main/Functions.ipynb\" target=\"_parent\"><img src=\"https://colab.research.google.com/assets/colab-badge.svg\" alt=\"Open In Colab\"/></a>"
      ]
    },
    {
      "cell_type": "code",
      "execution_count": 1,
      "metadata": {
        "colab": {
          "base_uri": "https://localhost:8080/"
        },
        "id": "pRZf_mj87wOy",
        "outputId": "573424b1-291e-42b2-d91d-ff73287aa4c4"
      },
      "outputs": [
        {
          "output_type": "stream",
          "name": "stdout",
          "text": [
            "['h', 'h', 'h', 'h', 'h', 'h', 'h', 'h']\n"
          ]
        }
      ],
      "source": [
        "def change_list(inlist, val, times):\n",
        "    inlist += str(val) * times\n",
        "\n",
        "mylist=[]\n",
        "change_list(mylist, 'h', 8)\n",
        "print(mylist)"
      ]
    },
    {
      "cell_type": "code",
      "source": [
        "def print_vat(gross, vatpc=17.5, message='Summary:'):\n",
        "  net = gross/(1 + (vatpc/100))\n",
        "  vat = gross - net\n",
        "  print(message, 'Net: {0:5.2f} Vat: {1:5.2f}'.format(net, vat))\n",
        "\n",
        "print_vat(9.55, message='Final sum:')"
      ],
      "metadata": {
        "colab": {
          "base_uri": "https://localhost:8080/"
        },
        "id": "rA54yCZi8uPw",
        "outputId": "877e7dff-2274-464e-ad16-9c92db479fab"
      },
      "execution_count": 3,
      "outputs": [
        {
          "output_type": "stream",
          "name": "stdout",
          "text": [
            "Final sum: Net:  8.13 Vat:  1.42\n"
          ]
        }
      ]
    },
    {
      "cell_type": "code",
      "source": [
        "def my_func(file, dir, user='root'):\n",
        "    print('file: {:}, dir: {:}, to: {:} '.\n",
        "          format(file, dir, user))\n",
        "    \n",
        "#my_func('one', 'two', 'three')\n",
        "#my_func('one', 'two')\n",
        "my_func(file='one', user='three', dir='two')"
      ],
      "metadata": {
        "colab": {
          "base_uri": "https://localhost:8080/"
        },
        "id": "cu7lH_aG9rV_",
        "outputId": "e766353b-c660-4725-caf7-605615c4b144"
      },
      "execution_count": 6,
      "outputs": [
        {
          "output_type": "stream",
          "name": "stdout",
          "text": [
            "file: one, dir: two, to: three \n"
          ]
        }
      ]
    }
  ]
}