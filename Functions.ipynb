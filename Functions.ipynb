{
  "nbformat": 4,
  "nbformat_minor": 0,
  "metadata": {
    "colab": {
      "name": "Functions.ipynb",
      "provenance": [],
      "authorship_tag": "ABX9TyNb1v4POQMxkiol0TIxIgo0",
      "include_colab_link": true
    },
    "kernelspec": {
      "name": "python3",
      "display_name": "Python 3"
    },
    "language_info": {
      "name": "python"
    }
  },
  "cells": [
    {
      "cell_type": "markdown",
      "metadata": {
        "id": "view-in-github",
        "colab_type": "text"
      },
      "source": [
        "<a href=\"https://colab.research.google.com/github/deepanshuMeteor/DFEDataCohort16/blob/main/Functions.ipynb\" target=\"_parent\"><img src=\"https://colab.research.google.com/assets/colab-badge.svg\" alt=\"Open In Colab\"/></a>"
      ]
    },
    {
      "cell_type": "code",
      "execution_count": 1,
      "metadata": {
        "colab": {
          "base_uri": "https://localhost:8080/"
        },
        "id": "pRZf_mj87wOy",
        "outputId": "573424b1-291e-42b2-d91d-ff73287aa4c4"
      },
      "outputs": [
        {
          "output_type": "stream",
          "name": "stdout",
          "text": [
            "['h', 'h', 'h', 'h', 'h', 'h', 'h', 'h']\n"
          ]
        }
      ],
      "source": [
        "def change_list(inlist, val, times):\n",
        "    inlist += str(val) * times\n",
        "\n",
        "mylist=[]\n",
        "change_list(mylist, 'h', 8)\n",
        "print(mylist)"
      ]
    },
    {
      "cell_type": "code",
      "source": [
        "def print_vat(gross, vatpc=17.5, message='Summary:'):\n",
        "  net = gross/(1 + (vatpc/100))\n",
        "  vat = gross - net\n",
        "  print(message, 'Net: {0:5.2f} Vat: {1:5.2f}'.format(net, vat))\n",
        "\n",
        "print_vat(9.55, message='Final sum:')"
      ],
      "metadata": {
        "colab": {
          "base_uri": "https://localhost:8080/"
        },
        "id": "rA54yCZi8uPw",
        "outputId": "877e7dff-2274-464e-ad16-9c92db479fab"
      },
      "execution_count": 3,
      "outputs": [
        {
          "output_type": "stream",
          "name": "stdout",
          "text": [
            "Final sum: Net:  8.13 Vat:  1.42\n"
          ]
        }
      ]
    },
    {
      "cell_type": "code",
      "source": [
        "def my_func(file, dir, user='root'):\n",
        "    print('file: {:}, dir: {:}, to: {:} '.\n",
        "          format(file, dir, user))\n",
        "    \n",
        "#my_func('one', 'two', 'three')\n",
        "#my_func('one', 'two')\n",
        "my_func(file='one', user='three', dir='two')"
      ],
      "metadata": {
        "colab": {
          "base_uri": "https://localhost:8080/"
        },
        "id": "cu7lH_aG9rV_",
        "outputId": "e766353b-c660-4725-caf7-605615c4b144"
      },
      "execution_count": 6,
      "outputs": [
        {
          "output_type": "stream",
          "name": "stdout",
          "text": [
            "file: one, dir: two, to: three \n"
          ]
        }
      ]
    },
    {
      "cell_type": "code",
      "source": [
        "def print_vat(*, gross=0, vatpc=17.5, message='Summary:'): \n",
        "  net = gross/(1 + (vatpc/100))\n",
        "  vat = gross - net\n",
        "  print(message, 'Net: {0:5.2f} Vat: {1:5.2f}'.format(net, vat))\n",
        "print_vat(vatpc=15, gross=9.55)\n",
        "print_vat()"
      ],
      "metadata": {
        "colab": {
          "base_uri": "https://localhost:8080/"
        },
        "id": "va8mHDXa-1Cd",
        "outputId": "74360415-ac8c-4b4a-a762-3669555807f9"
      },
      "execution_count": 7,
      "outputs": [
        {
          "output_type": "stream",
          "name": "stdout",
          "text": [
            "Summary: Net:  8.30 Vat:  1.25\n",
            "Summary: Net:  0.00 Vat:  0.00\n"
          ]
        }
      ]
    },
    {
      "cell_type": "code",
      "source": [
        "print_vat(15, 9.55)"
      ],
      "metadata": {
        "colab": {
          "base_uri": "https://localhost:8080/",
          "height": 171
        },
        "id": "6Fv5ZWEY-8nO",
        "outputId": "29e55086-55d6-4c9f-c903-0a007ddfb610"
      },
      "execution_count": 8,
      "outputs": [
        {
          "output_type": "error",
          "ename": "TypeError",
          "evalue": "ignored",
          "traceback": [
            "\u001b[0;31m---------------------------------------------------------------------------\u001b[0m",
            "\u001b[0;31mTypeError\u001b[0m                                 Traceback (most recent call last)",
            "\u001b[0;32m<ipython-input-8-77f08bc51f7e>\u001b[0m in \u001b[0;36m<module>\u001b[0;34m()\u001b[0m\n\u001b[0;32m----> 1\u001b[0;31m \u001b[0mprint_vat\u001b[0m\u001b[0;34m(\u001b[0m\u001b[0;36m15\u001b[0m\u001b[0;34m,\u001b[0m \u001b[0;36m9.55\u001b[0m\u001b[0;34m)\u001b[0m\u001b[0;34m\u001b[0m\u001b[0;34m\u001b[0m\u001b[0m\n\u001b[0m",
            "\u001b[0;31mTypeError\u001b[0m: print_vat() takes 0 positional arguments but 2 were given"
          ]
        }
      ]
    },
    {
      "cell_type": "code",
      "source": [
        "def print_vat(**kwargs):\n",
        "  print(kwargs)\n",
        "print_vat(vatpc=15, gross=9.55, message='Summary')"
      ],
      "metadata": {
        "colab": {
          "base_uri": "https://localhost:8080/"
        },
        "id": "aMaTRBDE_c48",
        "outputId": "4b116e20-293e-4ac2-ec38-6a03b0b8845e"
      },
      "execution_count": 9,
      "outputs": [
        {
          "output_type": "stream",
          "name": "stdout",
          "text": [
            "{'vatpc': 15, 'gross': 9.55, 'message': 'Summary'}\n"
          ]
        }
      ]
    },
    {
      "cell_type": "code",
      "source": [
        "def calc_vat(gross, vatpc=17.5):\n",
        "  net = gross/(1 + (vatpc/100))\n",
        "  print(net)\n",
        "  vat = gross - net\n",
        "  return [f'{net:05.2f}', f'{vat:05.2f}']\n",
        "\n",
        "result = calc_vat(42.30)\n",
        "\n",
        "print(calc_vat(9.55))"
      ],
      "metadata": {
        "colab": {
          "base_uri": "https://localhost:8080/"
        },
        "id": "ZI1Phq6MAaEx",
        "outputId": "cbc6b7eb-3767-472a-f410-a28b30fb6d39"
      },
      "execution_count": 16,
      "outputs": [
        {
          "output_type": "stream",
          "name": "stdout",
          "text": [
            "35.99999999999999\n",
            "8.127659574468085\n",
            "['08.13', '01.42']\n"
          ]
        }
      ]
    },
    {
      "cell_type": "code",
      "source": [
        "def scope_test1():\n",
        "   result = 4\n",
        "   print('old',result)\n",
        "\n",
        "scope_test1()\n",
        "print(result)\n",
        "def scope_test2(): \n",
        "  global result\n",
        "  result = 42\n",
        "scope_test2()\n",
        "print(result)"
      ],
      "metadata": {
        "colab": {
          "base_uri": "https://localhost:8080/"
        },
        "id": "acJ-m3MVCzXX",
        "outputId": "577848ba-47d4-426b-e03a-52adca47b22b"
      },
      "execution_count": 22,
      "outputs": [
        {
          "output_type": "stream",
          "name": "stdout",
          "text": [
            "old 4\n",
            "42\n",
            "42\n"
          ]
        }
      ]
    },
    {
      "cell_type": "code",
      "source": [
        "def outer():\n",
        "    num = 42\n",
        "    def inner():\n",
        "        print(num, \"in inner\")\n",
        "    inner()\n",
        "    print(num, \"in outer\")\n",
        "outer()\n",
        "inner()"
      ],
      "metadata": {
        "colab": {
          "base_uri": "https://localhost:8080/",
          "height": 244
        },
        "id": "xJgcU6sUFLN7",
        "outputId": "5600d276-1c9f-4666-a8e6-999c03dad18d"
      },
      "execution_count": 23,
      "outputs": [
        {
          "output_type": "stream",
          "name": "stdout",
          "text": [
            "42 in inner\n",
            "42 in outer\n"
          ]
        },
        {
          "output_type": "error",
          "ename": "NameError",
          "evalue": "ignored",
          "traceback": [
            "\u001b[0;31m---------------------------------------------------------------------------\u001b[0m",
            "\u001b[0;31mNameError\u001b[0m                                 Traceback (most recent call last)",
            "\u001b[0;32m<ipython-input-23-ee1ec95e43bf>\u001b[0m in \u001b[0;36m<module>\u001b[0;34m()\u001b[0m\n\u001b[1;32m      6\u001b[0m     \u001b[0mprint\u001b[0m\u001b[0;34m(\u001b[0m\u001b[0mnum\u001b[0m\u001b[0;34m,\u001b[0m \u001b[0;34m\"in outer\"\u001b[0m\u001b[0;34m)\u001b[0m\u001b[0;34m\u001b[0m\u001b[0;34m\u001b[0m\u001b[0m\n\u001b[1;32m      7\u001b[0m \u001b[0mouter\u001b[0m\u001b[0;34m(\u001b[0m\u001b[0;34m)\u001b[0m\u001b[0;34m\u001b[0m\u001b[0;34m\u001b[0m\u001b[0m\n\u001b[0;32m----> 8\u001b[0;31m \u001b[0minner\u001b[0m\u001b[0;34m(\u001b[0m\u001b[0;34m)\u001b[0m\u001b[0;34m\u001b[0m\u001b[0;34m\u001b[0m\u001b[0m\n\u001b[0m",
            "\u001b[0;31mNameError\u001b[0m: name 'inner' is not defined"
          ]
        }
      ]
    },
    {
      "cell_type": "code",
      "source": [
        "result = 3\n",
        "def my_func():\n",
        "    result = 12\n",
        "    def scope_test():\n",
        "        nonlocal result\n",
        "        if result < 45:\n",
        "            result += 1\n",
        "            scope_test()\n",
        "    scope_test()\n",
        "    print(result, \"from my_func\")\n",
        "my_func()\n",
        "print(result, \"from main\")"
      ],
      "metadata": {
        "colab": {
          "base_uri": "https://localhost:8080/"
        },
        "id": "NwpMmcytFlRF",
        "outputId": "94467489-3ec2-4b63-cc4f-001598ee705c"
      },
      "execution_count": 24,
      "outputs": [
        {
          "output_type": "stream",
          "name": "stdout",
          "text": [
            "45 from my_func\n",
            "3 from main\n"
          ]
        }
      ]
    },
    {
      "cell_type": "code",
      "source": [
        "def my_func():\n",
        "  \"\"\" my_func has no parameters\n",
        "        and prints 'Hello'.\n",
        "  \"\"\"\n",
        "  print(\"Hello\")"
      ],
      "metadata": {
        "id": "1AGA-hNpGGyv"
      },
      "execution_count": 26,
      "outputs": []
    },
    {
      "cell_type": "code",
      "source": [
        "compare=lambda a, b: -1 if a < b else (+1 if a > b else 0)\n",
        "x = 42 \n",
        "y=3\n",
        "print(\"a>b\", compare(x, y))"
      ],
      "metadata": {
        "colab": {
          "base_uri": "https://localhost:8080/"
        },
        "id": "gVP7Tnq5G01p",
        "outputId": "8c150c74-5fea-4add-9ad0-a8aea90cc83e"
      },
      "execution_count": 30,
      "outputs": [
        {
          "output_type": "stream",
          "name": "stdout",
          "text": [
            "a>b 1\n"
          ]
        }
      ]
    }
  ]
}